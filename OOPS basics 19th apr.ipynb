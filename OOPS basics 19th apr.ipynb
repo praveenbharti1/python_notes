{
 "cells": [
  {
   "cell_type": "markdown",
   "metadata": {
    "id": "WJd4xQQ6kvOm"
   },
   "source": [
    "# Objected Oriented Python Topics\n",
    "\n",
    "- Objects and Classes\n",
    "\n",
    "- Inheritance\n"
   ]
  },
  {
   "cell_type": "markdown",
   "metadata": {
    "id": "HLNger8TGctC"
   },
   "source": [
    "Object Oriented Programming is a paradigm of programming used to represent real-world objects in programs.\n",
    "\n",
    "Real-world objects have certain properties and behaviours. These are modelled with Classes and Objects in Python. \n",
    "\n",
    "Properties or Data Fields capture the state of real-world objects and Methods capture the behavior of real-world objects "
   ]
  },
  {
   "cell_type": "markdown",
   "metadata": {
    "id": "1sEfWEszkvOo"
   },
   "source": [
    "\n",
    "# Objects and Classes\n",
    "\n",
    "- *Classes* and *Objects* are the two main aspects of Object Oriented Programming (OOP)\n",
    "\n",
    "- A **class** creates a new *type* (remember data types?)\n",
    "    - where **objects** are instances of the **class** type\n",
    "\n",
    "![Objects and Classses](https://i.imgur.com/c82ZQmfl.png \"Instantiating\")\n",
    "\n",
    "*Fig 1 - Instantiating*\n",
    "\n"
   ]
  },
  {
   "cell_type": "code",
   "execution_count": null,
   "metadata": {
    "colab": {
     "base_uri": "https://localhost:8080/"
    },
    "executionInfo": {
     "elapsed": 4,
     "status": "ok",
     "timestamp": 1681880580429,
     "user": {
      "displayName": "Jitendra Rathod",
      "userId": "08588782662248261812"
     },
     "user_tz": -330
    },
    "id": "heTtTM7OkvOq",
    "outputId": "eb941095-cb2e-4a72-b55e-eeffcce502d0",
    "tags": []
   },
   "outputs": [
    {
     "name": "stdout",
     "output_type": "stream",
     "text": [
      "<__main__.Person object at 0x7f1014f33040>\n"
     ]
    }
   ],
   "source": [
    "# create an empty class called `Person`\n",
    "# (NOTE: class names always begin with a capital letter!)\n",
    "class Person:\n",
    "    pass # empty block\n",
    "\n",
    "# Create object `p` from class `Person`\n",
    "p = Person()\n",
    "\n",
    "# Print `p` \n",
    "print(p)"
   ]
  },
  {
   "cell_type": "markdown",
   "metadata": {
    "id": "nDs1MeJUkvOy"
   },
   "source": [
    "### Attributes of a Class\n",
    "\n",
    "- **(Data) Fields**: Variables that belong to an object or class are referred to as fields\n",
    "\n",
    "    - Objects can store data using ordinary variables that *belong* to the object\n",
    "    \n",
    "- **Methods**: Objects can also have functionality by using functions that belong to a class\n",
    "\n",
    "    - Such functions are called methods of the class\n",
    "\n",
    "\n",
    "- Collectively, the **fields** and **methods** can be referred to as the **attributes** of that class.\n",
    "\n",
    "![Phone Fields and Methods](https://i.imgur.com/bpI6Kswl.jpg)\n",
    "\n",
    "*Fig 2a - Data Fields (Properties) and Methods*\n",
    "\n",
    "![Car Fields and Methods](https://i.imgur.com/LtHHg3wl.jpg)\n",
    "\n",
    "*Fig 2b - Data Fields (Properties) and Methods*"
   ]
  },
  {
   "cell_type": "markdown",
   "metadata": {
    "id": "gBfpsGunBPcR"
   },
   "source": [
    "### Methods"
   ]
  },
  {
   "cell_type": "code",
   "execution_count": null,
   "metadata": {
    "id": "Vr4M81T0kvOz",
    "tags": []
   },
   "outputs": [],
   "source": [
    "# create a class called `Person`\n",
    "class Person:\n",
    "    # create a new built in method called say_hi\n",
    "    def say_hi(self):\n",
    "        print('Hello, how are you?')\n",
    "\n",
    "# instantiate object `p` from `Person` class\n",
    "p = Person()\n",
    "\n",
    "# run the built-in method from object `p`\n",
    "p.say_hi()"
   ]
  },
  {
   "cell_type": "markdown",
   "metadata": {
    "id": "TbBVf_V5kvO5"
   },
   "source": [
    "- Notice that the `say_hi` method takes no parameters when calling it in the object \n",
    "\n",
    "    - but still has the `self` in the class function definition\n",
    "\n",
    "   "
   ]
  },
  {
   "cell_type": "markdown",
   "metadata": {
    "id": "M6s7X-z7sNlI"
   },
   "source": [
    "##### `self` keyword\n",
    "\n",
    "- Class methods have only one specific difference from ordinary functions \n",
    "  - they must have an extra first parameter that has to be added to the beginning of the parameter list\n",
    "  - by convention, it is given the name `self`.\n",
    "- do not give a value for this parameter when you call the method \n",
    "  - Python will automatically provide it \n",
    "  - this particular variable refers to the object itself\n",
    "  "
   ]
  },
  {
   "cell_type": "markdown",
   "metadata": {
    "id": "GEvK-AKFtZBS"
   },
   "source": [
    "### Data Fields\n",
    "\n",
    "- we have already discussed the functionality part of classes and objects (i.e. *methods*), \n",
    "  \n",
    "  - now let us learn about the data part. \n",
    " \n",
    "- the data part, i.e. *fields*, are nothing but ordinary variables that are bound to the *namespaces* of the classes and objects\n",
    "\n",
    "    - recall scope of variables in functions, this works similar to that, but at `class` and `object` levels"
   ]
  },
  {
   "cell_type": "markdown",
   "metadata": {
    "id": "8ZG1c9OksIip"
   },
   "source": [
    "\n",
    "##### `__init__` method: the constructor function\n",
    "\n",
    "- There are many method names which have special significance in Python classes \n",
    "\n",
    "- We will see the significance of the `__init__` method \n",
    "\n",
    "    - The `__init__` method is run as soon as an object of a class is *instantiated* (i.e. created)\n",
    "\n",
    "    - The method is useful to do any *initialization* you want to do with your object\n",
    "    \n",
    "        - i.e. passing initial values to your object variables"
   ]
  },
  {
   "cell_type": "code",
   "execution_count": null,
   "metadata": {
    "colab": {
     "base_uri": "https://localhost:8080/"
    },
    "executionInfo": {
     "elapsed": 377,
     "status": "ok",
     "timestamp": 1681882622707,
     "user": {
      "displayName": "Jitendra Rathod",
      "userId": "08588782662248261812"
     },
     "user_tz": -330
    },
    "id": "8X3GlE0xkvO6",
    "outputId": "f61d3333-da6c-4d9f-f171-1f174eee8fd0",
    "tags": []
   },
   "outputs": [
    {
     "name": "stdout",
     "output_type": "stream",
     "text": [
      "Hello, my name is  Jill\n"
     ]
    }
   ],
   "source": [
    "# create Class called `Person`\n",
    "class Person:\n",
    "    \n",
    "    # create the __init__ constructor function \n",
    "    def __init__(self,name):\n",
    "        self.name = name # object variable\n",
    "    \n",
    "    # create method called say_hi\n",
    "    # this will be a built-in function for this class `Person`\n",
    "    def say_hi(self):\n",
    "        print('Hello, my name is ', self.name)\n",
    "\n",
    "# instatiate an object `p` from class `Person`\n",
    "# remember to input the `name` as Class argument\n",
    "p = Person('Jill')\n",
    "\n",
    "# call built-in method\n",
    "p.say_hi()"
   ]
  },
  {
   "cell_type": "markdown",
   "metadata": {
    "id": "FWl_eR5bkvO_"
   },
   "source": [
    "- The variables under the `__init__` function have to be passed as arugments when creating the object from the class\n",
    "\n",
    "  - When creating new instance `p`, of the class `Person`\n",
    "      \n",
    "    - we do so by using the class name, followed by the arguments in the parentheses\n",
    "\n",
    "- We define the `__init__` method as taking a parameter name \n",
    "  \n",
    "  - We do not explicitly call the __init__ method, this is the special significance of this method\n",
    "\n",
    "- `self.name` means that there is something called \"name\" that is part of the object called \"self\" \n",
    "  \n",
    "  - the other `name` is a local variable\n",
    "\n",
    "<br>\n",
    "\n",
    "\n",
    "    \n",
    "\n"
   ]
  },
  {
   "cell_type": "markdown",
   "metadata": {
    "id": "JT5QI71mL6A1"
   },
   "source": [
    "### Class Variable vs. Object Variable\n",
    "\n",
    "- there are two types of *data fields*\n",
    "  - class variables\n",
    "  - object variables \n",
    "  \n",
    "- these are classified depending on whether the class or the object owns the variables respectively\n",
    "\n",
    "\n",
    "![Objects and Classses](https://i.imgur.com/c82ZQmfl.png \"Instantiating\")\n",
    "\n",
    "*Fig 3 - Class vs. Object*\n",
    "\n",
    "**class variable**:\n",
    "\n",
    "  - they can be accessed by all instances of that class\n",
    "  - here is only one copy of the class variable and when any one object makes a change to a class variable \n",
    "  - that change will be seen by all the other instances.\n",
    "\n",
    "**object variable**:\n",
    "\n",
    "  - are owned by each individual object/instance of the class\n",
    "  - each object has its own copy of the field\n",
    "  - they are not shared and are not related in any way to the field by the same name in a different instance"
   ]
  },
  {
   "cell_type": "markdown",
   "metadata": {
    "id": "51kxnFsnPGcJ"
   },
   "source": [
    "### `Robot` Class Example\n",
    "\n",
    "- it is important to learn `classes` and `objects` with examples \n",
    "  - so we will look at a `Robot` class example\n",
    "\n",
    "- We define a `Robot` class with the following attributes:\n",
    "  - Class Variables:\n",
    "    - `population`: keeps count of the number of objects instantiated from the class\n",
    "  - Class Function:\n",
    "    - `how_many`: returns the current number of robots\n",
    "  - Properties:\n",
    "    - `name`: object varible that hold the name of the current robot \n",
    "  - Methods:\n",
    "    - `say_hi`: robot says hi\n",
    "    - `die`: robot gets terminated and updates the number of total robots "
   ]
  },
  {
   "cell_type": "markdown",
   "metadata": {
    "id": "o1o6soALedtS"
   },
   "source": [
    "##### **ASIDE #1**: \n",
    "\n",
    "- *Docstrings*:\n",
    "  - these are string literals that appear right after the definition of a function, method, class, or module\n",
    "  - they appear when `help(function_name)` is run "
   ]
  },
  {
   "cell_type": "code",
   "execution_count": 14,
   "metadata": {
    "id": "0UywmjlchQa_"
   },
   "outputs": [
    {
     "ename": "IndentationError",
     "evalue": "unexpected indent (2527272432.py, line 10)",
     "output_type": "error",
     "traceback": [
      "\u001b[1;36m  Cell \u001b[1;32mIn[14], line 10\u001b[1;36m\u001b[0m\n\u001b[1;33m    return num % 2 == 0\u001b[0m\n\u001b[1;37m    ^\u001b[0m\n\u001b[1;31mIndentationError\u001b[0m\u001b[1;31m:\u001b[0m unexpected indent\n"
     ]
    }
   ],
   "source": [
    "# Docstrings Example\n",
    "\n",
    "def is_even(num):\n",
    "    \n",
    "  # Docstring\n",
    "  \"\"\"\n",
    "  Input: an integer\n",
    "  Output: if input is even (True for even, False for not)\n",
    "  \"\"\"\n",
    "    return num % 2 == 0 \n",
    "\n",
    "help(is_even)\n"
   ]
  },
  {
   "cell_type": "markdown",
   "metadata": {
    "id": "GUIIgv1gic5d"
   },
   "source": [
    "##### **ASIDE #2**: \n",
    "- `.format()`\n",
    "  - used to fill in the blanks of a string in the `print()` statement\n"
   ]
  },
  {
   "cell_type": "code",
   "execution_count": null,
   "metadata": {
    "id": "hbLYvbAdjJh-"
   },
   "outputs": [],
   "source": [
    "# `.format()` example\n",
    "\n",
    "pi_value = 3.14\n",
    "print(\"The value of Pi is {}\".format(pi_value))"
   ]
  },
  {
   "cell_type": "markdown",
   "metadata": {
    "id": "dJHJvZGr8crz"
   },
   "source": [
    "**Robot Class Setup**"
   ]
  },
  {
   "cell_type": "code",
   "execution_count": 1,
   "metadata": {
    "id": "ByFhF1SEL5u6"
   },
   "outputs": [],
   "source": [
    "# Define a class called Robot\n",
    "class Robot:\n",
    "    \n",
    "    \"\"\"Represents a robot, with a name.\"\"\" # Docstrings\n",
    "\n",
    "      # Class Variable: population\n",
    "    population = 0\n",
    "\n",
    "      # Constructor Function: __init__()\n",
    "    def __init__(self, name):\n",
    "        \n",
    "        \"\"\"Initializes the data.\"\"\" # Docstrings\n",
    "        self.name = name # Object Variable\n",
    "        print(\"(Initializing {})\".format(self.name))\n",
    "\n",
    "          # When a new robot is created, the robot\n",
    "          # adds to the population\n",
    "        Robot.population += 1\n",
    "\n",
    "      # Object Method: die()\n",
    "    def die(self):\n",
    "        \"\"\"I am dying.\"\"\" # Docstrings\n",
    "        print(\"{} is being destroyed!\".format(self.name))\n",
    "\n",
    "        Robot.population -= 1\n",
    "\n",
    "        if Robot.population == 0:\n",
    "            print(\"{} was the last one.\".format(self.name))\n",
    "        else:\n",
    "            print(\"There are still {:d} robots working.\".format(\n",
    "                Robot.population))\n",
    "\n",
    "      # Object Method: say_hi()\n",
    "    def say_hi(self):\n",
    "        \"\"\"Greeting by the robot. \n",
    "        Yeah, they can do that.\"\"\" # Docstrings\n",
    "        print(\"Greetings, my masters call me {}.\".format(self.name))\n",
    "\n",
    "      # Class Method: how_many() \n",
    "    @classmethod\n",
    "    def how_many(cls):\n",
    "        \"\"\"Prints the current population.\"\"\" # Docstrings\n",
    "        print(\"We have {:d} robots.\".format(cls.population))\n"
   ]
  },
  {
   "cell_type": "markdown",
   "metadata": {
    "id": "-vIks-iNNE3O"
   },
   "source": [
    "##### **Explanation of Robot Class Setup**\n",
    "\n",
    "**object variables**\n",
    "\n",
    "- the `name` variable belongs to the object (it is assigned using `self`) and hence is an *object variable*\n",
    "\n",
    "- we refer to the *object variable* name using `self.name` notation in the methods of that object\n",
    "\n",
    "- **NOTE**: an *object variable* with the same name as a *class variable* will hide the class variable!\n",
    "\n",
    "- instead of `Robot.population`, we could have also used `self.__class__.population` because every object refers to its class via the `self.__class__` attribute\n",
    "\n",
    "\n",
    "**object methods**\n",
    "\n",
    "- in the `say_hi` built-in object method, the robot outputs a greeting \n",
    "\n",
    "- in the `die` built-in object method, we simply decrease the `Robot.population` count by 1\n",
    "\n",
    "**docstrings**\n",
    "\n",
    "- in this program, we see the use of `docstrings` for classes as well as methods\n",
    "  - we can access the class docstring using `Robot.__doc__` and the method docstring as `Robot.say_hi.__doc__`\n",
    "\n",
    "\n",
    "**constructor function**\n",
    "\n",
    "- observe that the `__init__` method is used to initialize the `Robot` instance with a name \n",
    "  - in this method, we increase the population count by 1 since we have one more robot being added \n",
    "  - also observe that the values of `self.name` is specific to each object which indicates the nature of object variables\n",
    "\n",
    "\n",
    "**class variable**\n",
    "\n",
    "- `population` belongs to the `Robot` class \n",
    "  - hence is a *class variable* \n",
    "\n",
    "- thus, we refer to the `population` *class variable* as `Robot.population` and not as `self.population` \n",
    "\n",
    "**class function**\n",
    "\n",
    "- the `how_many` is actually a method that belongs to the class and not to the object\n",
    "\n",
    "- this means we can define it as either a `classmethod` or a `staticmethod` depending on whether we need to know which class we are part of\n",
    "  - since we refer to a *class variable*, let's use `classmethod`\n",
    "\n",
    "- we have marked the `how_many` method as a class method using a decorator\n",
    "\n",
    "- *decorators* can be imagined to be a shortcut to calling a wrapper function (i.e. a function that \"wraps\" around another function so that it can do something before or after the inner function), so applying the `@classmethod` decorator is the same as calling:\n",
    "```\n",
    "how_many = classmethod(how_many)\n",
    "```\n",
    "\n",
    "**public vs. private attributes**\n",
    "\n",
    "- all class members are public\n",
    "  - *One exception*: if you use data members with names using the double underscore prefix such as `__privatevar`, Python uses name-mangling to effectively make it a private variable.\n",
    "\n",
    "- the convention followed is that any variable that is to be used only within the class or object should begin with an underscore and all other names are public and can be used by other classes/objects \n",
    "  - remember that this is only a convention and is not enforced by Python (except for the double underscore prefix)"
   ]
  },
  {
   "cell_type": "code",
   "execution_count": 2,
   "metadata": {
    "colab": {
     "base_uri": "https://localhost:8080/"
    },
    "executionInfo": {
     "elapsed": 398,
     "status": "ok",
     "timestamp": 1681884578938,
     "user": {
      "displayName": "Jitendra Rathod",
      "userId": "08588782662248261812"
     },
     "user_tz": -330
    },
    "id": "jVkC1YkINIrM",
    "outputId": "4d030c68-465b-41ee-ac89-e9da47bbd251"
   },
   "outputs": [
    {
     "name": "stdout",
     "output_type": "stream",
     "text": [
      "(Initializing R2-D2)\n",
      "Greetings, my masters call me R2-D2.\n",
      "We have 1 robots.\n",
      "(Initializing C-3PO)\n",
      "Greetings, my masters call me C-3PO.\n",
      "We have 2 robots.\n",
      "\n",
      "Robots can do some work here.\n",
      "\n",
      "Robots have finished their work. So let's destroy them.\n",
      "R2-D2 is being destroyed!\n",
      "There are still 1 robots working.\n",
      "C-3PO is being destroyed!\n",
      "C-3PO was the last one.\n",
      "We have 0 robots.\n"
     ]
    }
   ],
   "source": [
    "# Using the above Robot Class setup\n",
    "\n",
    "#------------------------------------------------------\n",
    "# Initialize Robot 1 called 'R2-D2' in `droid1`\n",
    "droid1 = Robot(\"R2-D2\")\n",
    "\n",
    "# Call the Built-In Object Function for `droid1`\n",
    "droid1.say_hi()\n",
    "\n",
    "# Call the Class Function\n",
    "Robot.how_many()\n",
    "\n",
    "#------------------------------------------------------\n",
    "# Initialize Robot 2 called 'C-3PO' \n",
    "droid2 = Robot(\"C-3PO\")\n",
    "\n",
    "# Call the Built-In Object Function for droid2\n",
    "droid2.say_hi()\n",
    "\n",
    "# Call the Class Function\n",
    "Robot.how_many()\n",
    "\n",
    "#------------------------------------------------------\n",
    "# Print a note about Robots working\n",
    "print(\"\\nRobots can do some work here.\\n\")\n",
    "\n",
    "# Print a note about destroying Robots\n",
    "print(\"Robots have finished their work. So let's destroy them.\")\n",
    "\n",
    "#------------------------------------------------------\n",
    "# Use Built-In Object Functions \n",
    "droid1.die()\n",
    "droid2.die()\n",
    "\n",
    "# Call the Class Function\n",
    "Robot.how_many()"
   ]
  },
  {
   "cell_type": "markdown",
   "metadata": {
    "id": "JzVyRGLnD-v1"
   },
   "source": [
    "# Inheritance\n",
    "\n",
    "- a major benefit of OOP is reuse of code \n",
    "  - one way this is achieved is through *inheritance* mechanism\n",
    "\n",
    "- inheritance can be best imagined as implementing a type (parent class) and subtype (child class) relationship between classes\n",
    "\n",
    "![Inheritance Schematic](https://i.imgur.com/DF6P030l.jpg \"Inheritance Schematic\")"
   ]
  },
  {
   "cell_type": "markdown",
   "metadata": {
    "id": "1EhpG7Q2Higf"
   },
   "source": [
    "### School Members Example \n",
    "\n",
    "##### **Problem Statement**:\n",
    "\n",
    "- suppose you want to write a program for a college which has to keep track of \n",
    "  - *teachers* \n",
    "  - *students* \n",
    "\n",
    "- they both have some common characteristics such as \n",
    "  - name, \n",
    "  - age and \n",
    "  - address \n",
    "  \n",
    "- they also have specific characteristics such as \n",
    "  - for *teachers*\n",
    "    - salary\n",
    "    - courses  \n",
    "    - leaves  \n",
    "  - for *students*\n",
    "    - marks  \n",
    "    - fees\n",
    "\n",
    "\n"
   ]
  },
  {
   "cell_type": "markdown",
   "metadata": {
    "id": "qSmfwlxIOejM"
   },
   "source": [
    "##### **Solution Strategy:**\n",
    "\n",
    "\n",
    "**independent classes**\n",
    "- you can create two independent classes for each type (*teachers* and *students*), but adding a new common characteristic would mean adding to both of these independent classes\n",
    "  - this quickly becomes unwieldy\n",
    "\n",
    "**inherited classes**\n",
    "- a better way would be to create a common class called `SchoolMember` and then have the *teacher* and *student* classes **inherit** from this class\n",
    "  - i.e. they will become sub-types (child classes) of this type (parent class) and then we can add specific characteristics to these sub-types\n",
    "\n",
    "- there are many advantages to this approach\n",
    "  1. if we add/change any functionality in `SchoolMember`, this is automatically reflected in the subtypes as well\n",
    "    - for example, you can add a new ID card field for both *teachers* and *students* by simply adding it to the `SchoolMember` class \n",
    "    - however, changes in one subtype (child class) does not affect other subtype (child class)\n",
    "    \n",
    "  2. another advantage is that you can refer to a *teacher* or *student* object as a `SchoolMember` object which could be useful in some situations such as counting of the number of school members \n",
    "    - this is called polymorphism where a sub-type can be substituted in any situation where a parent type is expected, \n",
    "    - i.e. the object can be treated as an instance of the parent class.\n",
    "\n",
    "  3. also observe that we reuse the code of the parent class and we do not need to repeat it in the child classes as we would have had to in case we had used independent classes\n",
    "\n",
    "- the `SchoolMember` class in this situation is known as the *base class*, *parent class* or the *superclass*. \n",
    "- the *Teacher* and *Student* classes are called the *derived classes*, *child class* or *subclasses*\n",
    "\n",
    "\n",
    "\n"
   ]
  },
  {
   "cell_type": "markdown",
   "metadata": {
    "id": "miotP7j2SKB6"
   },
   "source": [
    "##### **Implementing the Strategy:**\n",
    "\n",
    "###### Create a Parent Class\n",
    "\n",
    "- parent class called `SchoolMember`"
   ]
  },
  {
   "cell_type": "code",
   "execution_count": 1,
   "metadata": {
    "id": "tm9QlKEqSLYl"
   },
   "outputs": [],
   "source": [
    "class SchoolMember:\n",
    "    '''Represents any school member.'''\n",
    "    def __init__(self, name, age):\n",
    "        self.name = name\n",
    "        self.age = age\n",
    "        print('(Initialized SchoolMember: {})'.format(self.name))\n",
    "\n",
    "    def tell(self):\n",
    "        '''Tell my details.'''\n",
    "        print('Name:\"{}\" Age:\"{}\"'.format(self.name, self.age), end=\" \")"
   ]
  },
  {
   "cell_type": "markdown",
   "metadata": {
    "id": "KlfAGf9TSXmc"
   },
   "source": [
    "##### Create a Child Class\n",
    "\n",
    "- child class `TeacherClass` from Parent `SchoolMember`"
   ]
  },
  {
   "cell_type": "code",
   "execution_count": 2,
   "metadata": {
    "id": "5_GFsmVBSd5y"
   },
   "outputs": [],
   "source": [
    "class Teacher(SchoolMember):\n",
    "    '''Represents a teacher.'''\n",
    "    def __init__(self, name, age, salary):\n",
    "        SchoolMember.__init__(self, name, age)\n",
    "        self.salary = salary\n",
    "        print('(Initialized Teacher: {})'.format(self.name))\n",
    "\n",
    "    def tell(self):\n",
    "        SchoolMember.tell(self)\n",
    "        print('Salary: \"{:d}\"'.format(self.salary))"
   ]
  },
  {
   "cell_type": "markdown",
   "metadata": {
    "id": "W7W9CS9nS5S-"
   },
   "source": [
    "##### Create a Child Class\n",
    "\n",
    "- child class `StudentClass` from Parent `SchoolMember`"
   ]
  },
  {
   "cell_type": "code",
   "execution_count": 3,
   "metadata": {
    "id": "-oOc2IFpS4wN"
   },
   "outputs": [],
   "source": [
    "class Student(SchoolMember):\n",
    "    '''Represents a student.'''\n",
    "    def __init__(self, name, age, grade):\n",
    "        SchoolMember.__init__(self, name, age)\n",
    "        self.grade = grade\n",
    "        print('(Initialized Student: {})'.format(self.name))\n",
    "\n",
    "    def tell(self):\n",
    "        SchoolMember.tell(self)\n",
    "        print('Grade: \"{:d}\"'.format(self.grade))"
   ]
  },
  {
   "cell_type": "markdown",
   "metadata": {
    "id": "K8O-L9WSTB1k"
   },
   "source": [
    "##### Initialize a new *Teacher Object* and *Student Object*"
   ]
  },
  {
   "cell_type": "code",
   "execution_count": 4,
   "metadata": {
    "colab": {
     "base_uri": "https://localhost:8080/"
    },
    "executionInfo": {
     "elapsed": 403,
     "status": "ok",
     "timestamp": 1681886319089,
     "user": {
      "displayName": "Jitendra Rathod",
      "userId": "08588782662248261812"
     },
     "user_tz": -330
    },
    "id": "kdq7ctj5TdWY",
    "outputId": "822f0c20-e17f-4fb0-fb55-5d6fe1a245a2"
   },
   "outputs": [
    {
     "name": "stdout",
     "output_type": "stream",
     "text": [
      "(Initialized SchoolMember: Mrs. Alyssa)\n",
      "(Initialized Teacher: Mrs. Alyssa)\n",
      "\n",
      "(Initialized SchoolMember: Daniel)\n",
      "(Initialized Student: Daniel)\n",
      "\n",
      "Name:\"Mrs. Alyssa\" Age:\"40\" Salary: \"30000\"\n",
      "Name:\"Daniel\" Age:\"25\" Grade: \"75\"\n"
     ]
    }
   ],
   "source": [
    "# initialize `t` - teacher object \n",
    "t = Teacher('Mrs. Alyssa', 40, 30000)\n",
    "# name: Mrs. Alyssa\n",
    "# age: 40\n",
    "# salary: 30000\n",
    "\n",
    "# prints a blank line\n",
    "print()\n",
    "\n",
    "# initialize `s` - student object\n",
    "s = Student('Daniel', 25, 75)\n",
    "# name: Daniel\n",
    "# age: 25\n",
    "# grade: 75\n",
    "\n",
    "# prints a blank line\n",
    "print()\n",
    "\n",
    "members = [t, s]\n",
    "for member in members:\n",
    "    # Works for both Teachers and Students\n",
    "    member.tell()"
   ]
  },
  {
   "cell_type": "markdown",
   "metadata": {
    "id": "JwmnZW89XExE"
   },
   "source": [
    "### Explanation of Inheritance\n",
    "\n",
    "- to use inheritance, we specify the parent-class names in a tuple following the class name in the class definition \n",
    "  - for example, `class Teacher(SchoolMember)`\n",
    "\n",
    "- next, we observe that the `__init__` method of the parent-class is explicitly called using the `self` variable so that we can initialize the parent class part of an instance in the child-class \n",
    "  - since we are defining a `__init__` method in *Teacher* and *Student* subclasses, Python does not automatically call the constructor of the child-class `SchoolMember`, you have to explicitly call it yourself\n",
    "  - in contrast, if we had not defined an `__init__` method in the child-classes, Python will call the constructor of the parent-class automatically\n",
    "\n",
    "- while we could treat instances of *Teacher* or *Student* as we would an instance of `SchoolMember` and access the tell method of `SchoolMember` by simply typing `Teacher.tell` or `Student.tell`, we instead define another `tell` method in each child-class (using the `tell` method of `SchoolMember` for part of it) to tailor it for that subclass   \n",
    "  - because we have done this, when we write `Teacher.tell`, Python uses the `tell` method for that child-class vs the parent-class\n",
    "  - however, if we did not have a `tell` method in the child-class, Python would use the `tell` method in the parent-class \n",
    "  - Python always starts looking for methods in the actual child-class type first\n",
    "    - and if it doesn’t find anything, it starts looking at the methods in the child-class's parent-classes, one-by-one in the order they are specified in the tuple in the class definition\n",
    "\n",
    "- here we only have 1 base class, but you can have *multiple parent classes*\n",
    "\n",
    "- a note on terminology - if more than one class is listed in the inheritance tuple, then it is called **multiple inheritance**\n",
    "\n",
    "- the `end` parameter is used in the `print` function in the parent-class's `tell()` method to print a line and allow the next `print` to continue on the same line\n",
    "  - this is a trick to make `print` not print a `\\n` (newline) symbol at the end of the printing"
   ]
  }
 ],
 "metadata": {
  "colab": {
   "authorship_tag": "ABX9TyMR20MLdyEWwpNTY0uBogsf",
   "provenance": []
  },
  "kernelspec": {
   "display_name": "Python 3 (ipykernel)",
   "language": "python",
   "name": "python3"
  },
  "language_info": {
   "codemirror_mode": {
    "name": "ipython",
    "version": 3
   },
   "file_extension": ".py",
   "mimetype": "text/x-python",
   "name": "python",
   "nbconvert_exporter": "python",
   "pygments_lexer": "ipython3",
   "version": "3.10.9"
  }
 },
 "nbformat": 4,
 "nbformat_minor": 4
}
