{
 "cells": [
  {
   "cell_type": "markdown",
   "metadata": {
    "id": "VtZth2KZl1ZJ"
   },
   "source": [
    "#Python Introduction\n",
    "\n",
    "Python is interpreted, object-oriented & high level programming language\n",
    "\n",
    "interpreted -          code runs line by line.\n",
    "\n",
    "object-oriented -      everything acts like object in python\n",
    "\n",
    "high_level -           Syntax is similar to english language, easy to understand and maintain\n",
    "\n",
    "Guido van rosum created python & released in year 1991."
   ]
  },
  {
   "cell_type": "markdown",
   "metadata": {
    "id": "lpSmGhBc8LLD"
   },
   "source": [
    "# Hello World\n",
    "\n",
    "- `print` function is used to print the content inside the quotes \n",
    "- can be in 'single quotes' or \"double quotes\""
   ]
  },
  {
   "cell_type": "code",
   "execution_count": null,
   "metadata": {
    "colab": {
     "base_uri": "https://localhost:8080/"
    },
    "executionInfo": {
     "elapsed": 479,
     "status": "ok",
     "timestamp": 1680079770446,
     "user": {
      "displayName": "Jitendra Rathod",
      "userId": "08588782662248261812"
     },
     "user_tz": -330
    },
    "id": "SYwfRR4V54WD",
    "outputId": "4b18a712-cea3-4026-eb68-75d660c7f303"
   },
   "outputs": [
    {
     "name": "stdout",
     "output_type": "stream",
     "text": [
      "Hello World\n"
     ]
    }
   ],
   "source": [
    "print(\"Hello World\")"
   ]
  },
  {
   "cell_type": "markdown",
   "metadata": {
    "id": "DtT5-GHsBSgr"
   },
   "source": [
    "### What just happened? \n",
    "\n",
    "-  when you run Python code\n",
    "    - the computer interprets the code and executes it \n",
    "\n",
    "- `print` is a function which will display whatever is provided in brackets \n",
    "    - in case of a mathematical expression, the result is evaluated and displayed\n",
    "    - if there is a string, it is simply displayed \n",
    "\n",
    "- there are many such functions in Python built for specifc tasks\n",
    "    - simply call the function and give it an input\n",
    "\n",
    "- `type` is another such function  \n",
    "    - it displays the type of the data provided in brackets \n"
   ]
  },
  {
   "cell_type": "markdown",
   "metadata": {
    "id": "-DUk2TjmHKcp"
   },
   "source": [
    "#### Alright!\n",
    "\n",
    "Let's see you run a python code now , \n",
    "\n",
    "### Excercise : 1\n",
    "\n",
    "Write a print function that prints **\"I am new to python!\"**"
   ]
  },
  {
   "cell_type": "markdown",
   "metadata": {
    "id": "nkurFbdhUamk"
   },
   "source": [
    "\n",
    "\n",
    "---\n",
    "\n"
   ]
  },
  {
   "cell_type": "markdown",
   "metadata": {
    "id": "JowdhPi6HKcp"
   },
   "source": [
    "# Help Command\n",
    "\n",
    "- shows the description about the object that is given to the command\n",
    "- lets see how the `help()` command works for the `print()` command"
   ]
  },
  {
   "cell_type": "code",
   "execution_count": null,
   "metadata": {
    "colab": {
     "base_uri": "https://localhost:8080/"
    },
    "executionInfo": {
     "elapsed": 7,
     "status": "ok",
     "timestamp": 1680079770853,
     "user": {
      "displayName": "Jitendra Rathod",
      "userId": "08588782662248261812"
     },
     "user_tz": -330
    },
    "id": "hYKgvDNpHKcq",
    "outputId": "bd73c889-706a-4f32-84f6-58c0dad7af28"
   },
   "outputs": [
    {
     "name": "stdout",
     "output_type": "stream",
     "text": [
      "Help on built-in function print in module builtins:\n",
      "\n",
      "print(...)\n",
      "    print(value, ..., sep=' ', end='\\n', file=sys.stdout, flush=False)\n",
      "    \n",
      "    Prints the values to a stream, or to sys.stdout by default.\n",
      "    Optional keyword arguments:\n",
      "    file:  a file-like object (stream); defaults to the current sys.stdout.\n",
      "    sep:   string inserted between values, default a space.\n",
      "    end:   string appended after the last value, default a newline.\n",
      "    flush: whether to forcibly flush the stream.\n",
      "\n"
     ]
    }
   ],
   "source": [
    "help(print)"
   ]
  },
  {
   "cell_type": "markdown",
   "metadata": {
    "id": "5o0nTXQs_wli"
   },
   "source": [
    "# Comments\n",
    "\n",
    "- comments are text in code that is not executed by the interpreter \n",
    "  - in Python, comments begin with `#`\n",
    "- comments may be used creatively to comment out pieces of code to stop the interpreter from running it\n",
    "- shortcut to toggle comment on a line \n",
    "  - `CMD + /` (macOS) \n",
    "  - `Ctrl + /` (Windows)"
   ]
  },
  {
   "cell_type": "code",
   "execution_count": null,
   "metadata": {
    "colab": {
     "base_uri": "https://localhost:8080/"
    },
    "executionInfo": {
     "elapsed": 6,
     "status": "ok",
     "timestamp": 1680079770853,
     "user": {
      "displayName": "Jitendra Rathod",
      "userId": "08588782662248261812"
     },
     "user_tz": -330
    },
    "id": "8yhm3nX-BGyM",
    "outputId": "bf70daf7-3c6d-40a6-a437-393869efae32"
   },
   "outputs": [
    {
     "name": "stdout",
     "output_type": "stream",
     "text": [
      "this is not a comment\n",
      "this is not a comment either\n"
     ]
    }
   ],
   "source": [
    "# this is a single comment\n",
    "print('this is not a comment')\n",
    "\n",
    "# comments can be added like this as well\n",
    "\"\"\"\n",
    "This is a \n",
    "multi-line comment\n",
    "\"\"\"\n",
    "print(\"this is not a comment either\") "
   ]
  },
  {
   "cell_type": "markdown",
   "metadata": {
    "id": "DRjcmvT7HKcr"
   },
   "source": [
    "#### Now, let's try to write our own comments \n",
    "\n",
    "### Excercise : 2\n",
    "\n",
    "To the program where you printed out `I am Learning python`\n",
    "\n",
    "Add a comment `It is possible to write within my code blocks without python using #`"
   ]
  },
  {
   "cell_type": "markdown",
   "metadata": {
    "id": "22s4O8ASG5zi"
   },
   "source": [
    "# Variables\n",
    "\n",
    "- data entities that takes a value "
   ]
  },
  {
   "cell_type": "code",
   "execution_count": null,
   "metadata": {
    "colab": {
     "base_uri": "https://localhost:8080/"
    },
    "executionInfo": {
     "elapsed": 4,
     "status": "ok",
     "timestamp": 1680079770853,
     "user": {
      "displayName": "Jitendra Rathod",
      "userId": "08588782662248261812"
     },
     "user_tz": -330
    },
    "id": "JodvxoYHUGMV",
    "outputId": "68c47ad0-2855-4037-c21e-d893a1eb360f"
   },
   "outputs": [
    {
     "name": "stdout",
     "output_type": "stream",
     "text": [
      "7\n"
     ]
    }
   ],
   "source": [
    "# bind number 7 to variable 'x'\n",
    "x = 7 # the value of 7 is assigned to x \n",
    "\n",
    "# print value of 'x'\n",
    "print(x)"
   ]
  },
  {
   "cell_type": "markdown",
   "metadata": {
    "id": "V_d9kh4IXiP4"
   },
   "source": [
    "### Python Variable Naming Convention (Industry Standard)\n",
    "\n",
    "- variables names start with a lowercase letter or underscore \n",
    "  - can be followed by numbers or underscore\n",
    "- `snake_case` is the conventional way of writing variable names with multiple words\n",
    "- variable names cannot begin with a number but numers can be a part of the variable name later\n",
    "    - eg: names like: `va923`, `_app4r_`, `f8_9`, `tmp`; are allowed\n",
    "    - eg: names like: `9va23`, `#app4r_`, `f8-9`, `tm*p`; are **NOT** allowed\n",
    "\n"
   ]
  },
  {
   "cell_type": "markdown",
   "metadata": {
    "id": "x3qfxyXWHKcr"
   },
   "source": [
    "#### Let's try making a variable that contains your name then print it !\n",
    "\n",
    "### Excercise : 3 \n",
    "\n",
    "Create a variable as called `age` and add your age to it \n",
    "\n",
    "Next print out your age in your notebook !"
   ]
  },
  {
   "cell_type": "markdown",
   "metadata": {
    "id": "HOIueHltjINE"
   },
   "source": [
    "\n",
    "\n",
    "---\n",
    "\n"
   ]
  },
  {
   "cell_type": "markdown",
   "metadata": {
    "id": "MbnLml7e-kuY"
   },
   "source": [
    "# Data Types\n",
    "\n",
    "- a particular kind of data entity, defined by the values it can take\n",
    "\n",
    "- Python has several built-in data types, some of them are:\n",
    "  - *numeric* data types\n",
    "  - *text sequence* data type\n",
    "  - *sequence* data types\n",
    "  - *mapping* data type\n",
    "  - *boolean* data type\n",
    "  - *set* data type\n",
    "\n",
    "- the `type()` function is used to check the data type of something in Python"
   ]
  },
  {
   "cell_type": "markdown",
   "metadata": {
    "id": "V-Ryyr41WjJa"
   },
   "source": [
    "### Numeric Data Types\n",
    "\n",
    "- two basic numeric data types\n",
    "  1. `int`: integers \n",
    "  2. `float`: decimal numbers \n"
   ]
  },
  {
   "cell_type": "code",
   "execution_count": null,
   "metadata": {
    "colab": {
     "base_uri": "https://localhost:8080/"
    },
    "executionInfo": {
     "elapsed": 4,
     "status": "ok",
     "timestamp": 1680079770854,
     "user": {
      "displayName": "Jitendra Rathod",
      "userId": "08588782662248261812"
     },
     "user_tz": -330
    },
    "id": "VhUBnDvjWeG_",
    "outputId": "40869a36-0bac-47c6-8c93-244fbe27fe0e"
   },
   "outputs": [
    {
     "data": {
      "text/plain": [
       "int"
      ]
     },
     "execution_count": 26,
     "metadata": {},
     "output_type": "execute_result"
    }
   ],
   "source": [
    "# create int type variable\n",
    "x = 7 # 7 is an integer\n",
    "\n",
    "# check type of variable\n",
    "type(x)"
   ]
  },
  {
   "cell_type": "code",
   "execution_count": null,
   "metadata": {
    "colab": {
     "base_uri": "https://localhost:8080/"
    },
    "executionInfo": {
     "elapsed": 721,
     "status": "ok",
     "timestamp": 1680079771572,
     "user": {
      "displayName": "Jitendra Rathod",
      "userId": "08588782662248261812"
     },
     "user_tz": -330
    },
    "id": "KuCIeAxaXBpu",
    "outputId": "bb0ca0c0-ca17-4689-f725-2659855a4806"
   },
   "outputs": [
    {
     "data": {
      "text/plain": [
       "float"
      ]
     },
     "execution_count": 27,
     "metadata": {},
     "output_type": "execute_result"
    }
   ],
   "source": [
    "# create float type variable\n",
    "x = 3.14 # 3.14 is a decimal number with a characteristic and mantissa\n",
    "\n",
    "# check type of variable\n",
    "type(x)"
   ]
  },
  {
   "cell_type": "markdown",
   "metadata": {
    "id": "DOfHS6uMYNZz"
   },
   "source": [
    "### Text Sequence Types\n",
    "\n",
    "- strings are a *text sequence* type\n",
    "  - they are a sequence of characters\n",
    "  - they are immutable\n",
    "  - they are ordered\n",
    "\n"
   ]
  },
  {
   "cell_type": "code",
   "execution_count": null,
   "metadata": {
    "colab": {
     "base_uri": "https://localhost:8080/"
    },
    "executionInfo": {
     "elapsed": 10,
     "status": "ok",
     "timestamp": 1680079771572,
     "user": {
      "displayName": "Jitendra Rathod",
      "userId": "08588782662248261812"
     },
     "user_tz": -330
    },
    "id": "89E9Qtk_YfRW",
    "outputId": "a79ecfc6-89aa-4aa0-f60d-a6a7c6e5dfbf"
   },
   "outputs": [
    {
     "data": {
      "text/plain": [
       "str"
      ]
     },
     "execution_count": 28,
     "metadata": {},
     "output_type": "execute_result"
    }
   ],
   "source": [
    "# define a string \n",
    "python_string = 'DataMites is awesome!'\n",
    "\n",
    "# check type \n",
    "type(python_string)"
   ]
  },
  {
   "cell_type": "markdown",
   "metadata": {
    "id": "cLGNqpO4HKct"
   },
   "source": [
    "#### Now that we know how to find out the datatype of variables \n",
    "\n",
    "### Excercise : 5\n",
    "\n",
    "What is the datatype of these three variables : \n",
    "\n",
    "- discount = 43.8\n",
    "- height = 143\n",
    "- address = '#301, Pelican Street'"
   ]
  },
  {
   "cell_type": "markdown",
   "metadata": {
    "id": "ngbp6qMB8HCp"
   },
   "source": [
    "# Input()\n",
    "\n",
    "used to ask input data from user\n",
    "\n",
    "by default, input function treats input value as \"string\"\n",
    "\n"
   ]
  },
  {
   "cell_type": "code",
   "execution_count": null,
   "metadata": {
    "colab": {
     "base_uri": "https://localhost:8080/"
    },
    "executionInfo": {
     "elapsed": 6655,
     "status": "ok",
     "timestamp": 1680079778224,
     "user": {
      "displayName": "Jitendra Rathod",
      "userId": "08588782662248261812"
     },
     "user_tz": -330
    },
    "id": "hwduqFnf9AQf",
    "outputId": "24a76c44-8472-4b75-d845-101608e564ae"
   },
   "outputs": [
    {
     "name": "stdout",
     "output_type": "stream",
     "text": [
      "What is your name? jeet\n",
      "Welcome to the world of Python, jeet\n"
     ]
    }
   ],
   "source": [
    "name = input('What is your name? ')\n",
    "print('Welcome to the world of Python,', name )"
   ]
  },
  {
   "cell_type": "markdown",
   "metadata": {
    "id": "cyZwHE0NZf8h"
   },
   "source": [
    "### Sequence Types\n",
    "\n",
    "- there are three kinds of *sequence* types:\n",
    "  - `list`: mutable sequence\n",
    "  - `tuple`: immutable sequence\n",
    "  - `range`: immutable sequence\n"
   ]
  },
  {
   "cell_type": "markdown",
   "metadata": {
    "id": "8YpT0uyZ4bp9"
   },
   "source": [
    "##### List"
   ]
  },
  {
   "cell_type": "code",
   "execution_count": null,
   "metadata": {
    "colab": {
     "base_uri": "https://localhost:8080/"
    },
    "executionInfo": {
     "elapsed": 31,
     "status": "ok",
     "timestamp": 1680079778225,
     "user": {
      "displayName": "Jitendra Rathod",
      "userId": "08588782662248261812"
     },
     "user_tz": -330
    },
    "id": "CLOPmGjAZ0nq",
    "outputId": "49bd282f-b943-4e95-8d82-c68c0ab15912"
   },
   "outputs": [
    {
     "name": "stdout",
     "output_type": "stream",
     "text": [
      "['3', 92, 'x', 3.14]\n",
      "4\n"
     ]
    },
    {
     "data": {
      "text/plain": [
       "list"
      ]
     },
     "execution_count": 30,
     "metadata": {},
     "output_type": "execute_result"
    }
   ],
   "source": [
    "# define a list\n",
    "list_example = ['3',92,'x',3.14]\n",
    "print(list_example)\n",
    "\n",
    "# check length of the list\n",
    "print(len(list_example))\n",
    "\n",
    "# check type\n",
    "type(list_example)"
   ]
  },
  {
   "cell_type": "markdown",
   "metadata": {
    "id": "uHQcpC1n4eD4"
   },
   "source": [
    "##### Tuple"
   ]
  },
  {
   "cell_type": "code",
   "execution_count": null,
   "metadata": {
    "colab": {
     "base_uri": "https://localhost:8080/"
    },
    "executionInfo": {
     "elapsed": 25,
     "status": "ok",
     "timestamp": 1680079778225,
     "user": {
      "displayName": "Jitendra Rathod",
      "userId": "08588782662248261812"
     },
     "user_tz": -330
    },
    "id": "2dJtc4-faFva",
    "outputId": "770c45e2-043d-458d-a160-ba8839524b6e"
   },
   "outputs": [
    {
     "name": "stdout",
     "output_type": "stream",
     "text": [
      "(5, '11', 'a', 2.86)\n",
      "4\n"
     ]
    },
    {
     "data": {
      "text/plain": [
       "tuple"
      ]
     },
     "execution_count": 31,
     "metadata": {},
     "output_type": "execute_result"
    }
   ],
   "source": [
    "# define a tuple\n",
    "tuple_example = (5,'11','a',2.86)\n",
    "print(tuple_example)\n",
    "\n",
    "# check length of tuple\n",
    "print(len(tuple_example))\n",
    "\n",
    "# check type\n",
    "type(tuple_example)"
   ]
  },
  {
   "cell_type": "markdown",
   "metadata": {
    "id": "S0-c3qakBxiL"
   },
   "source": [
    "##### Tuple vs List Comparison"
   ]
  },
  {
   "cell_type": "markdown",
   "metadata": {
    "id": "Q7Mcr3g3KCvf"
   },
   "source": [
    "|Lists |Tuples |\n",
    "|------|-------|\n",
    "|ordered group of comma seperated values in *square brackets* |ordered group of comma seperated values in *parenthesis*   |\n",
    "|square brackets are mandatory |parenthesis not mandatory |\n",
    "|mutable |immutable|\n",
    "|once created, content changes *can* be made | once created, content *cannot* be changed |\n",
    "|should be chosen if content is not fixed, and keeps changing| chosen if content is fixed and never changes|\n",
    "| cannot be used as keys for dictionaries  | can be used as keys for dictionaries |\n"
   ]
  },
  {
   "cell_type": "markdown",
   "metadata": {
    "id": "nSY7saRIHKcu"
   },
   "source": [
    "#### Let's make something using lists!\n",
    "\n",
    "### Excercise : 6 \n",
    "\n",
    "Make a list of your favourite colour, food and place and save it in a list called `my_favs`\n"
   ]
  },
  {
   "cell_type": "markdown",
   "metadata": {
    "id": "2m96nP1r4fx1"
   },
   "source": [
    "#### Range\n",
    "\n",
    "###### Range is collection of numbers within given range.\n",
    "\n"
   ]
  },
  {
   "cell_type": "code",
   "execution_count": null,
   "metadata": {
    "colab": {
     "base_uri": "https://localhost:8080/"
    },
    "executionInfo": {
     "elapsed": 24,
     "status": "ok",
     "timestamp": 1680079778225,
     "user": {
      "displayName": "Jitendra Rathod",
      "userId": "08588782662248261812"
     },
     "user_tz": -330
    },
    "id": "f1gavBzpjJdx",
    "outputId": "c79f73b7-b9cc-43e3-b2ad-c23a5be99eb0"
   },
   "outputs": [
    {
     "name": "stdout",
     "output_type": "stream",
     "text": [
      "range(0, 7)\n",
      "7\n"
     ]
    },
    {
     "data": {
      "text/plain": [
       "range"
      ]
     },
     "execution_count": 32,
     "metadata": {},
     "output_type": "execute_result"
    }
   ],
   "source": [
    "# define a range\n",
    "range_example = range(7)\n",
    "print(range_example)\n",
    "\n",
    "# check length of the range\n",
    "print(len(range_example))\n",
    "\n",
    "# check type\n",
    "type(range_example)"
   ]
  },
  {
   "cell_type": "code",
   "execution_count": null,
   "metadata": {
    "colab": {
     "base_uri": "https://localhost:8080/"
    },
    "executionInfo": {
     "elapsed": 389,
     "status": "ok",
     "timestamp": 1680080019161,
     "user": {
      "displayName": "Jitendra Rathod",
      "userId": "08588782662248261812"
     },
     "user_tz": -330
    },
    "id": "4QwVQkXs7Tww",
    "outputId": "c1db53ff-0ded-4fc7-d18d-66675d1de6c5"
   },
   "outputs": [
    {
     "name": "stdout",
     "output_type": "stream",
     "text": [
      "range(0, 20, 2)\n",
      "10\n"
     ]
    },
    {
     "data": {
      "text/plain": [
       "range"
      ]
     },
     "execution_count": 42,
     "metadata": {},
     "output_type": "execute_result"
    }
   ],
   "source": [
    "# define range with (start,stop,step)\n",
    "\n",
    "# start defines starting number of range.\n",
    "# stop indicates where to stop at (n-1)\n",
    "# range defines increment in current value with respect to previous value\n",
    "\n",
    "\n",
    "range_example = range(0,20,2)\n",
    "print(range_example)\n",
    "\n",
    "# check length of the range\n",
    "print(len(range_example))\n",
    "\n",
    "# check type\n",
    "type(range_example)"
   ]
  },
  {
   "cell_type": "markdown",
   "metadata": {
    "id": "FgNReRh0HKcu"
   },
   "source": [
    "# Let's get a bit crafty with the range function \n",
    "\n",
    "### Excercise : 7\n",
    "\n",
    "Using the range function from 4 to 40 and then check the length "
   ]
  },
  {
   "cell_type": "markdown",
   "metadata": {
    "id": "NRCc4X9t7txo"
   },
   "source": [
    "### Mapping Types\n",
    "\n",
    "- `dictionary` is a mapping data type\n",
    "  - it is mutable\n",
    "  - unordered"
   ]
  },
  {
   "cell_type": "code",
   "execution_count": null,
   "metadata": {
    "colab": {
     "base_uri": "https://localhost:8080/"
    },
    "executionInfo": {
     "elapsed": 21,
     "status": "ok",
     "timestamp": 1680079778225,
     "user": {
      "displayName": "Jitendra Rathod",
      "userId": "08588782662248261812"
     },
     "user_tz": -330
    },
    "id": "V7E5S_Pi8CL5",
    "outputId": "5aa795f9-670c-464d-9deb-5eb10955eff6"
   },
   "outputs": [
    {
     "name": "stdout",
     "output_type": "stream",
     "text": [
      "{'one': 1, 'two': 2, 'three': 3}\n"
     ]
    },
    {
     "data": {
      "text/plain": [
       "dict"
      ]
     },
     "execution_count": 34,
     "metadata": {},
     "output_type": "execute_result"
    }
   ],
   "source": [
    "# define a dictionary\n",
    "b = {'one': 1, 'two': 2, 'three': 3}\n",
    "print(b)\n",
    "\n",
    "# check type\n",
    "type(b)\n"
   ]
  },
  {
   "cell_type": "code",
   "execution_count": null,
   "metadata": {
    "colab": {
     "base_uri": "https://localhost:8080/"
    },
    "executionInfo": {
     "elapsed": 21,
     "status": "ok",
     "timestamp": 1680079778226,
     "user": {
      "displayName": "Jitendra Rathod",
      "userId": "08588782662248261812"
     },
     "user_tz": -330
    },
    "id": "0_Q4462ZF0Ur",
    "outputId": "0495d80f-c0a3-4db3-d3e5-a40fc6d0c1e9"
   },
   "outputs": [
    {
     "name": "stdout",
     "output_type": "stream",
     "text": [
      "{'name': 'Praveen', 'age': 30, 'edu': 'PG'} <class 'dict'>\n"
     ]
    }
   ],
   "source": [
    "my_student = {\"name\":\"Praveen\", \"age\":30, \"edu\":\"PG\"}\n",
    "\n",
    "\n",
    "print(my_student,type(my_student))"
   ]
  },
  {
   "cell_type": "markdown",
   "metadata": {
    "id": "fwfewFSZHKcu"
   },
   "source": [
    "#### What can we do with dictionaries ? \n",
    "\n",
    "### Excercise : 8 \n",
    "\n",
    "Make a dictionary with students name and their scores !\n",
    "\n",
    "- **Student** : Jake **Score** : 70\n",
    "- **Student** : Mako **Score** : 75 \n",
    "- **Student** : Alex **Score** : 78.5"
   ]
  },
  {
   "cell_type": "markdown",
   "metadata": {
    "id": "lKKc8_txEZfZ"
   },
   "source": [
    "### Boolean Types\n",
    "\n",
    "- state of truth\n",
    "  - may be `True` or `False`"
   ]
  },
  {
   "cell_type": "code",
   "execution_count": null,
   "metadata": {
    "colab": {
     "base_uri": "https://localhost:8080/"
    },
    "executionInfo": {
     "elapsed": 19,
     "status": "ok",
     "timestamp": 1680079778226,
     "user": {
      "displayName": "Jitendra Rathod",
      "userId": "08588782662248261812"
     },
     "user_tz": -330
    },
    "id": "r-vpeu0EE2qO",
    "outputId": "89f82199-d2af-4014-f7d0-451d7690b4de"
   },
   "outputs": [
    {
     "data": {
      "text/plain": [
       "bool"
      ]
     },
     "execution_count": 36,
     "metadata": {},
     "output_type": "execute_result"
    }
   ],
   "source": [
    "# define a 'true' boolean \n",
    "boolean = True\n",
    "\n",
    "# check type\n",
    "type(boolean)"
   ]
  },
  {
   "cell_type": "code",
   "execution_count": null,
   "metadata": {
    "colab": {
     "base_uri": "https://localhost:8080/"
    },
    "executionInfo": {
     "elapsed": 18,
     "status": "ok",
     "timestamp": 1680079778226,
     "user": {
      "displayName": "Jitendra Rathod",
      "userId": "08588782662248261812"
     },
     "user_tz": -330
    },
    "id": "41VjvkEnFlTr",
    "outputId": "b160979b-170e-4ccf-cba0-e04a9bba861b"
   },
   "outputs": [
    {
     "data": {
      "text/plain": [
       "bool"
      ]
     },
     "execution_count": 37,
     "metadata": {},
     "output_type": "execute_result"
    }
   ],
   "source": [
    "# define a 'false' boolean \n",
    "boolean = False\n",
    "\n",
    "# check type\n",
    "type(boolean)"
   ]
  },
  {
   "cell_type": "code",
   "execution_count": null,
   "metadata": {
    "colab": {
     "base_uri": "https://localhost:8080/"
    },
    "executionInfo": {
     "elapsed": 17,
     "status": "ok",
     "timestamp": 1680079778226,
     "user": {
      "displayName": "Jitendra Rathod",
      "userId": "08588782662248261812"
     },
     "user_tz": -330
    },
    "id": "nRVLWmWdEQFY",
    "outputId": "c051a234-d2c0-457d-ecf3-b4b9c47ef0bd"
   },
   "outputs": [
    {
     "name": "stdout",
     "output_type": "stream",
     "text": [
      "False\n",
      "True\n"
     ]
    }
   ],
   "source": [
    "x = 5>10\n",
    "\n",
    "y = 10>5\n",
    "\n",
    "print(x)\n",
    "\n",
    "print(y)"
   ]
  },
  {
   "cell_type": "markdown",
   "metadata": {
    "id": "AqPov5UZGKGn"
   },
   "source": [
    "### Set Types\n",
    "\n",
    "- `set` is an unordered collection of *distinct* objects\n"
   ]
  },
  {
   "cell_type": "code",
   "execution_count": null,
   "metadata": {
    "colab": {
     "base_uri": "https://localhost:8080/"
    },
    "executionInfo": {
     "elapsed": 16,
     "status": "ok",
     "timestamp": 1680079778226,
     "user": {
      "displayName": "Jitendra Rathod",
      "userId": "08588782662248261812"
     },
     "user_tz": -330
    },
    "id": "SZeVqBS6PhGR",
    "outputId": "bb15e711-b362-45a5-de68-de6576f1e0ef"
   },
   "outputs": [
    {
     "name": "stdout",
     "output_type": "stream",
     "text": [
      "{0, 1, 5, 7, 9}\n"
     ]
    }
   ],
   "source": [
    "set_of_numbers = {0,9,1,5,7}\n",
    "print(set_of_numbers)"
   ]
  },
  {
   "cell_type": "code",
   "execution_count": null,
   "metadata": {
    "colab": {
     "base_uri": "https://localhost:8080/"
    },
    "executionInfo": {
     "elapsed": 15,
     "status": "ok",
     "timestamp": 1680079778226,
     "user": {
      "displayName": "Jitendra Rathod",
      "userId": "08588782662248261812"
     },
     "user_tz": -330
    },
    "id": "wJXC95qEQO9-",
    "outputId": "5516efa4-9f15-4d6d-fb3f-749eceba9e60"
   },
   "outputs": [
    {
     "name": "stdout",
     "output_type": "stream",
     "text": [
      "['caleb', 'olivia']\n"
     ]
    }
   ],
   "source": [
    "names = ['olivia', 'caleb', 'olivia']\n",
    "names_set = set(names)\n",
    "unique_names = list(names_set)\n",
    "print(unique_names)"
   ]
  },
  {
   "cell_type": "code",
   "execution_count": null,
   "metadata": {
    "colab": {
     "base_uri": "https://localhost:8080/"
    },
    "executionInfo": {
     "elapsed": 15,
     "status": "ok",
     "timestamp": 1680079778227,
     "user": {
      "displayName": "Jitendra Rathod",
      "userId": "08588782662248261812"
     },
     "user_tz": -330
    },
    "id": "YyPA82OUErPD",
    "outputId": "dbeda583-1e8e-451b-c86d-66c292c23a70"
   },
   "outputs": [
    {
     "name": "stdout",
     "output_type": "stream",
     "text": [
      "['apple', 'banana', 'cherry', 'apple', 'banana']\n",
      "<class 'list'>\n",
      "{'cherry', 'banana', 'apple'}\n",
      "<class 'set'>\n"
     ]
    }
   ],
   "source": [
    "my_list = ['apple','banana','cherry','apple','banana']\n",
    "\n",
    "print(my_list)\n",
    "\n",
    "print(type(my_list))\n",
    "\n",
    "my_set = set(my_list)\n",
    "\n",
    "print(my_set)\n",
    "\n",
    "print(type(my_set))"
   ]
  },
  {
   "cell_type": "markdown",
   "metadata": {
    "id": "tjCS2ZYwSzzr"
   },
   "source": [
    "# Operators\n",
    "\n",
    "- popular kinds of operators \n",
    "  - `numeric` operators \n",
    "  - `comparison` operators\n",
    "  - `logical` operators \n",
    "  - `assignment` operators\n",
    "  - `idenity` operators\n",
    "  - `membership` operators\n",
    "  - `bitwise` operators \n",
    "\n",
    "- some are discussed below"
   ]
  },
  {
   "cell_type": "markdown",
   "metadata": {
    "id": "hznBCmMWTo-3"
   },
   "source": [
    "### Numeric Operators\n",
    "\n",
    "- used with numeric data types to perform mathematical operations\n",
    "  - `+`: addition\n",
    "  - `-`: subtraction\n",
    "  - `*`: multiplication\n",
    "  - `/`: division\n",
    "  - `//`: floor division\n",
    "  - `%`: modulus (remainder)\n",
    "  - `**`: raising to power\n",
    "  - `abs()`: absolute value of number\n",
    "  - `round()`: rounds a number\n",
    "  - `bin()`: get binary version of a number\n",
    "  - `hex()`: get hexadecimal version of a number\n",
    "  "
   ]
  },
  {
   "cell_type": "code",
   "execution_count": null,
   "metadata": {
    "id": "WXUYntQ2UBrw"
   },
   "outputs": [],
   "source": [
    "# set values of x, y and z for numeric operators exploration\n",
    "x = 10   # integer value\n",
    "y = 2 # float value\n",
    "z = -13 # negative integer\n",
    "\n",
    "#(run this cell to initialize values for the next few cells!)"
   ]
  },
  {
   "cell_type": "code",
   "execution_count": null,
   "metadata": {
    "colab": {
     "base_uri": "https://localhost:8080/"
    },
    "executionInfo": {
     "elapsed": 59,
     "status": "ok",
     "timestamp": 1680164354364,
     "user": {
      "displayName": "Jitendra Rathod",
      "userId": "08588782662248261812"
     },
     "user_tz": -330
    },
    "id": "M1uVWljKURAc",
    "outputId": "3ce51bb7-b257-4a98-fa48-23845e594bf3"
   },
   "outputs": [
    {
     "name": "stdout",
     "output_type": "stream",
     "text": [
      "12\n"
     ]
    }
   ],
   "source": [
    "# sum of x and y\n",
    "print(x + y)"
   ]
  },
  {
   "cell_type": "code",
   "execution_count": null,
   "metadata": {
    "colab": {
     "base_uri": "https://localhost:8080/"
    },
    "executionInfo": {
     "elapsed": 57,
     "status": "ok",
     "timestamp": 1680164354364,
     "user": {
      "displayName": "Jitendra Rathod",
      "userId": "08588782662248261812"
     },
     "user_tz": -330
    },
    "id": "Z-MpQqRYUWOJ",
    "outputId": "b4d9d8a4-7d86-47a8-daa7-da3ae3ee8124"
   },
   "outputs": [
    {
     "name": "stdout",
     "output_type": "stream",
     "text": [
      "8\n"
     ]
    }
   ],
   "source": [
    "# difference of x and y\n",
    "print(x - y)"
   ]
  },
  {
   "cell_type": "code",
   "execution_count": null,
   "metadata": {
    "colab": {
     "base_uri": "https://localhost:8080/"
    },
    "executionInfo": {
     "elapsed": 55,
     "status": "ok",
     "timestamp": 1680164354364,
     "user": {
      "displayName": "Jitendra Rathod",
      "userId": "08588782662248261812"
     },
     "user_tz": -330
    },
    "id": "WE4mrvqSUcoy",
    "outputId": "3f02ad33-1417-4cdb-cbe9-05338c664762"
   },
   "outputs": [
    {
     "name": "stdout",
     "output_type": "stream",
     "text": [
      "20\n"
     ]
    }
   ],
   "source": [
    "# product of x and y\n",
    "print(x * y)"
   ]
  },
  {
   "cell_type": "code",
   "execution_count": null,
   "metadata": {
    "colab": {
     "base_uri": "https://localhost:8080/"
    },
    "executionInfo": {
     "elapsed": 54,
     "status": "ok",
     "timestamp": 1680164354364,
     "user": {
      "displayName": "Jitendra Rathod",
      "userId": "08588782662248261812"
     },
     "user_tz": -330
    },
    "id": "dky2S8LAUp1w",
    "outputId": "56be9a3e-c2fb-436d-ba31-be31a33c3fbe"
   },
   "outputs": [
    {
     "name": "stdout",
     "output_type": "stream",
     "text": [
      "5.0\n"
     ]
    }
   ],
   "source": [
    "# quotient of x and y\n",
    "print(x / y)\n"
   ]
  },
  {
   "cell_type": "code",
   "execution_count": null,
   "metadata": {
    "colab": {
     "base_uri": "https://localhost:8080/"
    },
    "executionInfo": {
     "elapsed": 53,
     "status": "ok",
     "timestamp": 1680164354364,
     "user": {
      "displayName": "Jitendra Rathod",
      "userId": "08588782662248261812"
     },
     "user_tz": -330
    },
    "id": "Xuho9rIaVfGu",
    "outputId": "ed1dfc2f-bdf2-4994-a8d6-38e473e697f4"
   },
   "outputs": [
    {
     "name": "stdout",
     "output_type": "stream",
     "text": [
      "5\n"
     ]
    }
   ],
   "source": [
    "# floored quotient of x and y\n",
    "print(x // y)"
   ]
  },
  {
   "cell_type": "code",
   "execution_count": null,
   "metadata": {
    "colab": {
     "base_uri": "https://localhost:8080/"
    },
    "executionInfo": {
     "elapsed": 50,
     "status": "ok",
     "timestamp": 1680164354365,
     "user": {
      "displayName": "Jitendra Rathod",
      "userId": "08588782662248261812"
     },
     "user_tz": -330
    },
    "id": "Y10YZhtXVlkC",
    "outputId": "771d4848-3045-4e3a-d967-2eb2a0eea37f"
   },
   "outputs": [
    {
     "name": "stdout",
     "output_type": "stream",
     "text": [
      "0\n"
     ]
    }
   ],
   "source": [
    "# remainder of x / y\n",
    "print(x % y)"
   ]
  },
  {
   "cell_type": "code",
   "execution_count": null,
   "metadata": {
    "colab": {
     "base_uri": "https://localhost:8080/"
    },
    "executionInfo": {
     "elapsed": 50,
     "status": "ok",
     "timestamp": 1680164354367,
     "user": {
      "displayName": "Jitendra Rathod",
      "userId": "08588782662248261812"
     },
     "user_tz": -330
    },
    "id": "ZeyJGUhAWxC0",
    "outputId": "03bcdd40-8ae0-4f74-90ca-fe173abe7570"
   },
   "outputs": [
    {
     "name": "stdout",
     "output_type": "stream",
     "text": [
      "13\n"
     ]
    }
   ],
   "source": [
    "# absolute value \n",
    "print(abs(z))"
   ]
  },
  {
   "cell_type": "code",
   "execution_count": null,
   "metadata": {
    "colab": {
     "base_uri": "https://localhost:8080/"
    },
    "executionInfo": {
     "elapsed": 50,
     "status": "ok",
     "timestamp": 1680164354368,
     "user": {
      "displayName": "Jitendra Rathod",
      "userId": "08588782662248261812"
     },
     "user_tz": -330
    },
    "id": "3A9He5KSZSoS",
    "outputId": "65fac017-3b00-439e-b807-636019276ea6"
   },
   "outputs": [
    {
     "name": "stdout",
     "output_type": "stream",
     "text": [
      "100\n"
     ]
    }
   ],
   "source": [
    "# x raised to power y\n",
    "print(x ** y)"
   ]
  },
  {
   "cell_type": "code",
   "execution_count": null,
   "metadata": {
    "colab": {
     "base_uri": "https://localhost:8080/"
    },
    "executionInfo": {
     "elapsed": 48,
     "status": "ok",
     "timestamp": 1680164354368,
     "user": {
      "displayName": "Jitendra Rathod",
      "userId": "08588782662248261812"
     },
     "user_tz": -330
    },
    "id": "IY8J4GvSrDy3",
    "outputId": "da59ef55-9963-4447-eeae-36105904a69e"
   },
   "outputs": [
    {
     "name": "stdout",
     "output_type": "stream",
     "text": [
      "2\n"
     ]
    }
   ],
   "source": [
    "# rounding a decimal example - round down\n",
    "print(round(2.1))"
   ]
  },
  {
   "cell_type": "code",
   "execution_count": null,
   "metadata": {
    "colab": {
     "base_uri": "https://localhost:8080/"
    },
    "executionInfo": {
     "elapsed": 46,
     "status": "ok",
     "timestamp": 1680164354368,
     "user": {
      "displayName": "Jitendra Rathod",
      "userId": "08588782662248261812"
     },
     "user_tz": -330
    },
    "id": "erUbhft0rI8_",
    "outputId": "0160f8a8-3a34-4f8a-faf0-eedd92168e2c"
   },
   "outputs": [
    {
     "name": "stdout",
     "output_type": "stream",
     "text": [
      "4\n"
     ]
    }
   ],
   "source": [
    "# rounding a decimal example - round up\n",
    "print(round(3.5))"
   ]
  },
  {
   "cell_type": "code",
   "execution_count": null,
   "metadata": {
    "colab": {
     "base_uri": "https://localhost:8080/"
    },
    "executionInfo": {
     "elapsed": 44,
     "status": "ok",
     "timestamp": 1680164354368,
     "user": {
      "displayName": "Jitendra Rathod",
      "userId": "08588782662248261812"
     },
     "user_tz": -330
    },
    "id": "0fH3cpqiTO4I",
    "outputId": "210edf77-732c-4390-ef64-be5cc6d7bd06"
   },
   "outputs": [
    {
     "name": "stdout",
     "output_type": "stream",
     "text": [
      "0b100101\n"
     ]
    }
   ],
   "source": [
    "# binary version of the number\n",
    "print(bin(37))"
   ]
  },
  {
   "cell_type": "code",
   "execution_count": null,
   "metadata": {
    "colab": {
     "base_uri": "https://localhost:8080/"
    },
    "executionInfo": {
     "elapsed": 43,
     "status": "ok",
     "timestamp": 1680164354368,
     "user": {
      "displayName": "Jitendra Rathod",
      "userId": "08588782662248261812"
     },
     "user_tz": -330
    },
    "id": "eCP52MxxTqEN",
    "outputId": "a8ec47a2-651c-4ce7-d71d-aa47777230cf"
   },
   "outputs": [
    {
     "name": "stdout",
     "output_type": "stream",
     "text": [
      "0x25\n"
     ]
    }
   ],
   "source": [
    "# hexadecimal version of the number\n",
    "print(hex(37))"
   ]
  },
  {
   "cell_type": "markdown",
   "metadata": {
    "id": "ot5ApXwnHKcw"
   },
   "source": [
    "#### Operators are the lifelines of any programming language ,let's put them to good use \n",
    "\n",
    "### Excercise : 9 \n",
    "Create a variable with the value of `pi` as `3.14`, create a new variable as `radius` and assign it a `float` value, this will be the radius of a circle and then output the area of the circle using the formula **pi*radius^2** \n",
    "\n",
    "\n",
    "\n",
    "\n"
   ]
  },
  {
   "cell_type": "markdown",
   "metadata": {
    "id": "FVEWNfE2tBmO"
   },
   "source": [
    "### Comparison Operators\n",
    "\n",
    "- used to compare two values\n",
    "  - `<`: less than \n",
    "  - `>`: greater than \n",
    "  - `<=`: less than or equal to\n",
    "  - `>=`: greater than or equal to\n",
    "  - `==`: equality \n",
    "  - `!=`: inequality \n"
   ]
  },
  {
   "cell_type": "code",
   "execution_count": null,
   "metadata": {
    "colab": {
     "base_uri": "https://localhost:8080/"
    },
    "executionInfo": {
     "elapsed": 42,
     "status": "ok",
     "timestamp": 1680164354368,
     "user": {
      "displayName": "Jitendra Rathod",
      "userId": "08588782662248261812"
     },
     "user_tz": -330
    },
    "id": "UQ_B2f9G0s-Q",
    "outputId": "421c01ba-726b-4d77-9dad-fea8e85ffd7a"
   },
   "outputs": [
    {
     "name": "stdout",
     "output_type": "stream",
     "text": [
      "False\n"
     ]
    }
   ],
   "source": [
    "# Greater Than \n",
    "i = 3 \n",
    "j = 7\n",
    "\n",
    "print(i > j) "
   ]
  },
  {
   "cell_type": "code",
   "execution_count": null,
   "metadata": {
    "colab": {
     "base_uri": "https://localhost:8080/"
    },
    "executionInfo": {
     "elapsed": 41,
     "status": "ok",
     "timestamp": 1680164354369,
     "user": {
      "displayName": "Jitendra Rathod",
      "userId": "08588782662248261812"
     },
     "user_tz": -330
    },
    "id": "oDAqMFFL07RE",
    "outputId": "297d6c68-20b1-4188-d5f7-865b30a7395f"
   },
   "outputs": [
    {
     "name": "stdout",
     "output_type": "stream",
     "text": [
      "False\n"
     ]
    }
   ],
   "source": [
    "# Greater Than or Equal\n",
    "i = 3 \n",
    "j = 7\n",
    "\n",
    "print(i >= j) "
   ]
  },
  {
   "cell_type": "code",
   "execution_count": null,
   "metadata": {
    "colab": {
     "base_uri": "https://localhost:8080/"
    },
    "executionInfo": {
     "elapsed": 38,
     "status": "ok",
     "timestamp": 1680164354369,
     "user": {
      "displayName": "Jitendra Rathod",
      "userId": "08588782662248261812"
     },
     "user_tz": -330
    },
    "id": "uwY13XEW1DMx",
    "outputId": "3742efd5-38e1-4b7a-9487-7b76a6f25efb"
   },
   "outputs": [
    {
     "name": "stdout",
     "output_type": "stream",
     "text": [
      "True\n"
     ]
    }
   ],
   "source": [
    "# Less Than \n",
    "i = 3 \n",
    "j = 7\n",
    "\n",
    "print(i < j) "
   ]
  },
  {
   "cell_type": "code",
   "execution_count": null,
   "metadata": {
    "colab": {
     "base_uri": "https://localhost:8080/"
    },
    "executionInfo": {
     "elapsed": 37,
     "status": "ok",
     "timestamp": 1680164354369,
     "user": {
      "displayName": "Jitendra Rathod",
      "userId": "08588782662248261812"
     },
     "user_tz": -330
    },
    "id": "JjaE8Vlp1IbX",
    "outputId": "15be8fdf-eb89-45a2-8c0c-4afd0366a264"
   },
   "outputs": [
    {
     "name": "stdout",
     "output_type": "stream",
     "text": [
      "True\n"
     ]
    }
   ],
   "source": [
    "# Less Than or Equal \n",
    "i = 3 \n",
    "j = 7\n",
    "\n",
    "print(i <= j) "
   ]
  },
  {
   "cell_type": "code",
   "execution_count": null,
   "metadata": {
    "colab": {
     "base_uri": "https://localhost:8080/"
    },
    "executionInfo": {
     "elapsed": 35,
     "status": "ok",
     "timestamp": 1680164354369,
     "user": {
      "displayName": "Jitendra Rathod",
      "userId": "08588782662248261812"
     },
     "user_tz": -330
    },
    "id": "rCV0Eqr51QNy",
    "outputId": "1af27c88-3019-45d0-f709-13df4a109697"
   },
   "outputs": [
    {
     "name": "stdout",
     "output_type": "stream",
     "text": [
      "False\n"
     ]
    }
   ],
   "source": [
    "# Equality Test #1\n",
    "i = 3\n",
    "j = 7\n",
    "\n",
    "print(i == j)"
   ]
  },
  {
   "cell_type": "code",
   "execution_count": null,
   "metadata": {
    "colab": {
     "base_uri": "https://localhost:8080/"
    },
    "executionInfo": {
     "elapsed": 35,
     "status": "ok",
     "timestamp": 1680164354370,
     "user": {
      "displayName": "Jitendra Rathod",
      "userId": "08588782662248261812"
     },
     "user_tz": -330
    },
    "id": "IrDlCVTh1WcW",
    "outputId": "dde67890-49fd-4075-9a71-a2634bf9fb82"
   },
   "outputs": [
    {
     "name": "stdout",
     "output_type": "stream",
     "text": [
      "True\n"
     ]
    }
   ],
   "source": [
    "# Equality Test #2\n",
    "i = 3\n",
    "j = 3\n",
    "\n",
    "print(i == j)"
   ]
  },
  {
   "cell_type": "code",
   "execution_count": null,
   "metadata": {
    "colab": {
     "base_uri": "https://localhost:8080/"
    },
    "executionInfo": {
     "elapsed": 33,
     "status": "ok",
     "timestamp": 1680164354370,
     "user": {
      "displayName": "Jitendra Rathod",
      "userId": "08588782662248261812"
     },
     "user_tz": -330
    },
    "id": "3FNeOVhL1YvU",
    "outputId": "92b36547-7d56-4fa4-9725-5723ed17caee"
   },
   "outputs": [
    {
     "name": "stdout",
     "output_type": "stream",
     "text": [
      "True\n"
     ]
    }
   ],
   "source": [
    "# Inequality Test #1\n",
    "i = 3\n",
    "j = 7\n",
    "\n",
    "print(i != j)"
   ]
  },
  {
   "cell_type": "code",
   "execution_count": null,
   "metadata": {
    "colab": {
     "base_uri": "https://localhost:8080/"
    },
    "executionInfo": {
     "elapsed": 30,
     "status": "ok",
     "timestamp": 1680164354370,
     "user": {
      "displayName": "Jitendra Rathod",
      "userId": "08588782662248261812"
     },
     "user_tz": -330
    },
    "id": "iCCqDBvn1cRK",
    "outputId": "96ed8850-48c4-4bd1-d4f9-487a5116f359"
   },
   "outputs": [
    {
     "name": "stdout",
     "output_type": "stream",
     "text": [
      "False\n"
     ]
    }
   ],
   "source": [
    "# Inequality Test #2\n",
    "i = 3\n",
    "j = 3\n",
    "\n",
    "print(i != j)"
   ]
  },
  {
   "cell_type": "markdown",
   "metadata": {
    "id": "eYnstn7CHKcx"
   },
   "source": [
    "#### Let's see what comparison operator can do for us \n",
    "\n",
    "### Excercise : 10 \n",
    "\n",
    "In the last excercise you created a program to get the area of a circle , create a print function that checks if the area that your program created is bigger than 50 or not "
   ]
  },
  {
   "cell_type": "markdown",
   "metadata": {
    "id": "RnXfEOFTtIlQ"
   },
   "source": [
    "### Logic Operators\n",
    "\n",
    "- used to combine conditional statements\n",
    "  - `and` \n",
    "  - `or`\n",
    "  - `not`"
   ]
  },
  {
   "cell_type": "markdown",
   "metadata": {
    "id": "O4f26P_b6dtP"
   },
   "source": [
    "##### `not` Operator"
   ]
  },
  {
   "cell_type": "code",
   "execution_count": null,
   "metadata": {
    "colab": {
     "base_uri": "https://localhost:8080/"
    },
    "executionInfo": {
     "elapsed": 28,
     "status": "ok",
     "timestamp": 1680164354370,
     "user": {
      "displayName": "Jitendra Rathod",
      "userId": "08588782662248261812"
     },
     "user_tz": -330
    },
    "id": "Ct9tSfdF1xXc",
    "outputId": "264ae6d6-51d6-47a2-dd5b-fdb204f9291a"
   },
   "outputs": [
    {
     "name": "stdout",
     "output_type": "stream",
     "text": [
      "False\n"
     ]
    }
   ],
   "source": [
    "##  'not' operator \n",
    "a = True\n",
    "\n",
    "print(not a)"
   ]
  },
  {
   "cell_type": "markdown",
   "metadata": {
    "id": "24vGgjHNhmwd"
   },
   "source": [
    "![Logic Tables](https://i.imgur.com/42pVFtJ.jpg \"Logic Tables\")"
   ]
  },
  {
   "cell_type": "markdown",
   "metadata": {
    "id": "sAQx5pF_6fze"
   },
   "source": [
    "##### `and` Operator"
   ]
  },
  {
   "cell_type": "code",
   "execution_count": null,
   "metadata": {
    "colab": {
     "base_uri": "https://localhost:8080/"
    },
    "executionInfo": {
     "elapsed": 27,
     "status": "ok",
     "timestamp": 1680164354371,
     "user": {
      "displayName": "Jitendra Rathod",
      "userId": "08588782662248261812"
     },
     "user_tz": -330
    },
    "id": "NoztpM2w15TD",
    "outputId": "40e3f863-d9fc-4c2e-ad6b-def48216993f"
   },
   "outputs": [
    {
     "name": "stdout",
     "output_type": "stream",
     "text": [
      "True\n",
      "False\n",
      "False\n",
      "False\n"
     ]
    }
   ],
   "source": [
    "# a and b are true\n",
    "a = True \n",
    "b = True\n",
    "\n",
    "print(a and b)\n",
    "\n",
    "# only a is true \n",
    "a = True \n",
    "b = False\n",
    "\n",
    "print(a and b)\n",
    "\n",
    "# only b is true \n",
    "a = False \n",
    "b = True\n",
    "\n",
    "print(a and b)\n",
    "\n",
    "# a and b are both false\n",
    "a = False \n",
    "b = False\n",
    "\n",
    "print(a and b)"
   ]
  },
  {
   "cell_type": "markdown",
   "metadata": {
    "id": "7dyMpmJX6qHl"
   },
   "source": [
    "##### `or` Operator"
   ]
  },
  {
   "cell_type": "code",
   "execution_count": null,
   "metadata": {
    "colab": {
     "base_uri": "https://localhost:8080/"
    },
    "executionInfo": {
     "elapsed": 24,
     "status": "ok",
     "timestamp": 1680164354371,
     "user": {
      "displayName": "Jitendra Rathod",
      "userId": "08588782662248261812"
     },
     "user_tz": -330
    },
    "id": "vV85OnE_2oMp",
    "outputId": "0d83d48a-6d7d-4aaa-9e07-0bb07c8b5670"
   },
   "outputs": [
    {
     "name": "stdout",
     "output_type": "stream",
     "text": [
      "True\n",
      "True\n",
      "True\n",
      "False\n"
     ]
    }
   ],
   "source": [
    "## 'or' operator \n",
    "\n",
    "# a and b are true\n",
    "a = True \n",
    "b = True\n",
    "\n",
    "print(a or b)\n",
    "\n",
    "# only a is true \n",
    "a = True \n",
    "b = False\n",
    "\n",
    "print(a or b)\n",
    "\n",
    "# only b is true \n",
    "a = False \n",
    "b = True\n",
    "\n",
    "print(a or b)\n",
    "\n",
    "# a and b are both false\n",
    "a = False \n",
    "b = False\n",
    "\n",
    "print(a or b)"
   ]
  },
  {
   "cell_type": "markdown",
   "metadata": {
    "id": "1bQgZdc9HKcz"
   },
   "source": [
    "#### To be OR not to be ? Let's explore what we can get done using logical operators \n",
    "\n",
    "### Excercise : 11 \n",
    "\n",
    "Create a print function for our circle area generator to check if the area is between 20 `AND` 50 \n",
    "\n"
   ]
  },
  {
   "cell_type": "markdown",
   "metadata": {
    "id": "-BeCjQwTtksj"
   },
   "source": [
    "### Assignment Operators\n",
    "\n",
    "- used to assign values to variables\n",
    "  - `=`\n",
    "\n",
    "- following operators combine numerical operations at the same time as assignment\n",
    "  - `+=`\n",
    "  - `-=`\n",
    "  - `*=`\n",
    "  - `/=`\n",
    "  - `//=`\n",
    "  - `%=`\n",
    "  - `**=`"
   ]
  },
  {
   "cell_type": "code",
   "execution_count": null,
   "metadata": {
    "colab": {
     "base_uri": "https://localhost:8080/"
    },
    "executionInfo": {
     "elapsed": 22,
     "status": "ok",
     "timestamp": 1680164354371,
     "user": {
      "displayName": "Jitendra Rathod",
      "userId": "08588782662248261812"
     },
     "user_tz": -330
    },
    "id": "RWqDHPkCrg9-",
    "outputId": "37c6047d-5a3b-4701-a109-8622040a0621"
   },
   "outputs": [
    {
     "name": "stdout",
     "output_type": "stream",
     "text": [
      "21\n"
     ]
    }
   ],
   "source": [
    "# assignment operator \n",
    "\n",
    "x = 21\n",
    "print(x)\n"
   ]
  },
  {
   "cell_type": "code",
   "execution_count": null,
   "metadata": {
    "colab": {
     "base_uri": "https://localhost:8080/"
    },
    "executionInfo": {
     "elapsed": 479,
     "status": "ok",
     "timestamp": 1680164354831,
     "user": {
      "displayName": "Jitendra Rathod",
      "userId": "08588782662248261812"
     },
     "user_tz": -330
    },
    "id": "z2hJSnnFtj61",
    "outputId": "3ae731bb-5f57-40f2-c3d5-2201d06f4c46"
   },
   "outputs": [
    {
     "name": "stdout",
     "output_type": "stream",
     "text": [
      "24\n"
     ]
    }
   ],
   "source": [
    "# += operator\n",
    "\n",
    "x += 3\n",
    "print(x)"
   ]
  },
  {
   "cell_type": "code",
   "execution_count": null,
   "metadata": {
    "colab": {
     "base_uri": "https://localhost:8080/"
    },
    "executionInfo": {
     "elapsed": 18,
     "status": "ok",
     "timestamp": 1680164354832,
     "user": {
      "displayName": "Jitendra Rathod",
      "userId": "08588782662248261812"
     },
     "user_tz": -330
    },
    "id": "KtZ7kRbRufSO",
    "outputId": "5b7b74b6-06f2-42ba-bb8e-c1814806a370"
   },
   "outputs": [
    {
     "name": "stdout",
     "output_type": "stream",
     "text": [
      "21\n"
     ]
    }
   ],
   "source": [
    "# -= operator\n",
    "\n",
    "x -= 3\n",
    "print(x)"
   ]
  },
  {
   "cell_type": "code",
   "execution_count": null,
   "metadata": {
    "colab": {
     "base_uri": "https://localhost:8080/"
    },
    "executionInfo": {
     "elapsed": 14,
     "status": "ok",
     "timestamp": 1680164354832,
     "user": {
      "displayName": "Jitendra Rathod",
      "userId": "08588782662248261812"
     },
     "user_tz": -330
    },
    "id": "FjTFdiMjuiTX",
    "outputId": "9e50186e-62f3-4637-a5e9-9f5bd0c8bd70"
   },
   "outputs": [
    {
     "name": "stdout",
     "output_type": "stream",
     "text": [
      "15\n"
     ]
    }
   ],
   "source": [
    "# *= operator\n",
    "x = 5\n",
    "x *= 3\n",
    "print(x)"
   ]
  },
  {
   "cell_type": "code",
   "execution_count": null,
   "metadata": {
    "colab": {
     "base_uri": "https://localhost:8080/"
    },
    "executionInfo": {
     "elapsed": 13,
     "status": "ok",
     "timestamp": 1680164354832,
     "user": {
      "displayName": "Jitendra Rathod",
      "userId": "08588782662248261812"
     },
     "user_tz": -330
    },
    "id": "E6HlKtnzulaT",
    "outputId": "574604cf-061a-46f8-fd57-28c42e16ebb7"
   },
   "outputs": [
    {
     "name": "stdout",
     "output_type": "stream",
     "text": [
      "5.0\n"
     ]
    }
   ],
   "source": [
    "# /= operator\n",
    "\n",
    "x /= 3\n",
    "print(x)"
   ]
  },
  {
   "cell_type": "code",
   "execution_count": null,
   "metadata": {
    "colab": {
     "base_uri": "https://localhost:8080/"
    },
    "executionInfo": {
     "elapsed": 10,
     "status": "ok",
     "timestamp": 1680164354832,
     "user": {
      "displayName": "Jitendra Rathod",
      "userId": "08588782662248261812"
     },
     "user_tz": -330
    },
    "id": "zG3np5y6uoOh",
    "outputId": "4e76f760-b48d-46d4-a372-d65b05ec41d8"
   },
   "outputs": [
    {
     "name": "stdout",
     "output_type": "stream",
     "text": [
      "1.0\n"
     ]
    }
   ],
   "source": [
    "# //= operator\n",
    "\n",
    "x //= 3\n",
    "print(x)"
   ]
  },
  {
   "cell_type": "code",
   "execution_count": null,
   "metadata": {
    "colab": {
     "base_uri": "https://localhost:8080/"
    },
    "executionInfo": {
     "elapsed": 8,
     "status": "ok",
     "timestamp": 1680164354832,
     "user": {
      "displayName": "Jitendra Rathod",
      "userId": "08588782662248261812"
     },
     "user_tz": -330
    },
    "id": "7rlcVC-Zu7uw",
    "outputId": "f8408657-4350-4ee7-cc14-cd3b2574febb"
   },
   "outputs": [
    {
     "name": "stdout",
     "output_type": "stream",
     "text": [
      "1.0\n"
     ]
    }
   ],
   "source": [
    "# %= operator\n",
    "\n",
    "x %= 3\n",
    "print(x)"
   ]
  },
  {
   "cell_type": "markdown",
   "metadata": {
    "id": "XtnQDSvxrKkT"
   },
   "source": [
    "# Identity Operators \n",
    "\n",
    "- used to compare objects \n",
    "  - not if they are equal\n",
    "  - but if they are actually the same object \n",
    "    - *with the same memory location*\n",
    "\n",
    "- two identity operators:\n",
    "  - `is`\n",
    "  - `is not`"
   ]
  },
  {
   "cell_type": "code",
   "execution_count": null,
   "metadata": {
    "colab": {
     "base_uri": "https://localhost:8080/"
    },
    "executionInfo": {
     "elapsed": 8,
     "status": "ok",
     "timestamp": 1680164354833,
     "user": {
      "displayName": "Jitendra Rathod",
      "userId": "08588782662248261812"
     },
     "user_tz": -330
    },
    "id": "S5V4cnBbs5ve",
    "outputId": "d9a83198-656c-40a8-e76c-55a8c777e27e"
   },
   "outputs": [
    {
     "name": "stdout",
     "output_type": "stream",
     "text": [
      "True\n",
      "False\n",
      "True\n",
      "True\n"
     ]
    }
   ],
   "source": [
    "# define lists\n",
    "x = [\"apple\", \"banana\"]\n",
    "y = [\"apple\", \"banana\"]\n",
    "z = x\n",
    "\n",
    "# 'is' test \n",
    "print(x is z)\n",
    "\n",
    "# 'is' test \n",
    "print(x is y)\n",
    "\n",
    "# equality test\n",
    "print(x == y)\n",
    "\n",
    "# 'is not' test\n",
    "print(x is not y)\n",
    "\n"
   ]
  },
  {
   "cell_type": "markdown",
   "metadata": {
    "id": "efVPbygdnpZJ"
   },
   "source": [
    "# Membership Operators\n",
    "\n",
    "- used to test if a sequence has specified object\n",
    "\n",
    "- two membership operators:\n",
    "  - `in`\n",
    "  - `not in`"
   ]
  },
  {
   "cell_type": "code",
   "execution_count": null,
   "metadata": {
    "colab": {
     "base_uri": "https://localhost:8080/"
    },
    "executionInfo": {
     "elapsed": 6,
     "status": "ok",
     "timestamp": 1680164354833,
     "user": {
      "displayName": "Jitendra Rathod",
      "userId": "08588782662248261812"
     },
     "user_tz": -330
    },
    "id": "jtMYbAEunpBQ",
    "outputId": "9bcca16a-b7f2-4240-a834-8216aee36d85"
   },
   "outputs": [
    {
     "name": "stdout",
     "output_type": "stream",
     "text": [
      "True\n",
      "False\n",
      "True\n"
     ]
    }
   ],
   "source": [
    "# define list \n",
    "x = [\"apple\", \"banana\"]\n",
    "\n",
    "# 'in' test\n",
    "print(\"banana\" in x)\n",
    "\n",
    "# 'in' test\n",
    "print(\"pineapple\" in x)\n",
    "\n",
    "# 'not in' test\n",
    "print(\"pineapple\" not in x)"
   ]
  },
  {
   "cell_type": "markdown",
   "metadata": {
    "id": "es1NqfO1lzn9"
   },
   "source": [
    "##Variable call inside print function in different ways\n",
    "\n"
   ]
  },
  {
   "cell_type": "code",
   "execution_count": null,
   "metadata": {
    "colab": {
     "base_uri": "https://localhost:8080/"
    },
    "executionInfo": {
     "elapsed": 5704,
     "status": "ok",
     "timestamp": 1680164360533,
     "user": {
      "displayName": "Jitendra Rathod",
      "userId": "08588782662248261812"
     },
     "user_tz": -330
    },
    "id": "yKaVxK9NP3tH",
    "outputId": "f45c58c6-d851-4446-ee7f-35eec3047a01"
   },
   "outputs": [
    {
     "name": "stdout",
     "output_type": "stream",
     "text": [
      "Please enter your name jeet\n",
      "Hello my name is  jeet\n"
     ]
    }
   ],
   "source": [
    "my_name = input(\"Please enter your name \")\n",
    "\n",
    "print(\"Hello my name is \",my_name)"
   ]
  },
  {
   "cell_type": "code",
   "execution_count": null,
   "metadata": {
    "colab": {
     "base_uri": "https://localhost:8080/"
    },
    "executionInfo": {
     "elapsed": 4557,
     "status": "ok",
     "timestamp": 1680164365083,
     "user": {
      "displayName": "Jitendra Rathod",
      "userId": "08588782662248261812"
     },
     "user_tz": -330
    },
    "id": "o630wcVxP__y",
    "outputId": "f3b7f166-d48a-4163-8a62-703424addd42"
   },
   "outputs": [
    {
     "name": "stdout",
     "output_type": "stream",
     "text": [
      "Please enter your name jeet\n",
      "jeet Hello my name is \n"
     ]
    }
   ],
   "source": [
    "my_name = input(\"Please enter your name \")\n",
    "\n",
    "print(my_name,\"Hello my name is \")"
   ]
  },
  {
   "cell_type": "code",
   "execution_count": null,
   "metadata": {
    "colab": {
     "base_uri": "https://localhost:8080/"
    },
    "executionInfo": {
     "elapsed": 4270,
     "status": "ok",
     "timestamp": 1680164369340,
     "user": {
      "displayName": "Jitendra Rathod",
      "userId": "08588782662248261812"
     },
     "user_tz": -330
    },
    "id": "z4EEZQAJQ04P",
    "outputId": "30b4f53c-a24e-4502-9dd2-cce3acc71668"
   },
   "outputs": [
    {
     "name": "stdout",
     "output_type": "stream",
     "text": [
      "Please enter your name jeet\n",
      "Hello my jeet name is\n"
     ]
    }
   ],
   "source": [
    "my_name = input(\"Please enter your name \")\n",
    "\n",
    "print(\"Hello my\",my_name,\"name is\")"
   ]
  },
  {
   "cell_type": "code",
   "execution_count": null,
   "metadata": {
    "colab": {
     "base_uri": "https://localhost:8080/"
    },
    "executionInfo": {
     "elapsed": 5984,
     "status": "ok",
     "timestamp": 1680164375315,
     "user": {
      "displayName": "Jitendra Rathod",
      "userId": "08588782662248261812"
     },
     "user_tz": -330
    },
    "id": "l97qPeMRRLky",
    "outputId": "782ba9e2-1a55-446a-e7ac-3c780937cd1c"
   },
   "outputs": [
    {
     "name": "stdout",
     "output_type": "stream",
     "text": [
      "Please enter your name jeet\n",
      "Please enter your age 28\n",
      "my name is  jeet and my age is 28\n"
     ]
    }
   ],
   "source": [
    "my_name = input(\"Please enter your name \")\n",
    "\n",
    "my_age = input(\"Please enter your age \")\n",
    "\n",
    "# My name is _____ and my age is ____\n",
    "\n",
    "print(\"my name is \",my_name,\"and my age is\",my_age)"
   ]
  },
  {
   "cell_type": "code",
   "execution_count": null,
   "metadata": {
    "colab": {
     "base_uri": "https://localhost:8080/"
    },
    "executionInfo": {
     "elapsed": 7381,
     "status": "ok",
     "timestamp": 1680164382683,
     "user": {
      "displayName": "Jitendra Rathod",
      "userId": "08588782662248261812"
     },
     "user_tz": -330
    },
    "id": "P8IIIFD6Rr5K",
    "outputId": "51401d55-9240-4db8-c3e1-aa7c7ca95914"
   },
   "outputs": [
    {
     "name": "stdout",
     "output_type": "stream",
     "text": [
      "Please enter your name jeet\n",
      "Please enter your age 28\n",
      "my name is jeet and my age is 28\n"
     ]
    }
   ],
   "source": [
    "my_name = input(\"Please enter your name \")\n",
    "\n",
    "my_age = input(\"Please enter your age \")\n",
    "\n",
    "\n",
    "print(f\"my name is {my_name} and my age is {my_age}\")"
   ]
  },
  {
   "cell_type": "code",
   "execution_count": null,
   "metadata": {
    "colab": {
     "base_uri": "https://localhost:8080/"
    },
    "executionInfo": {
     "elapsed": 8291,
     "status": "ok",
     "timestamp": 1680164390969,
     "user": {
      "displayName": "Jitendra Rathod",
      "userId": "08588782662248261812"
     },
     "user_tz": -330
    },
    "id": "Nm_PTPy7SPsi",
    "outputId": "fb017455-a901-4d0c-8b03-6d9f78573715"
   },
   "outputs": [
    {
     "name": "stdout",
     "output_type": "stream",
     "text": [
      "Please enter your name jeet\n",
      "Please enter your age 28\n",
      "my name is jeet and my age is 28\n"
     ]
    }
   ],
   "source": [
    "my_name = input(\"Please enter your name \")\n",
    "\n",
    "my_age = input(\"Please enter your age \")\n",
    "\n",
    "print(\"my name is {} and my age is {}\".format(my_name, my_age))"
   ]
  }
 ],
 "metadata": {
  "colab": {
   "authorship_tag": "ABX9TyPApjq0BhrSL3unhpWUZQid",
   "provenance": []
  },
  "kernelspec": {
   "display_name": "Python 3 (ipykernel)",
   "language": "python",
   "name": "python3"
  },
  "language_info": {
   "codemirror_mode": {
    "name": "ipython",
    "version": 3
   },
   "file_extension": ".py",
   "mimetype": "text/x-python",
   "name": "python",
   "nbconvert_exporter": "python",
   "pygments_lexer": "ipython3",
   "version": "3.10.9"
  }
 },
 "nbformat": 4,
 "nbformat_minor": 4
}
