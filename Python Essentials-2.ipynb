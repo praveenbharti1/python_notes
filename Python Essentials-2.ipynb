{
 "cells": [
  {
   "cell_type": "markdown",
   "id": "bce3cc62",
   "metadata": {
    "id": "bce3cc62"
   },
   "source": [
    "# Python Operators"
   ]
  },
  {
   "cell_type": "raw",
   "id": "e5156954",
   "metadata": {
    "id": "e5156954"
   },
   "source": [
    "Operators are special symbols in Python which are used to perform operations on variables/values."
   ]
  },
  {
   "cell_type": "markdown",
   "id": "73bec088",
   "metadata": {
    "id": "73bec088"
   },
   "source": [
    "## Arithmetic Operators"
   ]
  },
  {
   "cell_type": "code",
   "execution_count": null,
   "id": "b33a0fc9",
   "metadata": {
    "id": "b33a0fc9"
   },
   "outputs": [],
   "source": [
    "a=5\n",
    "b=2\n",
    "x='Data' \n",
    "y ='Science'"
   ]
  },
  {
   "cell_type": "code",
   "execution_count": null,
   "id": "9ceb2df2",
   "metadata": {
    "collapsed": true,
    "id": "9ceb2df2",
    "jupyter": {
     "outputs_hidden": true
    },
    "outputId": "55320aaa-6737-48c7-b4a9-6b55ac19d491"
   },
   "outputs": [
    {
     "name": "stdout",
     "output_type": "stream",
     "text": [
      "7\n"
     ]
    }
   ],
   "source": [
    "#  Addition\n",
    "c = a + b\n",
    "print(c)"
   ]
  },
  {
   "cell_type": "code",
   "execution_count": null,
   "id": "c933a260",
   "metadata": {
    "collapsed": true,
    "id": "c933a260",
    "jupyter": {
     "outputs_hidden": true
    },
    "outputId": "b4c8f35d-ea2b-488f-fc83-93bb1114a15d"
   },
   "outputs": [
    {
     "name": "stdout",
     "output_type": "stream",
     "text": [
      "DataScience\n"
     ]
    }
   ],
   "source": [
    "#Concatenate string using plus operator\n",
    "z = x+y\n",
    "print(z)"
   ]
  },
  {
   "cell_type": "code",
   "execution_count": null,
   "id": "2cfae568",
   "metadata": {
    "collapsed": true,
    "id": "2cfae568",
    "jupyter": {
     "outputs_hidden": true
    },
    "outputId": "996eafaf-32ef-4179-c522-575e8ad08b0e"
   },
   "outputs": [
    {
     "name": "stdout",
     "output_type": "stream",
     "text": [
      "-1\n"
     ]
    }
   ],
   "source": [
    "# Subtraction\n",
    "c = b - c\n",
    "print(c)"
   ]
  },
  {
   "cell_type": "code",
   "execution_count": null,
   "id": "bf7cbce9",
   "metadata": {
    "id": "bf7cbce9",
    "outputId": "486a60a2-57f5-4034-ca2b-0913ebc8008b",
    "tags": []
   },
   "outputs": [
    {
     "name": "stdout",
     "output_type": "stream",
     "text": [
      "10\n"
     ]
    }
   ],
   "source": [
    "# Multiplication\n",
    "c = a * b\n",
    "print(c)"
   ]
  },
  {
   "cell_type": "code",
   "execution_count": null,
   "id": "5aadbe02",
   "metadata": {
    "collapsed": true,
    "id": "5aadbe02",
    "jupyter": {
     "outputs_hidden": true
    },
    "outputId": "e9afff68-33dc-46e0-952b-962e6f994adc"
   },
   "outputs": [
    {
     "name": "stdout",
     "output_type": "stream",
     "text": [
      "25\n"
     ]
    }
   ],
   "source": [
    "# Power\n",
    "c = a ** b\n",
    "print(c)"
   ]
  },
  {
   "cell_type": "code",
   "execution_count": null,
   "id": "9a7d0a59",
   "metadata": {
    "colab": {
     "base_uri": "https://localhost:8080/"
    },
    "collapsed": true,
    "executionInfo": {
     "elapsed": 543,
     "status": "ok",
     "timestamp": 1652432666219,
     "user": {
      "displayName": "Rohan Ravindra Sohani",
      "userId": "06993368347103045844"
     },
     "user_tz": -330
    },
    "id": "9a7d0a59",
    "jupyter": {
     "outputs_hidden": true
    },
    "outputId": "8301eac2-6f2a-414c-966b-863c55b6f3f5"
   },
   "outputs": [
    {
     "name": "stdout",
     "output_type": "stream",
     "text": [
      "2.5\n"
     ]
    }
   ],
   "source": [
    "# Division\n",
    "c = a / b\n",
    "print(c)"
   ]
  },
  {
   "cell_type": "code",
   "execution_count": null,
   "id": "27ef4d32",
   "metadata": {
    "colab": {
     "base_uri": "https://localhost:8080/"
    },
    "collapsed": true,
    "executionInfo": {
     "elapsed": 1385,
     "status": "ok",
     "timestamp": 1652432744233,
     "user": {
      "displayName": "Rohan Ravindra Sohani",
      "userId": "06993368347103045844"
     },
     "user_tz": -330
    },
    "id": "27ef4d32",
    "jupyter": {
     "outputs_hidden": true
    },
    "outputId": "9e1810d6-5eed-4617-a728-197ed44b61aa"
   },
   "outputs": [
    {
     "name": "stdout",
     "output_type": "stream",
     "text": [
      "1\n"
     ]
    }
   ],
   "source": [
    "# Modulo of both number\n",
    "c = a % b\n",
    "print(c)"
   ]
  },
  {
   "cell_type": "code",
   "execution_count": null,
   "id": "de6eb709",
   "metadata": {
    "colab": {
     "base_uri": "https://localhost:8080/"
    },
    "collapsed": true,
    "executionInfo": {
     "elapsed": 915,
     "status": "ok",
     "timestamp": 1652432657323,
     "user": {
      "displayName": "Rohan Ravindra Sohani",
      "userId": "06993368347103045844"
     },
     "user_tz": -330
    },
    "id": "de6eb709",
    "jupyter": {
     "outputs_hidden": true
    },
    "outputId": "a8e1c236-ad56-41e2-bd75-d1759300b712"
   },
   "outputs": [
    {
     "name": "stdout",
     "output_type": "stream",
     "text": [
      "2\n"
     ]
    }
   ],
   "source": [
    "# Division(floor)\n",
    "c = a // b\n",
    "print(c)"
   ]
  },
  {
   "cell_type": "markdown",
   "id": "930e346a",
   "metadata": {
    "id": "930e346a"
   },
   "source": [
    "## Comparison Operators"
   ]
  },
  {
   "cell_type": "code",
   "execution_count": null,
   "id": "5af6d024",
   "metadata": {
    "id": "5af6d024"
   },
   "outputs": [],
   "source": [
    "x  = 20\n",
    "y  = 30\n",
    "\n",
    "print('Is  x  greater  than  y  :-  ',x>y) \n",
    "print('Is  x  less  than    y  :-  ',x<y) \n",
    "print('Is  x  equal  to    y  :-  ',x==y)\n",
    "print('Is  x  not  equal  to  y  :-  ',x!=y)\n",
    "print('Is  x  greater  than  or  equal  to  y  :-  ',x>=y)\n",
    "print('Is  x  less  than  or  equal  to  y  :-  ',x<=y)\n"
   ]
  },
  {
   "cell_type": "code",
   "execution_count": null,
   "id": "06fb44bc",
   "metadata": {
    "id": "06fb44bc"
   },
   "outputs": [],
   "source": [
    "a = 'Data' \n",
    "b = 'Science' \n",
    "c = 'Data'"
   ]
  },
  {
   "cell_type": "code",
   "execution_count": null,
   "id": "46e4a352",
   "metadata": {
    "id": "46e4a352"
   },
   "outputs": [],
   "source": [
    "a == b"
   ]
  },
  {
   "cell_type": "code",
   "execution_count": null,
   "id": "6c9b41bc",
   "metadata": {
    "id": "6c9b41bc"
   },
   "outputs": [],
   "source": [
    "a ==c"
   ]
  },
  {
   "cell_type": "code",
   "execution_count": null,
   "id": "747431a4",
   "metadata": {
    "id": "747431a4"
   },
   "outputs": [],
   "source": [
    "a != b # Comparison operators on string"
   ]
  },
  {
   "cell_type": "markdown",
   "id": "67b7ac81",
   "metadata": {
    "id": "67b7ac81"
   },
   "source": [
    "## Logical Operators"
   ]
  },
  {
   "cell_type": "code",
   "execution_count": null,
   "id": "61901b93",
   "metadata": {
    "id": "61901b93"
   },
   "outputs": [],
   "source": [
    "x = True\n",
    "y = False\n",
    "\n",
    "print('Logical  AND  operation  :-  ',x  and  y)  #  True  if  both  values  are  true\n",
    "print('Logical  OR  operation  :-  ',x  or  y)  #  True  if  either  of  the  values  is  true\n",
    "print('NOT  operation  :-  ',not  y  )  #  True  if  operand  is  false\n"
   ]
  },
  {
   "cell_type": "markdown",
   "id": "7ccaa57b",
   "metadata": {
    "id": "7ccaa57b"
   },
   "source": [
    "## Bitwise operators"
   ]
  },
  {
   "cell_type": "raw",
   "id": "e1688ec4",
   "metadata": {
    "id": "e1688ec4"
   },
   "source": [
    "Bitwise operators act on bits and performs bit by bit operation"
   ]
  },
  {
   "cell_type": "code",
   "execution_count": 1,
   "id": "ee7f163e",
   "metadata": {
    "colab": {
     "base_uri": "https://localhost:8080/"
    },
    "executionInfo": {
     "elapsed": 4,
     "status": "ok",
     "timestamp": 1681290787336,
     "user": {
      "displayName": "Jitendra Rathod",
      "userId": "08588782662248261812"
     },
     "user_tz": -330
    },
    "id": "ee7f163e",
    "outputId": "3988fae2-52d4-4bde-ad5c-4780276f058a"
   },
   "outputs": [
    {
     "name": "stdout",
     "output_type": "stream",
     "text": [
      "Bitwise  AND  operation  -  2\n",
      "Bitwise OR operation - 22\n"
     ]
    }
   ],
   "source": [
    "x = 18# binary form 10010\n",
    "y = 6# binary form 00110\n",
    "\n",
    "print('Bitwise  AND  operation  -  {}'.format(x&y)) \n",
    "print('Bitwise OR operation - {}'.format(x|y)) "
   ]
  },
  {
   "cell_type": "markdown",
   "id": "00fba424",
   "metadata": {
    "id": "00fba424"
   },
   "source": [
    "# If  conditional statement"
   ]
  },
  {
   "cell_type": "markdown",
   "id": "7e4d095e",
   "metadata": {
    "id": "7e4d095e"
   },
   "source": [
    "* A Python if statement evaluates whether a condition is equal to true or false. \n",
    "* The statement will execute a block of code if a specified condition is equal to true. Otherwise, the block of code within the if statement is not executed"
   ]
  },
  {
   "cell_type": "code",
   "execution_count": null,
   "id": "4978544b",
   "metadata": {
    "id": "4978544b"
   },
   "outputs": [],
   "source": [
    "a=8\n",
    "if a>6:\n",
    "    print('We started to work on conditional statements')"
   ]
  },
  {
   "cell_type": "code",
   "execution_count": null,
   "id": "52c8fd89",
   "metadata": {
    "id": "52c8fd89"
   },
   "outputs": [],
   "source": [
    "a=7\n",
    "if a==3:\n",
    "    print('Condition is true')"
   ]
  },
  {
   "cell_type": "code",
   "execution_count": null,
   "id": "f6be2755",
   "metadata": {
    "id": "f6be2755"
   },
   "outputs": [],
   "source": [
    "x=5\n",
    "if x==5: # If condition is false\n",
    "    print('The if condition is true')\n",
    "else:\n",
    "    print('Else condition got executed')\n"
   ]
  },
  {
   "cell_type": "code",
   "execution_count": null,
   "id": "63acf878",
   "metadata": {
    "id": "63acf878"
   },
   "outputs": [],
   "source": [
    "x=-23\n",
    "if(x>0):\n",
    "    print('i am in if block')\n",
    "else:\n",
    "    print('i am not')"
   ]
  },
  {
   "cell_type": "code",
   "execution_count": null,
   "id": "2fb0f1f1",
   "metadata": {
    "id": "2fb0f1f1"
   },
   "outputs": [],
   "source": [
    "if(5>4):\n",
    "    print('5 is big')\n",
    "    print('i am in if block')\n",
    "print('i am out of if block')  "
   ]
  },
  {
   "cell_type": "code",
   "execution_count": null,
   "id": "5f624829",
   "metadata": {
    "id": "5f624829"
   },
   "outputs": [],
   "source": [
    "x = 5\n",
    "if x>0:\n",
    "    print(\"X is positive\")\n",
    "    print(\"i am in IF block\")\n",
    "    \n",
    "print(\"i am  out of IF block\")"
   ]
  },
  {
   "cell_type": "code",
   "execution_count": null,
   "id": "b36032f3",
   "metadata": {
    "id": "b36032f3"
   },
   "outputs": [],
   "source": [
    "# if ... else\n",
    "\n",
    "x = 0\n",
    "\n",
    "if x>0:\n",
    "    print(\"X is positive\")\n",
    "    print(\"i am in IF block\")\n",
    "else:\n",
    "    print(\"X is Negative\")\n",
    "    print('i am in else block')\n",
    "    \n",
    "print(\"i am  out of IF block\")"
   ]
  },
  {
   "cell_type": "code",
   "execution_count": null,
   "id": "6d50e5ef",
   "metadata": {
    "id": "6d50e5ef"
   },
   "outputs": [],
   "source": [
    "x=11\n",
    "if(x>10):\n",
    "    print('i am in if block')\n",
    "elif(x==6):   \n",
    "# elif will help in checking more than 1 if condition\n",
    "    print('i am in elif block')\n",
    "elif(x==0):\n",
    "    print('Zero number')\n",
    "else:\n",
    "    print('i am in else block')  "
   ]
  },
  {
   "cell_type": "code",
   "execution_count": null,
   "id": "8ef1d76f",
   "metadata": {
    "id": "8ef1d76f"
   },
   "outputs": [],
   "source": [
    "# if... elif ... else\n",
    "x =int(input('enter the number'))\n",
    "\n",
    "if x>0:\n",
    "    print(\"X is positive\")\n",
    "elif x<0:\n",
    "    print(\"X is Negative\")\n",
    "    print('i am in elif block')\n",
    "else:\n",
    "    print(\"X is Zero\")\n",
    "    print('i am in else block')\n",
    "\n",
    "print('outside of the loop')  "
   ]
  },
  {
   "cell_type": "code",
   "execution_count": null,
   "id": "ae45a89c",
   "metadata": {
    "id": "ae45a89c"
   },
   "outputs": [],
   "source": [
    "## Nesting\n",
    "x=5\n",
    "if(x>=3):\n",
    "    print('i am in 1st if')\n",
    "    if(x>2):\n",
    "        print('i am in 2nd if')\n",
    "        if(x==4):\n",
    "            print('i am in 3rd if ')"
   ]
  },
  {
   "cell_type": "code",
   "execution_count": null,
   "id": "9d40ede0",
   "metadata": {
    "id": "9d40ede0"
   },
   "outputs": [],
   "source": [
    "i=56\n",
    "if(i>0):\n",
    "    print('first loop')\n",
    "    if(i<=5):\n",
    "        print('second loop')\n",
    "        print('number is in primary range')\n",
    "        if(i>5):\n",
    "            print('mid range')\n",
    "        else:\n",
    "            print('end of the loop')\n",
    "else:\n",
    "    print('number is negative')\n",
    "\n",
    "print('out of the nested loop')  "
   ]
  },
  {
   "cell_type": "code",
   "execution_count": null,
   "id": "7e5b3ef8",
   "metadata": {
    "id": "7e5b3ef8"
   },
   "outputs": [],
   "source": [
    "i = 10\n",
    "if (i == 10):\n",
    "   \n",
    "    #  First if statement\n",
    "    if (i < 15):\n",
    "        print(\"i is smaller than 15\")\n",
    "         \n",
    "    # Nested - if statement\n",
    "    # Will only be executed if statement above\n",
    "    # it is true\n",
    "    if (i < 12):\n",
    "        print(\"i is smaller than 12 too\")\n",
    "    else:\n",
    "        print(\"i is greater than 15\")"
   ]
  },
  {
   "cell_type": "markdown",
   "id": "f3e4de54",
   "metadata": {
    "id": "f3e4de54"
   },
   "source": [
    "# Input function"
   ]
  },
  {
   "cell_type": "code",
   "execution_count": null,
   "id": "d2908c22",
   "metadata": {
    "id": "d2908c22"
   },
   "outputs": [],
   "source": [
    "a=input('Enter your name:')"
   ]
  },
  {
   "cell_type": "code",
   "execution_count": null,
   "id": "0e3cffdc",
   "metadata": {
    "id": "0e3cffdc"
   },
   "outputs": [],
   "source": [
    "a"
   ]
  },
  {
   "cell_type": "code",
   "execution_count": null,
   "id": "9643f3b8",
   "metadata": {
    "id": "9643f3b8",
    "scrolled": true
   },
   "outputs": [],
   "source": [
    "a"
   ]
  },
  {
   "cell_type": "code",
   "execution_count": null,
   "id": "90f784e5",
   "metadata": {
    "id": "90f784e5"
   },
   "outputs": [],
   "source": [
    "b=int(input('Enter your marks:'))\n"
   ]
  },
  {
   "cell_type": "code",
   "execution_count": null,
   "id": "08c83a56",
   "metadata": {
    "id": "08c83a56"
   },
   "outputs": [],
   "source": [
    "b"
   ]
  },
  {
   "cell_type": "code",
   "execution_count": null,
   "id": "1ebf1bb2",
   "metadata": {
    "id": "1ebf1bb2"
   },
   "outputs": [],
   "source": [
    "type(b)"
   ]
  },
  {
   "cell_type": "code",
   "execution_count": null,
   "id": "19254745",
   "metadata": {
    "id": "19254745"
   },
   "outputs": [],
   "source": [
    "c=float(input('Enter your age:'))\n"
   ]
  },
  {
   "cell_type": "code",
   "execution_count": null,
   "id": "6b4b5faf",
   "metadata": {
    "id": "6b4b5faf"
   },
   "outputs": [],
   "source": [
    "type(c)"
   ]
  },
  {
   "cell_type": "markdown",
   "id": "d80b83eb",
   "metadata": {
    "id": "d80b83eb"
   },
   "source": [
    "# Packages"
   ]
  },
  {
   "cell_type": "raw",
   "id": "c425cde2",
   "metadata": {
    "id": "c425cde2"
   },
   "source": [
    "Packages are software which holds certain functionalities to work on.In python we have many builtin packages which we will be\n",
    "using.\n",
    "\n",
    "Packages contains moduled and submodules.\n",
    "\n",
    "Each and every module and submodule can be used independently by using certain keywords."
   ]
  },
  {
   "cell_type": "raw",
   "id": "6d7a5b1f",
   "metadata": {
    "id": "6d7a5b1f"
   },
   "source": [
    "So lets assume we want to build a software where we need 4 functionalities like A,B,C,D.So you cannot go directly and we the build the software,you need to breal down this into logical smaller parts.So lets say A and C are have similar types of functionality  and B and D takes similar type of functionality so we will group them under same module."
   ]
  },
  {
   "cell_type": "raw",
   "id": "ec1b894e",
   "metadata": {
    "id": "ec1b894e"
   },
   "source": [
    "Modules and submodules provide very efficient way of writing code.If you want to make changes in A,you need to disturb any modules,you can go ahead and make the chnages.\n",
    "\n",
    "Modules also provide code resuibilty.If we wnat to develope new software which uses only A and D,they can be used."
   ]
  },
  {
   "cell_type": "markdown",
   "id": "54b39d5a",
   "metadata": {
    "id": "54b39d5a"
   },
   "source": [
    "# Datetime package"
   ]
  },
  {
   "cell_type": "raw",
   "id": "ddda0c5e",
   "metadata": {
    "id": "ddda0c5e"
   },
   "source": [
    "In Python, date and time are not a data type of their own, but a module named datetime can be imported to work with the date as well as time. Python Datetime module comes built into Python, so there is no need to install it externally. "
   ]
  },
  {
   "cell_type": "raw",
   "id": "f7df10eb",
   "metadata": {
    "id": "f7df10eb"
   },
   "source": [
    "1)date – An idealized naive date, assuming the current Gregorian calendar always was, and always will be, in effect. Its attributes are year, month and day.\n",
    "\n",
    "\n",
    "2)time – An idealized time, independent of any particular day, assuming that every day has exactly 24*60*60 seconds. Its attributes are hour, minute, second, microsecond\n",
    "\n",
    "3)datetime – Its a combination of date and time along with the attributes year, month, day, hour, minute, second, microsecond\n",
    "\n",
    "4)timedelta – A duration expressing the difference between two date, time, or datetime instances to microsecond resolution."
   ]
  },
  {
   "cell_type": "code",
   "execution_count": null,
   "id": "f8794c88",
   "metadata": {
    "id": "f8794c88"
   },
   "outputs": [],
   "source": [
    "from datetime import date"
   ]
  },
  {
   "cell_type": "code",
   "execution_count": null,
   "id": "3df143a1",
   "metadata": {
    "id": "3df143a1"
   },
   "outputs": [],
   "source": [
    "my_date = date(1996, 9, 11) ## Simple date creation"
   ]
  },
  {
   "cell_type": "code",
   "execution_count": null,
   "id": "4e13a47f",
   "metadata": {
    "id": "4e13a47f"
   },
   "outputs": [],
   "source": [
    "my_date"
   ]
  },
  {
   "cell_type": "code",
   "execution_count": null,
   "id": "55e602b4",
   "metadata": {
    "id": "55e602b4"
   },
   "outputs": [],
   "source": [
    "# Getting today's date\n",
    "today1 = date.today()\n",
    " \n",
    "print(\"Today's date is\", today1)"
   ]
  },
  {
   "cell_type": "code",
   "execution_count": null,
   "id": "009053e1",
   "metadata": {
    "id": "009053e1"
   },
   "outputs": [],
   "source": [
    "today1.isoweekday()"
   ]
  },
  {
   "cell_type": "code",
   "execution_count": null,
   "id": "f591dae6",
   "metadata": {
    "id": "f591dae6"
   },
   "outputs": [],
   "source": [
    "# Get Today’s Year, Month, and Date\n",
    "\n",
    "print(\"Current year:\", today1.year)\n",
    "print(\"Current month:\", today1.month)\n",
    "print(\"Current day:\", today1.day)"
   ]
  },
  {
   "cell_type": "code",
   "execution_count": 2,
   "id": "a3579d96",
   "metadata": {
    "id": "a3579d96"
   },
   "outputs": [],
   "source": [
    "# Get date from datetime sub module\n",
    "from datetime import datetime  as dt\n"
   ]
  },
  {
   "cell_type": "code",
   "execution_count": 3,
   "id": "4a8b9c91",
   "metadata": {
    "id": "4a8b9c91"
   },
   "outputs": [],
   "source": [
    "date1=dt.now()"
   ]
  },
  {
   "cell_type": "code",
   "execution_count": 4,
   "id": "5c414dc0",
   "metadata": {
    "id": "5c414dc0"
   },
   "outputs": [
    {
     "data": {
      "text/plain": [
       "datetime.datetime(2023, 4, 19, 23, 3, 20, 306015)"
      ]
     },
     "execution_count": 4,
     "metadata": {},
     "output_type": "execute_result"
    }
   ],
   "source": [
    "date1"
   ]
  },
  {
   "cell_type": "code",
   "execution_count": 5,
   "id": "339fcf95",
   "metadata": {
    "id": "339fcf95"
   },
   "outputs": [
    {
     "data": {
      "text/plain": [
       "datetime.date(2023, 4, 19)"
      ]
     },
     "execution_count": 5,
     "metadata": {},
     "output_type": "execute_result"
    }
   ],
   "source": [
    "dt.date(date1)"
   ]
  },
  {
   "cell_type": "code",
   "execution_count": 6,
   "id": "a8cd79e2",
   "metadata": {
    "id": "a8cd79e2"
   },
   "outputs": [
    {
     "data": {
      "text/plain": [
       "19"
      ]
     },
     "execution_count": 6,
     "metadata": {},
     "output_type": "execute_result"
    }
   ],
   "source": [
    "date1.day"
   ]
  },
  {
   "cell_type": "code",
   "execution_count": 7,
   "id": "e38c3730",
   "metadata": {
    "id": "e38c3730"
   },
   "outputs": [
    {
     "data": {
      "text/plain": [
       "23"
      ]
     },
     "execution_count": 7,
     "metadata": {},
     "output_type": "execute_result"
    }
   ],
   "source": [
    "date1.hour"
   ]
  },
  {
   "cell_type": "code",
   "execution_count": 8,
   "id": "900a7abe",
   "metadata": {
    "id": "900a7abe"
   },
   "outputs": [
    {
     "data": {
      "text/plain": [
       "3"
      ]
     },
     "execution_count": 8,
     "metadata": {},
     "output_type": "execute_result"
    }
   ],
   "source": [
    "date1.isoweekday()"
   ]
  },
  {
   "cell_type": "code",
   "execution_count": 9,
   "id": "cc387dd6",
   "metadata": {
    "id": "cc387dd6"
   },
   "outputs": [
    {
     "data": {
      "text/plain": [
       "4"
      ]
     },
     "execution_count": 9,
     "metadata": {},
     "output_type": "execute_result"
    }
   ],
   "source": [
    "date1.month"
   ]
  },
  {
   "cell_type": "code",
   "execution_count": 10,
   "id": "87a933e1",
   "metadata": {
    "id": "87a933e1"
   },
   "outputs": [],
   "source": [
    "# Time submodule\n",
    "\n",
    "from datetime import time"
   ]
  },
  {
   "cell_type": "code",
   "execution_count": 11,
   "id": "dbf47ed8",
   "metadata": {
    "id": "dbf47ed8"
   },
   "outputs": [
    {
     "name": "stdout",
     "output_type": "stream",
     "text": [
      "Entered time 00:00:00\n"
     ]
    }
   ],
   "source": [
    "my_time = time()\n",
    " \n",
    "print(\"Entered time\", my_time)"
   ]
  },
  {
   "cell_type": "code",
   "execution_count": 12,
   "id": "dfcb1bdd",
   "metadata": {
    "id": "dfcb1bdd"
   },
   "outputs": [
    {
     "data": {
      "text/plain": [
       "datetime.date(2025, 4, 18)"
      ]
     },
     "execution_count": 12,
     "metadata": {},
     "output_type": "execute_result"
    }
   ],
   "source": [
    "# Timedelta function demonstration\n",
    " \n",
    "from datetime import date, timedelta\n",
    "\n",
    "current_date = date.today()\n",
    "\n",
    "# Calculating future dates\n",
    "# for 730 days\n",
    "future_date_after_2yrs = current_date + timedelta(days=730)\n",
    "future_date_after_2yrs"
   ]
  },
  {
   "cell_type": "code",
   "execution_count": 13,
   "id": "10a5a45b",
   "metadata": {
    "id": "10a5a45b"
   },
   "outputs": [],
   "source": [
    "## Task:-Calculate your age after 5000 days.\n",
    "##The output should be in years"
   ]
  },
  {
   "cell_type": "markdown",
   "id": "fcba5077",
   "metadata": {
    "id": "fcba5077"
   },
   "source": [
    "# Data Structures of Python"
   ]
  },
  {
   "cell_type": "code",
   "execution_count": 14,
   "id": "6581811f",
   "metadata": {
    "id": "6581811f"
   },
   "outputs": [],
   "source": [
    "a=23,24"
   ]
  },
  {
   "cell_type": "code",
   "execution_count": 15,
   "id": "a3063de8",
   "metadata": {
    "id": "a3063de8"
   },
   "outputs": [
    {
     "ename": "TypeError",
     "evalue": "can only concatenate tuple (not \"int\") to tuple",
     "output_type": "error",
     "traceback": [
      "\u001b[1;31m---------------------------------------------------------------------------\u001b[0m",
      "\u001b[1;31mTypeError\u001b[0m                                 Traceback (most recent call last)",
      "Cell \u001b[1;32mIn[15], line 1\u001b[0m\n\u001b[1;32m----> 1\u001b[0m \u001b[43ma\u001b[49m\u001b[38;5;241;43m+\u001b[39;49m\u001b[38;5;241;43m2\u001b[39;49m\n",
      "\u001b[1;31mTypeError\u001b[0m: can only concatenate tuple (not \"int\") to tuple"
     ]
    }
   ],
   "source": [
    "a+2"
   ]
  },
  {
   "cell_type": "raw",
   "id": "d93398d5",
   "metadata": {
    "id": "d93398d5"
   },
   "source": [
    "There are 4 major ds in python\n",
    "\n",
    "1)List\n",
    "2)Tuple\n",
    "3)Dictonary\n",
    "4)Sets"
   ]
  },
  {
   "cell_type": "markdown",
   "id": "7538dada",
   "metadata": {
    "id": "7538dada"
   },
   "source": [
    "## List"
   ]
  },
  {
   "cell_type": "raw",
   "id": "0a684516",
   "metadata": {
    "id": "0a684516"
   },
   "source": [
    "1)\tList is a sequence of items.\n",
    "2)\tWe can have different data types under a list. \n",
    "E.g we can have integer, float and string items in a same list.\n"
   ]
  },
  {
   "cell_type": "code",
   "execution_count": 16,
   "id": "1c89ab4e",
   "metadata": {
    "id": "1c89ab4e"
   },
   "outputs": [],
   "source": [
    "# List creation\n",
    "\n",
    "l1=[] # Empty list \n"
   ]
  },
  {
   "cell_type": "code",
   "execution_count": 17,
   "id": "e6266bf0",
   "metadata": {
    "id": "e6266bf0"
   },
   "outputs": [
    {
     "data": {
      "text/plain": [
       "list"
      ]
     },
     "execution_count": 17,
     "metadata": {},
     "output_type": "execute_result"
    }
   ],
   "source": [
    "type(l1)"
   ]
  },
  {
   "cell_type": "code",
   "execution_count": 18,
   "id": "2f961072",
   "metadata": {
    "id": "2f961072"
   },
   "outputs": [
    {
     "data": {
      "text/plain": [
       "[1, 2, 3, 4]"
      ]
     },
     "execution_count": 18,
     "metadata": {},
     "output_type": "execute_result"
    }
   ],
   "source": [
    "l2=list([1,2,3,4]) # List of integer\n",
    "l2"
   ]
  },
  {
   "cell_type": "code",
   "execution_count": 19,
   "id": "f9a9d465",
   "metadata": {
    "id": "f9a9d465"
   },
   "outputs": [
    {
     "data": {
      "text/plain": [
       "list"
      ]
     },
     "execution_count": 19,
     "metadata": {},
     "output_type": "execute_result"
    }
   ],
   "source": [
    "type(l2)"
   ]
  },
  {
   "cell_type": "code",
   "execution_count": 20,
   "id": "b0e78212",
   "metadata": {
    "id": "b0e78212"
   },
   "outputs": [],
   "source": [
    "l3=[12.3,34.5,56.23,5.3]  # List of float"
   ]
  },
  {
   "cell_type": "code",
   "execution_count": 21,
   "id": "5f21fb99",
   "metadata": {
    "id": "5f21fb99"
   },
   "outputs": [],
   "source": [
    "l4=['ABC','PQR','RES']  # List of strings"
   ]
  },
  {
   "cell_type": "code",
   "execution_count": 22,
   "id": "23cdb805",
   "metadata": {
    "id": "23cdb805"
   },
   "outputs": [],
   "source": [
    "l5=['Data',  25  ,[50,  100],[150,  90]] \n",
    "#  Nested  Lists i.e list inside list"
   ]
  },
  {
   "cell_type": "code",
   "execution_count": 23,
   "id": "7428dc93",
   "metadata": {
    "id": "7428dc93"
   },
   "outputs": [],
   "source": [
    "l6=[100,  'Data',  17.765] #  List  of  mixed  data  types"
   ]
  },
  {
   "cell_type": "code",
   "execution_count": 24,
   "id": "984278b2",
   "metadata": {
    "id": "984278b2"
   },
   "outputs": [
    {
     "data": {
      "text/plain": [
       "4"
      ]
     },
     "execution_count": 24,
     "metadata": {},
     "output_type": "execute_result"
    }
   ],
   "source": [
    "len(l2) # Number of elements in list"
   ]
  },
  {
   "cell_type": "markdown",
   "id": "1aa1ca32",
   "metadata": {
    "id": "1aa1ca32"
   },
   "source": [
    "## List Indexing and  Slicing"
   ]
  },
  {
   "cell_type": "code",
   "execution_count": 25,
   "id": "2b706da5",
   "metadata": {
    "id": "2b706da5"
   },
   "outputs": [],
   "source": [
    "mylist = ['one' , 'two' , 'three' , 'four' , 'five' , 'six' ,\n",
    "          'seven' , 'eight']"
   ]
  },
  {
   "cell_type": "code",
   "execution_count": 26,
   "id": "921e642f",
   "metadata": {
    "id": "921e642f"
   },
   "outputs": [
    {
     "data": {
      "text/plain": [
       "'three'"
      ]
     },
     "execution_count": 26,
     "metadata": {},
     "output_type": "execute_result"
    }
   ],
   "source": [
    "mylist[2]"
   ]
  },
  {
   "cell_type": "code",
   "execution_count": 27,
   "id": "2ee42b77",
   "metadata": {
    "id": "2ee42b77"
   },
   "outputs": [
    {
     "data": {
      "text/plain": [
       "['one', 'two', 'three']"
      ]
     },
     "execution_count": 27,
     "metadata": {},
     "output_type": "execute_result"
    }
   ],
   "source": [
    "mylist[0:3]  #  Return  all  items  from  0th  to  3rd  index  location  excluding  the  item at upper limit"
   ]
  },
  {
   "cell_type": "code",
   "execution_count": 28,
   "id": "7f0588cd",
   "metadata": {
    "id": "7f0588cd"
   },
   "outputs": [
    {
     "data": {
      "text/plain": [
       "['one', 'four', 'seven']"
      ]
     },
     "execution_count": 28,
     "metadata": {},
     "output_type": "execute_result"
    }
   ],
   "source": [
    "mylist[0:7:3]"
   ]
  },
  {
   "cell_type": "markdown",
   "id": "b46cc26d",
   "metadata": {
    "id": "b46cc26d"
   },
   "source": [
    "## Add , Remove & Change Items"
   ]
  },
  {
   "cell_type": "code",
   "execution_count": 29,
   "id": "9cea3777",
   "metadata": {
    "id": "9cea3777"
   },
   "outputs": [
    {
     "data": {
      "text/plain": [
       "['one', 'two', 'three', 'four', 'five', 'six', 'seven', 'eight']"
      ]
     },
     "execution_count": 29,
     "metadata": {},
     "output_type": "execute_result"
    }
   ],
   "source": [
    "mylist"
   ]
  },
  {
   "cell_type": "code",
   "execution_count": 30,
   "id": "12234e89",
   "metadata": {
    "id": "12234e89"
   },
   "outputs": [
    {
     "data": {
      "text/plain": [
       "['one', 'two', 'three', 'four', 'five', 'six', 'seven', 'eight', 'nine']"
      ]
     },
     "execution_count": 30,
     "metadata": {},
     "output_type": "execute_result"
    }
   ],
   "source": [
    "mylist.append('nine')  \n",
    "#  Add  an  item  to  the  end  of  the  list\n",
    "mylist\n"
   ]
  },
  {
   "cell_type": "code",
   "execution_count": 31,
   "id": "445eb9bb",
   "metadata": {
    "id": "445eb9bb"
   },
   "outputs": [],
   "source": [
    "mylist.append(2)"
   ]
  },
  {
   "cell_type": "code",
   "execution_count": 32,
   "id": "ebdc07d0",
   "metadata": {
    "id": "ebdc07d0"
   },
   "outputs": [
    {
     "data": {
      "text/plain": [
       "['one', 'two', 'three', 'four', 'five', 'six', 'seven', 'eight', 'nine', 2]"
      ]
     },
     "execution_count": 32,
     "metadata": {},
     "output_type": "execute_result"
    }
   ],
   "source": [
    "mylist"
   ]
  },
  {
   "cell_type": "code",
   "execution_count": 34,
   "id": "365cec19",
   "metadata": {
    "id": "365cec19"
   },
   "outputs": [
    {
     "data": {
      "text/plain": [
       "['one',\n",
       " 'two',\n",
       " 'three',\n",
       " 'ten',\n",
       " 'ten',\n",
       " 'four',\n",
       " 'five',\n",
       " 'six',\n",
       " 'seven',\n",
       " 'eight',\n",
       " 'nine',\n",
       " 2]"
      ]
     },
     "execution_count": 34,
     "metadata": {},
     "output_type": "execute_result"
    }
   ],
   "source": [
    "mylist.insert(3,'ten')  \n",
    "#  Add  item  at  index  location  3\n",
    "mylist\n"
   ]
  },
  {
   "cell_type": "code",
   "execution_count": 35,
   "id": "bbd921b2",
   "metadata": {
    "id": "bbd921b2"
   },
   "outputs": [
    {
     "data": {
      "text/plain": [
       "['one',\n",
       " 'two',\n",
       " 'three',\n",
       " 'ten',\n",
       " 'ten',\n",
       " 'four',\n",
       " 'five',\n",
       " 'six',\n",
       " 'seven',\n",
       " 'eight',\n",
       " 'nine',\n",
       " 2,\n",
       " 1,\n",
       " 2,\n",
       " 3]"
      ]
     },
     "execution_count": 35,
     "metadata": {},
     "output_type": "execute_result"
    }
   ],
   "source": [
    "mylist.extend([1,2,3])  \n",
    "#Add multiple elements at a time at end of list\n",
    "mylist "
   ]
  },
  {
   "cell_type": "code",
   "execution_count": 36,
   "id": "3fc24493",
   "metadata": {
    "id": "3fc24493"
   },
   "outputs": [
    {
     "data": {
      "text/plain": [
       "3"
      ]
     },
     "execution_count": 36,
     "metadata": {},
     "output_type": "execute_result"
    }
   ],
   "source": [
    "mylist.pop()  # Remove last  element from list"
   ]
  },
  {
   "cell_type": "code",
   "execution_count": 37,
   "id": "a769709b",
   "metadata": {
    "id": "a769709b"
   },
   "outputs": [
    {
     "data": {
      "text/plain": [
       "['one',\n",
       " 'two',\n",
       " 'three',\n",
       " 'ten',\n",
       " 'ten',\n",
       " 'four',\n",
       " 'five',\n",
       " 'six',\n",
       " 'seven',\n",
       " 'eight',\n",
       " 'nine',\n",
       " 2,\n",
       " 1,\n",
       " 2]"
      ]
     },
     "execution_count": 37,
     "metadata": {},
     "output_type": "execute_result"
    }
   ],
   "source": [
    "mylist"
   ]
  },
  {
   "cell_type": "code",
   "execution_count": 38,
   "id": "98b1bf46",
   "metadata": {
    "id": "98b1bf46"
   },
   "outputs": [
    {
     "data": {
      "text/plain": [
       "['one',\n",
       " 'two',\n",
       " 'three',\n",
       " 'ten',\n",
       " 'ten',\n",
       " 'four',\n",
       " 'five',\n",
       " 'six',\n",
       " 'eight',\n",
       " 'nine',\n",
       " 2,\n",
       " 1,\n",
       " 2]"
      ]
     },
     "execution_count": 38,
     "metadata": {},
     "output_type": "execute_result"
    }
   ],
   "source": [
    "mylist.pop(8)  #  Remove  item  at  index  location  8\n",
    "mylist\n"
   ]
  },
  {
   "cell_type": "code",
   "execution_count": 39,
   "id": "ad56e87a",
   "metadata": {
    "id": "ad56e87a"
   },
   "outputs": [
    {
     "data": {
      "text/plain": [
       "['two', 'three', 'ten', 'ten', 'four', 'five', 'six', 'eight', 'nine', 2, 1, 2]"
      ]
     },
     "execution_count": 39,
     "metadata": {},
     "output_type": "execute_result"
    }
   ],
   "source": [
    "mylist.remove('one')  #  Remove  item  \"ONE\" (value)\n",
    "mylist\n"
   ]
  },
  {
   "cell_type": "code",
   "execution_count": 40,
   "id": "a2667e93",
   "metadata": {
    "id": "a2667e93"
   },
   "outputs": [
    {
     "data": {
      "text/plain": [
       "['two', 'three', 'ten', 'ten', 'four', 'five', 'six', 'nine', 2, 1, 2]"
      ]
     },
     "execution_count": 40,
     "metadata": {},
     "output_type": "execute_result"
    }
   ],
   "source": [
    "del  mylist[7]  #  Remove  item  at  index  location  7\n",
    "mylist\n"
   ]
  },
  {
   "cell_type": "code",
   "execution_count": 41,
   "id": "25b7dd47",
   "metadata": {
    "id": "25b7dd47"
   },
   "outputs": [
    {
     "data": {
      "text/plain": [
       "[]"
      ]
     },
     "execution_count": 41,
     "metadata": {},
     "output_type": "execute_result"
    }
   ],
   "source": [
    "mylist.clear()# Empty List / Delete all items in the list\n",
    "mylist"
   ]
  },
  {
   "cell_type": "code",
   "execution_count": 42,
   "id": "93ff6c9a",
   "metadata": {
    "id": "93ff6c9a"
   },
   "outputs": [],
   "source": [
    "del mylist # Delete entire list"
   ]
  },
  {
   "cell_type": "code",
   "execution_count": 43,
   "id": "3d1572d1",
   "metadata": {
    "id": "3d1572d1"
   },
   "outputs": [
    {
     "ename": "NameError",
     "evalue": "name 'mylist' is not defined",
     "output_type": "error",
     "traceback": [
      "\u001b[1;31m---------------------------------------------------------------------------\u001b[0m",
      "\u001b[1;31mNameError\u001b[0m                                 Traceback (most recent call last)",
      "Cell \u001b[1;32mIn[43], line 1\u001b[0m\n\u001b[1;32m----> 1\u001b[0m \u001b[43mmylist\u001b[49m\n",
      "\u001b[1;31mNameError\u001b[0m: name 'mylist' is not defined"
     ]
    }
   ],
   "source": [
    "mylist"
   ]
  },
  {
   "cell_type": "markdown",
   "id": "46aa6701",
   "metadata": {
    "id": "46aa6701"
   },
   "source": [
    "## Join Lists"
   ]
  },
  {
   "cell_type": "code",
   "execution_count": 44,
   "id": "76b7b145",
   "metadata": {
    "id": "76b7b145"
   },
   "outputs": [],
   "source": [
    "list1 = ['one', 'two', 'three', 'four']\n",
    "list2 = ['five', 'six', 'seven', 'eight']\n"
   ]
  },
  {
   "cell_type": "code",
   "execution_count": 45,
   "id": "d7b97342",
   "metadata": {
    "id": "d7b97342"
   },
   "outputs": [
    {
     "data": {
      "text/plain": [
       "['one', 'two', 'three', 'four', 'five', 'six', 'seven', 'eight']"
      ]
     },
     "execution_count": 45,
     "metadata": {},
     "output_type": "execute_result"
    }
   ],
   "source": [
    "list3 = list1 + list2 # Join two lists by '+' operator\n",
    "list3\n"
   ]
  },
  {
   "cell_type": "code",
   "execution_count": 46,
   "id": "88b00f56",
   "metadata": {
    "id": "88b00f56"
   },
   "outputs": [
    {
     "data": {
      "text/plain": [
       "['five', 'six', 'seven', 'eight', 'one', 'two', 'three', 'four']"
      ]
     },
     "execution_count": 46,
     "metadata": {},
     "output_type": "execute_result"
    }
   ],
   "source": [
    "list2.extend(list1) #Append list2 with list1\n",
    "list2\n"
   ]
  },
  {
   "cell_type": "markdown",
   "id": "60e46d90",
   "metadata": {
    "id": "60e46d90"
   },
   "source": [
    "## List Membership"
   ]
  },
  {
   "cell_type": "code",
   "execution_count": 47,
   "id": "8a8aa222",
   "metadata": {
    "id": "8a8aa222"
   },
   "outputs": [],
   "source": [
    "## 'in' is membership operator and will check if given element is present\n",
    "## in sequence."
   ]
  },
  {
   "cell_type": "code",
   "execution_count": 48,
   "id": "34e1b703",
   "metadata": {
    "id": "34e1b703"
   },
   "outputs": [
    {
     "data": {
      "text/plain": [
       "['one', 'two', 'three', 'four']"
      ]
     },
     "execution_count": 48,
     "metadata": {},
     "output_type": "execute_result"
    }
   ],
   "source": [
    "list1"
   ]
  },
  {
   "cell_type": "code",
   "execution_count": null,
   "id": "ae71db76",
   "metadata": {
    "id": "ae71db76"
   },
   "outputs": [],
   "source": [
    "'one' in list1 # Check if 'one' exist in the list"
   ]
  },
  {
   "cell_type": "code",
   "execution_count": null,
   "id": "86b994ae",
   "metadata": {
    "id": "86b994ae"
   },
   "outputs": [],
   "source": [
    "10 in list1 # Check if 'ten' exist in the list"
   ]
  },
  {
   "cell_type": "markdown",
   "id": "57d40be1",
   "metadata": {
    "id": "57d40be1"
   },
   "source": [
    "## Reverse & Sort List"
   ]
  },
  {
   "cell_type": "code",
   "execution_count": null,
   "id": "eb867dec",
   "metadata": {
    "id": "eb867dec"
   },
   "outputs": [],
   "source": [
    "list1"
   ]
  },
  {
   "cell_type": "code",
   "execution_count": null,
   "id": "4d00081f",
   "metadata": {
    "id": "4d00081f"
   },
   "outputs": [],
   "source": [
    "list1.reverse() # Reverse the list\n",
    "list1\n"
   ]
  },
  {
   "cell_type": "code",
   "execution_count": null,
   "id": "d7d46941",
   "metadata": {
    "id": "d7d46941"
   },
   "outputs": [],
   "source": [
    "list1[::-1]  #  Reverse  the  list\n",
    "\n"
   ]
  },
  {
   "cell_type": "code",
   "execution_count": null,
   "id": "17083c7d",
   "metadata": {
    "id": "17083c7d"
   },
   "outputs": [],
   "source": [
    "list1"
   ]
  },
  {
   "cell_type": "code",
   "execution_count": null,
   "id": "a1e54fbf",
   "metadata": {
    "id": "a1e54fbf"
   },
   "outputs": [],
   "source": [
    "list1.sort()"
   ]
  },
  {
   "cell_type": "code",
   "execution_count": null,
   "id": "dc4c4e02",
   "metadata": {
    "id": "dc4c4e02"
   },
   "outputs": [],
   "source": [
    "list1"
   ]
  },
  {
   "cell_type": "code",
   "execution_count": null,
   "id": "903d2e01",
   "metadata": {
    "id": "903d2e01"
   },
   "outputs": [],
   "source": [
    "lsit4=[1,2,'A',4]"
   ]
  },
  {
   "cell_type": "code",
   "execution_count": null,
   "id": "7da60b28",
   "metadata": {
    "id": "7da60b28"
   },
   "outputs": [],
   "source": [
    "lsit4.sort()"
   ]
  },
  {
   "cell_type": "code",
   "execution_count": null,
   "id": "5094209a",
   "metadata": {
    "id": "5094209a"
   },
   "outputs": [],
   "source": [
    "lsit4"
   ]
  },
  {
   "cell_type": "code",
   "execution_count": null,
   "id": "bbba8c3d",
   "metadata": {
    "id": "bbba8c3d"
   },
   "outputs": [],
   "source": [
    "list1.sort()"
   ]
  },
  {
   "cell_type": "code",
   "execution_count": null,
   "id": "4be28f43",
   "metadata": {
    "id": "4be28f43"
   },
   "outputs": [],
   "source": [
    "list1"
   ]
  },
  {
   "cell_type": "code",
   "execution_count": null,
   "id": "11283ce8",
   "metadata": {
    "id": "11283ce8"
   },
   "outputs": [],
   "source": [
    "mylist3  =  [9,5,2,99,12,88,34]\n",
    "mylist3.sort()\t# Sort list in ascending order\n",
    "mylist3\n"
   ]
  },
  {
   "cell_type": "code",
   "execution_count": null,
   "id": "675135ba",
   "metadata": {
    "id": "675135ba"
   },
   "outputs": [],
   "source": [
    "mylist3  =  [9,5,2,99,12,88,34]\n",
    "mylist3.sort(reverse=True)\t#  Sort  list  in  descending  order\n",
    "mylist3\n"
   ]
  },
  {
   "cell_type": "code",
   "execution_count": null,
   "id": "d1fba78e",
   "metadata": {
    "id": "d1fba78e"
   },
   "outputs": [],
   "source": [
    "list4=[1,2,3,'cat','dog','egg']"
   ]
  },
  {
   "cell_type": "code",
   "execution_count": null,
   "id": "bb3db282",
   "metadata": {
    "id": "bb3db282"
   },
   "outputs": [],
   "source": [
    "list4.sort()"
   ]
  },
  {
   "cell_type": "markdown",
   "id": "93722144",
   "metadata": {
    "id": "93722144"
   },
   "source": [
    "## All / Any\n",
    "\n",
    "\n",
    "\n"
   ]
  },
  {
   "cell_type": "raw",
   "id": "a4f5e776",
   "metadata": {
    "id": "a4f5e776"
   },
   "source": [
    "The all() method returns:\n",
    "\n",
    "True - If all elements in a list are true\n",
    "False - If any element in a list is false\n",
    "\n",
    "The any() function returns True if any element in the list is True. \n",
    "If not, any() returns False."
   ]
  },
  {
   "cell_type": "code",
   "execution_count": null,
   "id": "a8410967",
   "metadata": {
    "id": "a8410967"
   },
   "outputs": [],
   "source": [
    "L1  =  [1,2,3,4,6]"
   ]
  },
  {
   "cell_type": "code",
   "execution_count": null,
   "id": "0c7a9c78",
   "metadata": {
    "id": "0c7a9c78"
   },
   "outputs": [],
   "source": [
    "L3=[1,2,3,4,0]"
   ]
  },
  {
   "cell_type": "code",
   "execution_count": null,
   "id": "90b5d4e5",
   "metadata": {
    "id": "90b5d4e5"
   },
   "outputs": [],
   "source": [
    "all(L3) # Will Return false as one value is false (Value 0)"
   ]
  },
  {
   "cell_type": "code",
   "execution_count": null,
   "id": "481ab806",
   "metadata": {
    "id": "481ab806"
   },
   "outputs": [],
   "source": [
    "any(L1)\t# Will Return True as we have items in the list with \n",
    "#True value"
   ]
  },
  {
   "cell_type": "code",
   "execution_count": null,
   "id": "3096aad9",
   "metadata": {
    "id": "3096aad9"
   },
   "outputs": [],
   "source": [
    "L2  =  [0]"
   ]
  },
  {
   "cell_type": "code",
   "execution_count": null,
   "id": "b87169d4",
   "metadata": {
    "id": "b87169d4"
   },
   "outputs": [],
   "source": [
    "all(L2) # Returns false as one value is false"
   ]
  },
  {
   "cell_type": "code",
   "execution_count": null,
   "id": "973c0c73",
   "metadata": {
    "id": "973c0c73"
   },
   "outputs": [],
   "source": [
    "any(L2)\t# Will Return True as we have items in the list with True \n",
    "#value"
   ]
  },
  {
   "cell_type": "markdown",
   "id": "486a59cb",
   "metadata": {
    "id": "486a59cb"
   },
   "source": [
    "# Tuples"
   ]
  },
  {
   "cell_type": "raw",
   "id": "7d567fad",
   "metadata": {
    "id": "7d567fad"
   },
   "source": [
    "1.\tTuple is similar to List except that the objects in tuple are immutable which means we cannot change the elements of a         tuple once assigned.\n",
    "2.\tWhen we do not want to change the data over time, tuple is a preferred data type.\n",
    "3.\tIterating over the elements of a tuple is faster compared to iterating over a list.\n"
   ]
  },
  {
   "cell_type": "markdown",
   "id": "87a90b6f",
   "metadata": {
    "id": "87a90b6f"
   },
   "source": [
    "# Tuple Creation"
   ]
  },
  {
   "cell_type": "code",
   "execution_count": null,
   "id": "9b4a8d28",
   "metadata": {
    "id": "9b4a8d28"
   },
   "outputs": [],
   "source": [
    "tup1 = ()\t# Empty tuple"
   ]
  },
  {
   "cell_type": "code",
   "execution_count": null,
   "id": "90c39328",
   "metadata": {
    "id": "90c39328"
   },
   "outputs": [],
   "source": [
    "type(tup1)"
   ]
  },
  {
   "cell_type": "code",
   "execution_count": null,
   "id": "b54396d4",
   "metadata": {
    "id": "b54396d4"
   },
   "outputs": [],
   "source": [
    "tup2  =  (10,30,60)\t#  tuple  of  integers  numbers"
   ]
  },
  {
   "cell_type": "code",
   "execution_count": null,
   "id": "d2dab20a",
   "metadata": {
    "id": "d2dab20a"
   },
   "outputs": [],
   "source": [
    "tup3 = (10.77,30.66,60.89)\t# tuple of float numbers"
   ]
  },
  {
   "cell_type": "code",
   "execution_count": null,
   "id": "4783658d",
   "metadata": {
    "id": "4783658d"
   },
   "outputs": [],
   "source": [
    "tup4 =  ('one','two' , \"three\")\t# tuple of strings"
   ]
  },
  {
   "cell_type": "code",
   "execution_count": null,
   "id": "1d826f25",
   "metadata": {
    "id": "1d826f25"
   },
   "outputs": [],
   "source": [
    "tup5  =  ('Data',  25  ,(50,  100),(150,  90))\t#  Nested  tuples"
   ]
  },
  {
   "cell_type": "code",
   "execution_count": null,
   "id": "7330bc0d",
   "metadata": {
    "id": "7330bc0d"
   },
   "outputs": [],
   "source": [
    "tup6  =  (100,  'Data',  17.765)\t#  Tuple  of  mixed  data  types"
   ]
  },
  {
   "cell_type": "code",
   "execution_count": null,
   "id": "19200835",
   "metadata": {
    "id": "19200835"
   },
   "outputs": [],
   "source": [
    "tup7  =  ('Data',  25  ,[50,  100],[150,  90]  ,  {'John'  ,  'David'}  , \n",
    "          (99,22,33))"
   ]
  },
  {
   "cell_type": "code",
   "execution_count": null,
   "id": "7b622f86",
   "metadata": {
    "id": "7b622f86"
   },
   "outputs": [],
   "source": [
    "len(tup7) #Length of tuple"
   ]
  },
  {
   "cell_type": "markdown",
   "id": "4da5ffe5",
   "metadata": {
    "id": "4da5ffe5"
   },
   "source": [
    "## Tuple Indexing"
   ]
  },
  {
   "cell_type": "code",
   "execution_count": null,
   "id": "4403999d",
   "metadata": {
    "id": "4403999d"
   },
   "outputs": [],
   "source": [
    "tup2[1]"
   ]
  },
  {
   "cell_type": "code",
   "execution_count": null,
   "id": "0e3b98eb",
   "metadata": {
    "id": "0e3b98eb"
   },
   "outputs": [],
   "source": [
    "tup2"
   ]
  },
  {
   "cell_type": "code",
   "execution_count": null,
   "id": "9a4c2b36",
   "metadata": {
    "id": "9a4c2b36"
   },
   "outputs": [],
   "source": [
    "tup2[0:2]  #  Retreive  first  element  of  the  tuple"
   ]
  },
  {
   "cell_type": "code",
   "execution_count": null,
   "id": "98693827",
   "metadata": {
    "id": "98693827",
    "scrolled": true
   },
   "outputs": [],
   "source": [
    "tup7"
   ]
  },
  {
   "cell_type": "code",
   "execution_count": null,
   "id": "65ea6bb8",
   "metadata": {
    "id": "65ea6bb8"
   },
   "outputs": [],
   "source": [
    "tup8=('Data', 25, [50, 100], [150, 90], ['David', 'John'], (99, 22, 33))"
   ]
  },
  {
   "cell_type": "code",
   "execution_count": null,
   "id": "19a04911",
   "metadata": {
    "colab": {
     "base_uri": "https://localhost:8080/"
    },
    "executionInfo": {
     "elapsed": 425,
     "status": "ok",
     "timestamp": 1680031084464,
     "user": {
      "displayName": "Jitendra Rathod",
      "userId": "08588782662248261812"
     },
     "user_tz": -330
    },
    "id": "19a04911",
    "outputId": "c0cd1129-bca0-4949-ee63-b1ceadf04e2d"
   },
   "outputs": [
    {
     "data": {
      "text/plain": [
       "100"
      ]
     },
     "execution_count": 2,
     "metadata": {},
     "output_type": "execute_result"
    }
   ],
   "source": [
    "tup8[2][1]"
   ]
  },
  {
   "cell_type": "code",
   "execution_count": null,
   "id": "20772530",
   "metadata": {
    "colab": {
     "base_uri": "https://localhost:8080/"
    },
    "executionInfo": {
     "elapsed": 673,
     "status": "ok",
     "timestamp": 1680031090596,
     "user": {
      "displayName": "Jitendra Rathod",
      "userId": "08588782662248261812"
     },
     "user_tz": -330
    },
    "id": "20772530",
    "outputId": "768db3dd-d4ef-49bb-ecec-797f2600ee45"
   },
   "outputs": [
    {
     "data": {
      "text/plain": [
       "33"
      ]
     },
     "execution_count": 3,
     "metadata": {},
     "output_type": "execute_result"
    }
   ],
   "source": [
    "tup8[5][2]"
   ]
  },
  {
   "cell_type": "markdown",
   "id": "eb883e32",
   "metadata": {
    "id": "eb883e32"
   },
   "source": [
    "## Tuple Slicing"
   ]
  },
  {
   "cell_type": "code",
   "execution_count": null,
   "id": "91efac69",
   "metadata": {
    "id": "91efac69"
   },
   "outputs": [],
   "source": [
    "mytuple = ('one' , 'two' , 'three' , \n",
    "           'four' , 'five' , 'six' , 'seven' , 'eight')"
   ]
  },
  {
   "cell_type": "code",
   "execution_count": null,
   "id": "c93c1ff3",
   "metadata": {
    "id": "c93c1ff3"
   },
   "outputs": [],
   "source": [
    "mytuple[0:3]  #  Return  all  items  from  0th  to \n",
    "#3rd  index  location  excluding  the  upper limit"
   ]
  },
  {
   "cell_type": "markdown",
   "id": "d15ede0c",
   "metadata": {
    "id": "d15ede0c"
   },
   "source": [
    "## Remove & Change Items"
   ]
  },
  {
   "cell_type": "code",
   "execution_count": null,
   "id": "e620b090",
   "metadata": {
    "id": "e620b090"
   },
   "outputs": [],
   "source": [
    "del  mytuple[0] \n",
    "#  Tuples  are  immutable  which  means  we  can't  DELETE  tuple  items"
   ]
  },
  {
   "cell_type": "code",
   "execution_count": null,
   "id": "d04193ac",
   "metadata": {
    "id": "d04193ac"
   },
   "outputs": [],
   "source": [
    "mytuple[0]  =  1  \n",
    "#  Tuples  are  immutable  which  means  we  can't  CHANGE  tuple  items"
   ]
  },
  {
   "cell_type": "code",
   "execution_count": null,
   "id": "8f68e70c",
   "metadata": {
    "id": "8f68e70c"
   },
   "outputs": [],
   "source": [
    "del mytuple \n",
    "# Deleting entire tuple object is possible"
   ]
  },
  {
   "cell_type": "code",
   "execution_count": null,
   "id": "b0510f9a",
   "metadata": {
    "id": "b0510f9a"
   },
   "outputs": [],
   "source": [
    "mytuple"
   ]
  },
  {
   "cell_type": "code",
   "execution_count": null,
   "id": "85cf3d1b",
   "metadata": {
    "id": "85cf3d1b"
   },
   "outputs": [],
   "source": [
    "tup7"
   ]
  },
  {
   "cell_type": "markdown",
   "id": "3cfc3337",
   "metadata": {
    "id": "3cfc3337"
   },
   "source": [
    "## Count"
   ]
  },
  {
   "cell_type": "code",
   "execution_count": null,
   "id": "493a5cd5",
   "metadata": {
    "id": "493a5cd5"
   },
   "outputs": [],
   "source": [
    "mytuple1  =('one',  'two',  'three',  'four',  'one', \n",
    "            'one',  'two',  'three')"
   ]
  },
  {
   "cell_type": "code",
   "execution_count": null,
   "id": "f23935d6",
   "metadata": {
    "id": "f23935d6"
   },
   "outputs": [],
   "source": [
    "mytuple1.count('one') # Number of times item \"one\" \n",
    "# occurred in the tuple."
   ]
  },
  {
   "cell_type": "code",
   "execution_count": null,
   "id": "344557ff",
   "metadata": {
    "id": "344557ff"
   },
   "outputs": [],
   "source": [
    "mytuple1.index('two') ## it will give first index location"
   ]
  },
  {
   "cell_type": "markdown",
   "id": "561ee223",
   "metadata": {
    "id": "561ee223"
   },
   "source": [
    "## Tuple Membership"
   ]
  },
  {
   "cell_type": "code",
   "execution_count": null,
   "id": "c598e898",
   "metadata": {
    "id": "c598e898"
   },
   "outputs": [],
   "source": [
    "'one' in mytuple1 # Check if 'one' exist in the tuple"
   ]
  },
  {
   "cell_type": "markdown",
   "id": "07f9da09",
   "metadata": {
    "id": "07f9da09"
   },
   "source": [
    "## Sorting"
   ]
  },
  {
   "cell_type": "code",
   "execution_count": 1,
   "id": "5afd12a0",
   "metadata": {
    "id": "5afd12a0"
   },
   "outputs": [],
   "source": [
    "mytuple2  =  (43,67,99,12,6,90,67)"
   ]
  },
  {
   "cell_type": "code",
   "execution_count": 2,
   "id": "9390d830",
   "metadata": {
    "id": "9390d830"
   },
   "outputs": [
    {
     "data": {
      "text/plain": [
       "[6, 12, 43, 67, 67, 90, 99]"
      ]
     },
     "execution_count": 2,
     "metadata": {},
     "output_type": "execute_result"
    }
   ],
   "source": [
    "sorted(mytuple2)\t# Returns a new sorted list and doesn't change original tuple"
   ]
  },
  {
   "cell_type": "code",
   "execution_count": null,
   "id": "e79cb32a",
   "metadata": {
    "id": "e79cb32a",
    "scrolled": true
   },
   "outputs": [],
   "source": [
    "sorted(mytuple2, reverse=True) # Sort in descending order"
   ]
  },
  {
   "cell_type": "code",
   "execution_count": null,
   "id": "9049c76f",
   "metadata": {
    "id": "9049c76f"
   },
   "outputs": [],
   "source": [
    "mytuple2"
   ]
  },
  {
   "cell_type": "markdown",
   "id": "9f93e937",
   "metadata": {
    "id": "9f93e937"
   },
   "source": [
    "# Sets\n"
   ]
  },
  {
   "cell_type": "raw",
   "id": "d70a4804",
   "metadata": {
    "id": "d70a4804"
   },
   "source": [
    "1)\tUnordered & Unindexed collection of items.\n",
    "\n",
    "2)\tSet elements are unique. Duplicate elements are not allowed.\n"
   ]
  },
  {
   "cell_type": "markdown",
   "id": "596a1f30",
   "metadata": {
    "id": "596a1f30"
   },
   "source": [
    "## Set Creation"
   ]
  },
  {
   "cell_type": "code",
   "execution_count": null,
   "id": "09e8e959",
   "metadata": {
    "id": "09e8e959"
   },
   "outputs": [],
   "source": [
    "myset1={} # Empty set cannot be created by curly braces"
   ]
  },
  {
   "cell_type": "code",
   "execution_count": null,
   "id": "05fa1815",
   "metadata": {
    "id": "05fa1815"
   },
   "outputs": [],
   "source": [
    "type(myset1)"
   ]
  },
  {
   "cell_type": "code",
   "execution_count": null,
   "id": "e8d81450",
   "metadata": {
    "id": "e8d81450"
   },
   "outputs": [],
   "source": [
    "myset = set() # Create an empty set\n",
    "print(type(myset))\n"
   ]
  },
  {
   "cell_type": "code",
   "execution_count": null,
   "id": "32d43fc8",
   "metadata": {
    "id": "32d43fc8"
   },
   "outputs": [],
   "source": [
    "myset  =  {1,2,3,4,5}  #  Set  of  numbers\n",
    "myset"
   ]
  },
  {
   "cell_type": "code",
   "execution_count": null,
   "id": "73375211",
   "metadata": {
    "id": "73375211"
   },
   "outputs": [],
   "source": [
    "type(myset)"
   ]
  },
  {
   "cell_type": "code",
   "execution_count": null,
   "id": "49da6e3d",
   "metadata": {
    "id": "49da6e3d"
   },
   "outputs": [],
   "source": [
    "len(myset) #Length or number of elements of the set"
   ]
  },
  {
   "cell_type": "code",
   "execution_count": null,
   "id": "3b6b7916",
   "metadata": {
    "id": "3b6b7916"
   },
   "outputs": [],
   "source": [
    "my_set  =  {1,1,2,2,3,4,5,5}\n",
    "my_set\t# Duplicate elements are not allowed."
   ]
  },
  {
   "cell_type": "code",
   "execution_count": null,
   "id": "36fa0643",
   "metadata": {
    "id": "36fa0643"
   },
   "outputs": [],
   "source": [
    "myset1 = {1.79,2.08,3.99,4.56,5.45} # Set of float numbers\n",
    "myset1\n"
   ]
  },
  {
   "cell_type": "code",
   "execution_count": null,
   "id": "69b7216d",
   "metadata": {
    "id": "69b7216d"
   },
   "outputs": [],
   "source": [
    "myset2 = {'Data' , 'John' , 'Tyrion','John'} # Set of Strings\n",
    "myset2\n"
   ]
  },
  {
   "cell_type": "code",
   "execution_count": null,
   "id": "a875fc83",
   "metadata": {
    "id": "a875fc83"
   },
   "outputs": [],
   "source": [
    "myset3  =  {10,20,  \"Hola\",  (11,  22,  32)}  #  Mixed  datatypes\n",
    "myset3\n"
   ]
  },
  {
   "cell_type": "markdown",
   "id": "9d8df5f3",
   "metadata": {
    "id": "9d8df5f3"
   },
   "source": [
    "## Set Membership"
   ]
  },
  {
   "cell_type": "code",
   "execution_count": null,
   "id": "c0166c9b",
   "metadata": {
    "id": "c0166c9b"
   },
   "outputs": [],
   "source": [
    "myset = {'one', 'two', 'three', 'four', 'five', 'six',\n",
    "         'seven', 'eight'}"
   ]
  },
  {
   "cell_type": "code",
   "execution_count": null,
   "id": "a7b305fe",
   "metadata": {
    "id": "a7b305fe"
   },
   "outputs": [],
   "source": [
    "myset"
   ]
  },
  {
   "cell_type": "code",
   "execution_count": null,
   "id": "70cf4fb0",
   "metadata": {
    "id": "70cf4fb0"
   },
   "outputs": [],
   "source": [
    "'nine' in myset # Check if 'one' exist in the set"
   ]
  },
  {
   "cell_type": "markdown",
   "id": "ad563622",
   "metadata": {
    "id": "ad563622"
   },
   "source": [
    "## Add & Remove Items"
   ]
  },
  {
   "cell_type": "code",
   "execution_count": 3,
   "id": "f1bc84c8",
   "metadata": {
    "id": "f1bc84c8"
   },
   "outputs": [],
   "source": [
    "myset={2,3,4}"
   ]
  },
  {
   "cell_type": "code",
   "execution_count": 4,
   "id": "c6a5dd03",
   "metadata": {
    "id": "c6a5dd03"
   },
   "outputs": [
    {
     "data": {
      "text/plain": [
       "{2, 3, 4, '9'}"
      ]
     },
     "execution_count": 4,
     "metadata": {},
     "output_type": "execute_result"
    }
   ],
   "source": [
    "myset.add('9')  #  Add  item  to  a  set  using  add()  method\n",
    "myset\n",
    "# check with bool and float\n",
    "# bool data is not inserted"
   ]
  },
  {
   "cell_type": "code",
   "execution_count": 5,
   "id": "ac233426",
   "metadata": {
    "id": "ac233426"
   },
   "outputs": [
    {
     "ename": "TypeError",
     "evalue": "'set' object is not subscriptable",
     "output_type": "error",
     "traceback": [
      "\u001b[1;31m---------------------------------------------------------------------------\u001b[0m",
      "\u001b[1;31mTypeError\u001b[0m                                 Traceback (most recent call last)",
      "Cell \u001b[1;32mIn[5], line 1\u001b[0m\n\u001b[1;32m----> 1\u001b[0m \u001b[43mmyset\u001b[49m\u001b[43m[\u001b[49m\u001b[38;5;241;43m1\u001b[39;49m\u001b[43m]\u001b[49m\n",
      "\u001b[1;31mTypeError\u001b[0m: 'set' object is not subscriptable"
     ]
    }
   ],
   "source": [
    "myset[1] ## Indexing not supported in sets"
   ]
  },
  {
   "cell_type": "code",
   "execution_count": 8,
   "id": "9b7445df",
   "metadata": {
    "id": "9b7445df"
   },
   "outputs": [
    {
     "data": {
      "text/plain": [
       "{2, 3, 4, '9', 'ELEVEN', 'TEN', 'TWELVE'}"
      ]
     },
     "execution_count": 8,
     "metadata": {},
     "output_type": "execute_result"
    }
   ],
   "source": [
    "myset.update(['TEN' , 'ELEVEN' , 'TWELVE'])\t# Add multiple item to a set using\n",
    "myset\n"
   ]
  },
  {
   "cell_type": "code",
   "execution_count": 9,
   "id": "58507899",
   "metadata": {
    "id": "58507899"
   },
   "outputs": [
    {
     "data": {
      "text/plain": [
       "{2, 3, 4, '9', 'ELEVEN', 'TWELVE'}"
      ]
     },
     "execution_count": 9,
     "metadata": {},
     "output_type": "execute_result"
    }
   ],
   "source": [
    "myset.remove('TEN')  #  remove  item  in  a  set  using  remove()  method\n",
    "myset\n"
   ]
  },
  {
   "cell_type": "code",
   "execution_count": 10,
   "id": "d629656a",
   "metadata": {
    "id": "d629656a"
   },
   "outputs": [
    {
     "data": {
      "text/plain": [
       "{2, 3, 4, '9', 'ELEVEN', 'TWELVE'}"
      ]
     },
     "execution_count": 10,
     "metadata": {},
     "output_type": "execute_result"
    }
   ],
   "source": [
    "myset.discard('three') # remove item from a set using discard() method\n",
    "myset\n"
   ]
  },
  {
   "cell_type": "code",
   "execution_count": 11,
   "id": "416ddde3",
   "metadata": {
    "id": "416ddde3"
   },
   "outputs": [
    {
     "data": {
      "text/plain": [
       "set()"
      ]
     },
     "execution_count": 11,
     "metadata": {},
     "output_type": "execute_result"
    }
   ],
   "source": [
    "myset.clear() # Delete all items in a set\n",
    "myset\n"
   ]
  },
  {
   "cell_type": "code",
   "execution_count": 12,
   "id": "24506165",
   "metadata": {
    "id": "24506165"
   },
   "outputs": [],
   "source": [
    "del myset # Delete the set object\n",
    "\n"
   ]
  },
  {
   "cell_type": "code",
   "execution_count": 13,
   "id": "1d1aa633",
   "metadata": {
    "id": "1d1aa633"
   },
   "outputs": [
    {
     "ename": "NameError",
     "evalue": "name 'myset' is not defined",
     "output_type": "error",
     "traceback": [
      "\u001b[1;31m---------------------------------------------------------------------------\u001b[0m",
      "\u001b[1;31mNameError\u001b[0m                                 Traceback (most recent call last)",
      "Cell \u001b[1;32mIn[13], line 1\u001b[0m\n\u001b[1;32m----> 1\u001b[0m \u001b[43mmyset\u001b[49m\n",
      "\u001b[1;31mNameError\u001b[0m: name 'myset' is not defined"
     ]
    }
   ],
   "source": [
    "myset"
   ]
  },
  {
   "cell_type": "markdown",
   "id": "a46a7b1e",
   "metadata": {
    "id": "a46a7b1e"
   },
   "source": [
    "## Set Operation"
   ]
  },
  {
   "cell_type": "code",
   "execution_count": 15,
   "id": "986a8ead",
   "metadata": {
    "id": "986a8ead"
   },
   "outputs": [],
   "source": [
    "A  =  {1,2,3,4,5}\n",
    "B  =  {4,5,6,7,8}\n",
    "C  =  {8,9,10}\n"
   ]
  },
  {
   "cell_type": "code",
   "execution_count": 16,
   "id": "a991056f",
   "metadata": {
    "colab": {
     "base_uri": "https://localhost:8080/"
    },
    "executionInfo": {
     "elapsed": 3,
     "status": "ok",
     "timestamp": 1680703917446,
     "user": {
      "displayName": "Jitendra Rathod",
      "userId": "08588782662248261812"
     },
     "user_tz": -330
    },
    "id": "a991056f",
    "outputId": "f79d50d8-ba1e-43b4-c9e9-cc9885303e6c"
   },
   "outputs": [
    {
     "data": {
      "text/plain": [
       "{1, 2, 3, 4, 5, 6, 7, 8}"
      ]
     },
     "execution_count": 16,
     "metadata": {},
     "output_type": "execute_result"
    }
   ],
   "source": [
    "A.union(B)  #  Union  of  A  and  B"
   ]
  },
  {
   "cell_type": "code",
   "execution_count": 17,
   "id": "646b5111",
   "metadata": {
    "colab": {
     "base_uri": "https://localhost:8080/"
    },
    "executionInfo": {
     "elapsed": 2,
     "status": "ok",
     "timestamp": 1680703922234,
     "user": {
      "displayName": "Jitendra Rathod",
      "userId": "08588782662248261812"
     },
     "user_tz": -330
    },
    "id": "646b5111",
    "outputId": "884fde5c-3572-4675-b97f-696e8dbc1061"
   },
   "outputs": [
    {
     "data": {
      "text/plain": [
       "{1, 2, 3, 4, 5, 6, 7, 8}"
      ]
     },
     "execution_count": 17,
     "metadata": {},
     "output_type": "execute_result"
    }
   ],
   "source": [
    "B.union(A)"
   ]
  },
  {
   "cell_type": "code",
   "execution_count": 18,
   "id": "6718de09",
   "metadata": {
    "colab": {
     "base_uri": "https://localhost:8080/"
    },
    "executionInfo": {
     "elapsed": 419,
     "status": "ok",
     "timestamp": 1680703967780,
     "user": {
      "displayName": "Jitendra Rathod",
      "userId": "08588782662248261812"
     },
     "user_tz": -330
    },
    "id": "6718de09",
    "outputId": "be32a88c-470a-4076-9939-bbc8389dc523"
   },
   "outputs": [
    {
     "data": {
      "text/plain": [
       "{1, 2, 3, 4, 5, 6, 7, 8, 9, 10}"
      ]
     },
     "execution_count": 18,
     "metadata": {},
     "output_type": "execute_result"
    }
   ],
   "source": [
    "A.union(B,  C)\t#  Union  of  A,  B  and  C."
   ]
  },
  {
   "cell_type": "code",
   "execution_count": 19,
   "id": "56439fe0",
   "metadata": {
    "id": "56439fe0"
   },
   "outputs": [],
   "source": [
    "A  =  {1,2,3,4,5}\n",
    "B  =  {4,5,6,7,8}\n"
   ]
  },
  {
   "cell_type": "code",
   "execution_count": 20,
   "id": "5dafdf1a",
   "metadata": {
    "colab": {
     "base_uri": "https://localhost:8080/"
    },
    "executionInfo": {
     "elapsed": 606,
     "status": "ok",
     "timestamp": 1680703982474,
     "user": {
      "displayName": "Jitendra Rathod",
      "userId": "08588782662248261812"
     },
     "user_tz": -330
    },
    "id": "5dafdf1a",
    "outputId": "82506c40-a0aa-46c1-9037-44345b0abc78"
   },
   "outputs": [
    {
     "data": {
      "text/plain": [
       "{4, 5}"
      ]
     },
     "execution_count": 20,
     "metadata": {},
     "output_type": "execute_result"
    }
   ],
   "source": [
    "A.intersection(B)  #Intersection  of  A  and  B"
   ]
  },
  {
   "cell_type": "code",
   "execution_count": 21,
   "id": "feb44c41",
   "metadata": {
    "colab": {
     "base_uri": "https://localhost:8080/"
    },
    "executionInfo": {
     "elapsed": 3,
     "status": "ok",
     "timestamp": 1680703985734,
     "user": {
      "displayName": "Jitendra Rathod",
      "userId": "08588782662248261812"
     },
     "user_tz": -330
    },
    "id": "feb44c41",
    "outputId": "335a58ed-6a8e-4b63-b4f9-fa227b252fda"
   },
   "outputs": [
    {
     "data": {
      "text/plain": [
       "{1, 2, 3}"
      ]
     },
     "execution_count": 21,
     "metadata": {},
     "output_type": "execute_result"
    }
   ],
   "source": [
    "A.difference(B)  #  Difference  of set. set of elements that are only in A but not in B"
   ]
  },
  {
   "cell_type": "code",
   "execution_count": 22,
   "id": "0aa61b9d",
   "metadata": {
    "colab": {
     "base_uri": "https://localhost:8080/"
    },
    "executionInfo": {
     "elapsed": 383,
     "status": "ok",
     "timestamp": 1680704035128,
     "user": {
      "displayName": "Jitendra Rathod",
      "userId": "08588782662248261812"
     },
     "user_tz": -330
    },
    "id": "0aa61b9d",
    "outputId": "e4c9bb6b-8983-420d-8ae1-92dd040106e0"
   },
   "outputs": [
    {
     "data": {
      "text/plain": [
       "{6, 7, 8}"
      ]
     },
     "execution_count": 22,
     "metadata": {},
     "output_type": "execute_result"
    }
   ],
   "source": [
    "B.difference(A) #  set  of  elements  that  are  only  in  B  but  not  in  A"
   ]
  },
  {
   "cell_type": "markdown",
   "id": "abf69658",
   "metadata": {
    "id": "abf69658"
   },
   "source": [
    "# Dictionary"
   ]
  },
  {
   "cell_type": "markdown",
   "id": "05b3ae17",
   "metadata": {
    "id": "05b3ae17"
   },
   "source": [
    "Dictionary is a mutable data type in Python.\n",
    "A python dictionary is a collection of key and value pairs separated by a colon (:) & enclosed in curly braces {}.\n",
    "Keys must be unique in a dictionary, duplicate values are allowed\n"
   ]
  },
  {
   "cell_type": "markdown",
   "id": "dde5b0c8",
   "metadata": {
    "id": "dde5b0c8"
   },
   "source": [
    "## Create Dictionary"
   ]
  },
  {
   "cell_type": "code",
   "execution_count": 23,
   "id": "872084fe",
   "metadata": {
    "id": "872084fe"
   },
   "outputs": [
    {
     "data": {
      "text/plain": [
       "{}"
      ]
     },
     "execution_count": 23,
     "metadata": {},
     "output_type": "execute_result"
    }
   ],
   "source": [
    "mydict = dict() # empty dictionary\n",
    "mydict\n"
   ]
  },
  {
   "cell_type": "code",
   "execution_count": 24,
   "id": "8d11a2cd",
   "metadata": {
    "id": "8d11a2cd"
   },
   "outputs": [
    {
     "data": {
      "text/plain": [
       "dict"
      ]
     },
     "execution_count": 24,
     "metadata": {},
     "output_type": "execute_result"
    }
   ],
   "source": [
    "type(mydict)"
   ]
  },
  {
   "cell_type": "code",
   "execution_count": 25,
   "id": "2e3cbd3c",
   "metadata": {
    "id": "2e3cbd3c"
   },
   "outputs": [
    {
     "data": {
      "text/plain": [
       "{1: 'one', 2: 'two', 3: 'three'}"
      ]
     },
     "execution_count": 25,
     "metadata": {},
     "output_type": "execute_result"
    }
   ],
   "source": [
    "mydict  =  {1:'one'  ,  2:'two'  ,  3:'three'}  #  \n",
    "#dictionary  with  integer  keys\n",
    "mydict"
   ]
  },
  {
   "cell_type": "code",
   "execution_count": 28,
   "id": "872a2b73",
   "metadata": {
    "id": "872a2b73"
   },
   "outputs": [
    {
     "data": {
      "text/plain": [
       "{1: 'one', 2: 'two', 3: 'three'}"
      ]
     },
     "execution_count": 28,
     "metadata": {},
     "output_type": "execute_result"
    }
   ],
   "source": [
    "mydict  =  dict({1:'one'  ,  2:'two'  ,  3:'three'})  #  Create  dictionary  using  dict()\n",
    "mydict\n"
   ]
  },
  {
   "cell_type": "code",
   "execution_count": 38,
   "id": "19c70a41-32be-462c-9fcd-5a0b4274fe35",
   "metadata": {},
   "outputs": [
    {
     "data": {
      "text/plain": [
       "{'a': 1, 'b': 2, 'c': 3}"
      ]
     },
     "execution_count": 38,
     "metadata": {},
     "output_type": "execute_result"
    }
   ],
   "source": [
    "dict(a=1, b=2, c=3)"
   ]
  },
  {
   "cell_type": "code",
   "execution_count": null,
   "id": "7fced561-4236-4d4a-8bd5-b8b7689497c1",
   "metadata": {},
   "outputs": [],
   "source": []
  },
  {
   "cell_type": "code",
   "execution_count": 32,
   "id": "4fe95bcf",
   "metadata": {
    "id": "4fe95bcf"
   },
   "outputs": [
    {
     "data": {
      "text/plain": [
       "dict_keys([1, 2, 3])"
      ]
     },
     "execution_count": 32,
     "metadata": {},
     "output_type": "execute_result"
    }
   ],
   "source": [
    "mydict.keys() # Return Dictionary Keys using\n",
    "# keys() method"
   ]
  },
  {
   "cell_type": "code",
   "execution_count": 33,
   "id": "772c3238",
   "metadata": {
    "id": "772c3238"
   },
   "outputs": [
    {
     "data": {
      "text/plain": [
       "dict_values(['one', 'two', 'three'])"
      ]
     },
     "execution_count": 33,
     "metadata": {},
     "output_type": "execute_result"
    }
   ],
   "source": [
    "mydict.values() # Return Dictionary Values using \n",
    "#values() method"
   ]
  },
  {
   "cell_type": "code",
   "execution_count": 34,
   "id": "bf5a01c4",
   "metadata": {
    "id": "bf5a01c4"
   },
   "outputs": [
    {
     "data": {
      "text/plain": [
       "dict_items([(1, 'one'), (2, 'two'), (3, 'three')])"
      ]
     },
     "execution_count": 34,
     "metadata": {},
     "output_type": "execute_result"
    }
   ],
   "source": [
    "mydict.items() # Access each key-value pair within a dictionary"
   ]
  },
  {
   "cell_type": "code",
   "execution_count": 35,
   "id": "783810c8",
   "metadata": {
    "id": "783810c8"
   },
   "outputs": [
    {
     "data": {
      "text/plain": [
       "{1: 'one', 2: 'two', 'A': ['Data', 'john', 'Maria']}"
      ]
     },
     "execution_count": 35,
     "metadata": {},
     "output_type": "execute_result"
    }
   ],
   "source": [
    "mydict  =  {1:'one'  ,  2:'two'  ,\n",
    "            'A':['Data'  ,  'john'  ,  'Maria']} \n",
    "#  dictionary  with one value as list\n",
    "mydict"
   ]
  },
  {
   "cell_type": "code",
   "execution_count": 36,
   "id": "f1fb110a",
   "metadata": {
    "id": "f1fb110a"
   },
   "outputs": [
    {
     "data": {
      "text/plain": [
       "'john'"
      ]
     },
     "execution_count": 36,
     "metadata": {},
     "output_type": "execute_result"
    }
   ],
   "source": [
    "mydict['A'][1]"
   ]
  },
  {
   "cell_type": "code",
   "execution_count": 37,
   "id": "1357a433",
   "metadata": {
    "id": "1357a433"
   },
   "outputs": [
    {
     "data": {
      "text/plain": [
       "'john'"
      ]
     },
     "execution_count": 37,
     "metadata": {},
     "output_type": "execute_result"
    }
   ],
   "source": [
    "mydict['A'][1]"
   ]
  },
  {
   "cell_type": "code",
   "execution_count": null,
   "id": "a04b476c",
   "metadata": {
    "id": "a04b476c"
   },
   "outputs": [],
   "source": [
    "d={0:{'one':1,'two':2,'three':3,'four':4},\n",
    "   1:{'city':'bangalore','area':'kudlu'},\n",
    "   'three':{'city':'mumbai','area':'Dharavi'}} # nested dictonary"
   ]
  },
  {
   "cell_type": "code",
   "execution_count": null,
   "id": "e9a9a464",
   "metadata": {
    "id": "e9a9a464"
   },
   "outputs": [],
   "source": [
    "d[1]['area']"
   ]
  },
  {
   "cell_type": "code",
   "execution_count": null,
   "id": "04c82a04",
   "metadata": {
    "id": "04c82a04"
   },
   "outputs": [],
   "source": [
    "## Access the value kudlu, mumbai"
   ]
  },
  {
   "cell_type": "code",
   "execution_count": 2,
   "id": "35fdd65d",
   "metadata": {
    "executionInfo": {
     "elapsed": 371,
     "status": "ok",
     "timestamp": 1681291189821,
     "user": {
      "displayName": "Jitendra Rathod",
      "userId": "08588782662248261812"
     },
     "user_tz": -330
    },
    "id": "35fdd65d"
   },
   "outputs": [],
   "source": [
    "v=[0,1,2,3,[8,{5:[67,89,90,{'area':'kudlu','city':'bangalore'}]}]]\n",
    "\n",
    "## get bangalore"
   ]
  },
  {
   "cell_type": "code",
   "execution_count": null,
   "id": "b04a1126",
   "metadata": {
    "id": "b04a1126"
   },
   "outputs": [],
   "source": []
  },
  {
   "cell_type": "code",
   "execution_count": 5,
   "id": "f3bd0d16",
   "metadata": {
    "colab": {
     "base_uri": "https://localhost:8080/",
     "height": 35
    },
    "executionInfo": {
     "elapsed": 3,
     "status": "ok",
     "timestamp": 1681292163395,
     "user": {
      "displayName": "Jitendra Rathod",
      "userId": "08588782662248261812"
     },
     "user_tz": -330
    },
    "id": "f3bd0d16",
    "outputId": "4da0ec71-1454-4ef4-fc9e-95776f859d36"
   },
   "outputs": [
    {
     "data": {
      "application/vnd.google.colaboratory.intrinsic+json": {
       "type": "string"
      },
      "text/plain": [
       "'bangalore'"
      ]
     },
     "execution_count": 5,
     "metadata": {},
     "output_type": "execute_result"
    }
   ],
   "source": [
    "v[4][1][5][3]['city']"
   ]
  },
  {
   "cell_type": "markdown",
   "id": "f5fc5982",
   "metadata": {
    "id": "f5fc5982"
   },
   "source": [
    "## Add, Remove & Change Items"
   ]
  },
  {
   "cell_type": "code",
   "execution_count": null,
   "id": "4ebb7601",
   "metadata": {
    "id": "4ebb7601"
   },
   "outputs": [],
   "source": [
    "mydict1 = {'Name':'Data' , 'ID': 12345 , 'DOB': 1991 ,\n",
    "           'Address' : 'Hilsinki'} \n",
    "mydict1"
   ]
  },
  {
   "cell_type": "code",
   "execution_count": null,
   "id": "92a4be1d",
   "metadata": {
    "id": "92a4be1d"
   },
   "outputs": [],
   "source": [
    "mydict1.update({'key':'value1'})"
   ]
  },
  {
   "cell_type": "code",
   "execution_count": null,
   "id": "0898736f",
   "metadata": {
    "id": "0898736f"
   },
   "outputs": [],
   "source": [
    "mydict1"
   ]
  },
  {
   "cell_type": "code",
   "execution_count": null,
   "id": "5e848906",
   "metadata": {
    "id": "5e848906"
   },
   "outputs": [],
   "source": [
    "mydict1['DOB'] = 1992\t# Changing Dictionary Items\n",
    "\n"
   ]
  },
  {
   "cell_type": "code",
   "execution_count": null,
   "id": "56c9a2ff",
   "metadata": {
    "id": "56c9a2ff"
   },
   "outputs": [],
   "source": [
    "mydict1['ABC']=1"
   ]
  },
  {
   "cell_type": "code",
   "execution_count": null,
   "id": "a3151f1d",
   "metadata": {
    "id": "a3151f1d"
   },
   "outputs": [],
   "source": [
    "mydict1"
   ]
  },
  {
   "cell_type": "code",
   "execution_count": null,
   "id": "fd2ad34e",
   "metadata": {
    "id": "fd2ad34e"
   },
   "outputs": [],
   "source": [
    "mydict1['Job'] = 'Analyst' # Adding items in the dictionary\n",
    "mydict1\n"
   ]
  },
  {
   "cell_type": "code",
   "execution_count": null,
   "id": "933e5d2c",
   "metadata": {
    "id": "933e5d2c"
   },
   "outputs": [],
   "source": [
    "mydict1.pop('Job')  #  Removing  items  in  the  dictionary  using  Pop  method\n",
    "mydict1\n"
   ]
  },
  {
   "cell_type": "code",
   "execution_count": null,
   "id": "1c74596d",
   "metadata": {
    "id": "1c74596d"
   },
   "outputs": [],
   "source": [
    "mydict1.popitem() # A random item is removed"
   ]
  },
  {
   "cell_type": "code",
   "execution_count": null,
   "id": "b67eea30",
   "metadata": {
    "id": "b67eea30"
   },
   "outputs": [],
   "source": [
    "del[mydict1['ID']] # Removing item using del method\n",
    "mydict1"
   ]
  },
  {
   "cell_type": "code",
   "execution_count": null,
   "id": "1f922949",
   "metadata": {
    "id": "1f922949"
   },
   "outputs": [],
   "source": [
    "mydict1.clear() # Delete all items of the dictionary using clear method\n",
    "mydict1"
   ]
  },
  {
   "cell_type": "code",
   "execution_count": null,
   "id": "299c42d9",
   "metadata": {
    "id": "299c42d9"
   },
   "outputs": [],
   "source": [
    "del mydict1 # Delete the dictionary object\n",
    "mydict1"
   ]
  }
 ],
 "metadata": {
  "colab": {
   "provenance": []
  },
  "kernelspec": {
   "display_name": "Python 3 (ipykernel)",
   "language": "python",
   "name": "python3"
  },
  "language_info": {
   "codemirror_mode": {
    "name": "ipython",
    "version": 3
   },
   "file_extension": ".py",
   "mimetype": "text/x-python",
   "name": "python",
   "nbconvert_exporter": "python",
   "pygments_lexer": "ipython3",
   "version": "3.10.9"
  }
 },
 "nbformat": 4,
 "nbformat_minor": 5
}
