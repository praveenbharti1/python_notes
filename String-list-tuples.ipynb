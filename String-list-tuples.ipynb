{
 "cells": [
  {
   "cell_type": "markdown",
   "metadata": {
    "id": "7b33QKzrSYDd"
   },
   "source": [
    "# Strings\n",
    "\n",
    "- strings are *ordered* sequence of characters\n",
    "- strings are *immutable* \n",
    "  - i.e. cannot be modified after being created"
   ]
  },
  {
   "cell_type": "markdown",
   "metadata": {
    "id": "acEsMQcbqDe-"
   },
   "source": [
    "### Defining Strings"
   ]
  },
  {
   "cell_type": "code",
   "execution_count": null,
   "metadata": {
    "colab": {
     "base_uri": "https://localhost:8080/"
    },
    "executionInfo": {
     "elapsed": 10,
     "status": "ok",
     "timestamp": 1680493876110,
     "user": {
      "displayName": "Jitendra Rathod",
      "userId": "08588782662248261812"
     },
     "user_tz": -330
    },
    "id": "6wFv97JHccxA",
    "outputId": "5df042fd-854f-4a06-f635-0d31e5bbd2f8"
   },
   "outputs": [
    {
     "name": "stdout",
     "output_type": "stream",
     "text": [
      "DataMites.\n",
      "DataMites is awesome.\n",
      "This is a long string and supports \n",
      "                multiline statements as well\n",
      "             \n",
      "Hello, \"DataMitess. Student\"\n"
     ]
    }
   ],
   "source": [
    "# string defined with single quotes\n",
    "name_one = 'DataMites.'\n",
    "print(name_one)\n",
    "\n",
    "# string defined with double quotes\n",
    "name_two = \"DataMites is awesome.\"\n",
    "print(name_two)\n",
    "\n",
    "# string defined with triple single quotes\n",
    "name_three = '''This is a long string and supports \n",
    "                multiline statements as well\n",
    "             '''\n",
    "print(name_three)\n",
    "\n",
    "# string defined with double quotes inside the single quotes\n",
    "name_four = 'Hello, \"DataMitess. Student\"'\n",
    "print(name_four) "
   ]
  },
  {
   "cell_type": "markdown",
   "metadata": {
    "id": "fGeAlP7EH_py"
   },
   "source": [
    "#### Welcome to the second chapter !\n",
    "\n",
    "### Excercise : 1 \n",
    "\n",
    "Make two strings ,`first_name` and `last_name` and add your name in those strings and then print them"
   ]
  },
  {
   "cell_type": "markdown",
   "metadata": {
    "id": "G_OlPOgakwSU"
   },
   "source": [
    "### String Immutability Test"
   ]
  },
  {
   "cell_type": "code",
   "execution_count": null,
   "metadata": {
    "colab": {
     "base_uri": "https://localhost:8080/",
     "height": 200
    },
    "executionInfo": {
     "elapsed": 457,
     "status": "error",
     "timestamp": 1680495331997,
     "user": {
      "displayName": "Jitendra Rathod",
      "userId": "08588782662248261812"
     },
     "user_tz": -330
    },
    "id": "sPZ7UGDLhxpQ",
    "outputId": "56d8f55f-3b0d-4514-e3f6-5abd28a79a4b"
   },
   "outputs": [
    {
     "ename": "TypeError",
     "evalue": "ignored",
     "output_type": "error",
     "traceback": [
      "\u001b[0;31m---------------------------------------------------------------------------\u001b[0m",
      "\u001b[0;31mTypeError\u001b[0m                                 Traceback (most recent call last)",
      "\u001b[0;32m<ipython-input-2-04e35a7fd8f6>\u001b[0m in \u001b[0;36m<cell line: 5>\u001b[0;34m()\u001b[0m\n\u001b[1;32m      3\u001b[0m \u001b[0;34m\u001b[0m\u001b[0m\n\u001b[1;32m      4\u001b[0m \u001b[0;31m# attempt assigment\u001b[0m\u001b[0;34m\u001b[0m\u001b[0;34m\u001b[0m\u001b[0m\n\u001b[0;32m----> 5\u001b[0;31m \u001b[0ms\u001b[0m\u001b[0;34m[\u001b[0m\u001b[0;36m0\u001b[0m\u001b[0;34m]\u001b[0m \u001b[0;34m=\u001b[0m \u001b[0;34m'y'\u001b[0m \u001b[0;31m#throws error - hence strings are immutable\u001b[0m\u001b[0;34m\u001b[0m\u001b[0;34m\u001b[0m\u001b[0m\n\u001b[0m",
      "\u001b[0;31mTypeError\u001b[0m: 'str' object does not support item assignment"
     ]
    }
   ],
   "source": [
    "# define string\n",
    "s = \"hello\"\n",
    "\n",
    "# attempt assigment\n",
    "s[0] = 'y' #throws error - hence strings are immutable"
   ]
  },
  {
   "cell_type": "code",
   "execution_count": null,
   "metadata": {
    "id": "ACETF6u1lBdw"
   },
   "outputs": [],
   "source": [
    "  # however, rebinding works \n",
    "# reassigning s with 'y' concatenated with 'ello' extracted from s\n",
    "s = 'y' + s[1:len(s)]\n",
    "\n",
    "print(s)"
   ]
  },
  {
   "cell_type": "markdown",
   "metadata": {
    "id": "00y8pHtGH_pz"
   },
   "source": [
    "# Now that we know strings are immutable\n",
    "\n",
    "# Excercise : 2 \n",
    "\n",
    "In the above string where we are replacing the `h` of `hello` to `y` ,write a command which adds `w` at the end of `yello` to make `yellow` !"
   ]
  },
  {
   "cell_type": "markdown",
   "metadata": {
    "id": "_VngL6DeqOcT"
   },
   "source": [
    "### String Concatenation"
   ]
  },
  {
   "cell_type": "code",
   "execution_count": null,
   "metadata": {
    "colab": {
     "base_uri": "https://localhost:8080/"
    },
    "executionInfo": {
     "elapsed": 5,
     "status": "ok",
     "timestamp": 1680496303291,
     "user": {
      "displayName": "Jitendra Rathod",
      "userId": "08588782662248261812"
     },
     "user_tz": -330
    },
    "id": "MPC_ePYQqR_a",
    "outputId": "70e1d1cb-4f84-45d7-8d17-e617a6a1989f"
   },
   "outputs": [
    {
     "name": "stdout",
     "output_type": "stream",
     "text": [
      "Data Mites.\n"
     ]
    }
   ],
   "source": [
    "first_name = \"Data\"\n",
    "last_name = \"Mites.\"\n",
    "full_name = first_name + ' ' + last_name\n",
    "print(full_name)"
   ]
  },
  {
   "cell_type": "markdown",
   "metadata": {
    "id": "ZsI2JXvEH_pz"
   },
   "source": [
    "#### What are the practical way of using string concatenation ? \n",
    "\n",
    "### Excercise : 3 \n",
    "\n",
    "In **Excercise : 1 ** we had created two strings ,`first_name` and `last_name` , write a command to print these two variables in the same line by concatenating them !"
   ]
  },
  {
   "cell_type": "markdown",
   "metadata": {
    "id": "epq4ji5ZH_p0"
   },
   "source": [
    "### String Multiplication"
   ]
  },
  {
   "cell_type": "code",
   "execution_count": null,
   "metadata": {
    "id": "EooacvksH_p0"
   },
   "outputs": [],
   "source": [
    "name = 'Hayato'\n",
    "print(name)\n",
    "name_thrice = name * 3\n",
    "print(name_thrice)\n",
    "print(name*4)\n",
    "print(name*10)"
   ]
  },
  {
   "cell_type": "markdown",
   "metadata": {
    "id": "e8CcCiOGH_p0"
   },
   "source": [
    "#### Printing the same string can be time consuming !\n",
    "\n",
    "### Excercise : 4\n",
    "\n",
    "Print your `first_name` six times using string multiplication, do you find it easier compared to writting 6 individual prints?\n",
    "\n"
   ]
  },
  {
   "cell_type": "markdown",
   "metadata": {
    "id": "_sy2yI8N8TtT"
   },
   "source": [
    "### String Length"
   ]
  },
  {
   "cell_type": "code",
   "execution_count": null,
   "metadata": {
    "id": "hg6njQ81v3NU"
   },
   "outputs": [],
   "source": [
    "# check length of string\n",
    "name = \"DataMites. \"\n",
    "len(name)"
   ]
  },
  {
   "cell_type": "markdown",
   "metadata": {
    "id": "e95uNr2K8WJ0"
   },
   "source": [
    "### String Indexing\n",
    "\n",
    "- in Python, \n",
    "  - indexing of sequences starts from 0\n",
    "- string is a text sequence, \n",
    "  - so indexing for strings starts from 0\n",
    "\n",
    "![string indexing](https://i.imgur.com/eYQmNiWl.jpg \"String Indexing\")"
   ]
  },
  {
   "cell_type": "code",
   "execution_count": null,
   "metadata": {
    "colab": {
     "base_uri": "https://localhost:8080/",
     "height": 304
    },
    "executionInfo": {
     "elapsed": 519,
     "status": "error",
     "timestamp": 1680497057688,
     "user": {
      "displayName": "Jitendra Rathod",
      "userId": "08588782662248261812"
     },
     "user_tz": -330
    },
    "id": "aFZyKenk9BxD",
    "outputId": "28626875-e783-4aba-90d7-b8468669827f"
   },
   "outputs": [
    {
     "name": "stdout",
     "output_type": "stream",
     "text": [
      "a\n",
      "b\n",
      "c\n",
      "c\n",
      "b\n",
      "a\n"
     ]
    },
    {
     "ename": "IndexError",
     "evalue": "ignored",
     "output_type": "error",
     "traceback": [
      "\u001b[0;31m---------------------------------------------------------------------------\u001b[0m",
      "\u001b[0;31mIndexError\u001b[0m                                Traceback (most recent call last)",
      "\u001b[0;32m<ipython-input-4-02c240180872>\u001b[0m in \u001b[0;36m<cell line: 15>\u001b[0;34m()\u001b[0m\n\u001b[1;32m     13\u001b[0m \u001b[0mprint\u001b[0m\u001b[0;34m(\u001b[0m\u001b[0ms\u001b[0m\u001b[0;34m[\u001b[0m\u001b[0;34m-\u001b[0m\u001b[0;36m3\u001b[0m\u001b[0;34m]\u001b[0m\u001b[0;34m)\u001b[0m \u001b[0;31m# output: a\u001b[0m\u001b[0;34m\u001b[0m\u001b[0;34m\u001b[0m\u001b[0m\n\u001b[1;32m     14\u001b[0m \u001b[0;34m\u001b[0m\u001b[0m\n\u001b[0;32m---> 15\u001b[0;31m \u001b[0mprint\u001b[0m\u001b[0;34m(\u001b[0m\u001b[0ms\u001b[0m\u001b[0;34m[\u001b[0m\u001b[0;36m3\u001b[0m\u001b[0;34m]\u001b[0m\u001b[0;34m)\u001b[0m \u001b[0;31m# output: index error\u001b[0m\u001b[0;34m\u001b[0m\u001b[0;34m\u001b[0m\u001b[0m\n\u001b[0m",
      "\u001b[0;31mIndexError\u001b[0m: string index out of range"
     ]
    }
   ],
   "source": [
    "# define a string \n",
    "s = \"abc\"\n",
    "\n",
    "# indexing starts from 0 in Python\n",
    "\n",
    "# use square brackets and the index number to access data\n",
    "print(s[0]) # output: a\n",
    "print(s[1]) # output: b\n",
    "print(s[2]) # output: c\n",
    "\n",
    "print(s[-1]) # output: c\n",
    "print(s[-2]) # output: b\n",
    "print(s[-3]) # output: a\n",
    "\n",
    "print(s[3]) # output: index error"
   ]
  },
  {
   "cell_type": "markdown",
   "metadata": {
    "id": "v3gvL61qH_p1"
   },
   "source": [
    "#### Let's see if we can get the letter out of the string using the index value !\n",
    "\n",
    "### Excercise :  5\n",
    "\n",
    "Create a variable with the string value `This is one sentence!`, print out the index of the `o`"
   ]
  },
  {
   "cell_type": "code",
   "execution_count": 1,
   "metadata": {
    "colab": {
     "base_uri": "https://localhost:8080/"
    },
    "executionInfo": {
     "elapsed": 4,
     "status": "ok",
     "timestamp": 1681710329046,
     "user": {
      "displayName": "Jitendra Rathod",
      "userId": "08588782662248261812"
     },
     "user_tz": -330
    },
    "id": "-ZNffnrivmWO",
    "outputId": "c7078ab8-57d4-4411-875e-1e109a041429"
   },
   "outputs": [
    {
     "data": {
      "text/plain": [
       "8"
      ]
     },
     "execution_count": 1,
     "metadata": {},
     "output_type": "execute_result"
    }
   ],
   "source": [
    "my_str =  \"This is one sentence!\"\n",
    "\n",
    "my_str.index('o')"
   ]
  },
  {
   "cell_type": "markdown",
   "metadata": {
    "id": "g5OC13xWiEKX"
   },
   "source": [
    "### String Slicing \n",
    "\n",
    "- extract sub-sections of a string\n",
    "- slice strings using format `[start:stop:step]`\n",
    "  - `step = 1` by default\n",
    "  - you may also omit numbers and use only colons (`:`)"
   ]
  },
  {
   "cell_type": "code",
   "execution_count": null,
   "metadata": {
    "id": "slnXsNFnhmjh"
   },
   "outputs": [],
   "source": [
    "# define a new string \n",
    "s = 'abcdefgh'\n",
    "\n",
    "print(s[3:6])     #output: def\n",
    "print(s[3:6:1])   #output: def\n",
    "print(s[3:6:2])   #output: df\n",
    "print(s[::])      #output: abcdefgh (useful for copying string content into new memory location)\n",
    "print(s[::-1])    #output: hgfedbca (reverse string command)\n",
    "print(s[4:1:-2])  #output: ec\n"
   ]
  },
  {
   "cell_type": "markdown",
   "metadata": {
    "id": "lSTEfb8HH_p1"
   },
   "source": [
    "#### This time let's get a word out of our string \n",
    "\n",
    "### Excercise : 6 \n",
    "\n",
    "From the variable you created in **Excercise : 5** by using string slicing, print out `one`"
   ]
  },
  {
   "cell_type": "code",
   "execution_count": 5,
   "metadata": {
    "colab": {
     "base_uri": "https://localhost:8080/",
     "height": 36
    },
    "executionInfo": {
     "elapsed": 4,
     "status": "ok",
     "timestamp": 1681710678275,
     "user": {
      "displayName": "Jitendra Rathod",
      "userId": "08588782662248261812"
     },
     "user_tz": -330
    },
    "id": "R8Dvl-spw012",
    "outputId": "3594a2a3-c637-4619-e59b-cfb0ebec89f8"
   },
   "outputs": [
    {
     "data": {
      "application/vnd.google.colaboratory.intrinsic+json": {
       "type": "string"
      },
      "text/plain": [
       "'one'"
      ]
     },
     "execution_count": 5,
     "metadata": {},
     "output_type": "execute_result"
    }
   ],
   "source": [
    "my_str =  \"This is one sentence!\"\n",
    "\n",
    "my_str[8:11:1]"
   ]
  },
  {
   "cell_type": "markdown",
   "metadata": {
    "id": "8c3d4fc9"
   },
   "source": [
    "### String Functions"
   ]
  },
  {
   "cell_type": "code",
   "execution_count": null,
   "metadata": {
    "colab": {
     "base_uri": "https://localhost:8080/",
     "height": 35
    },
    "executionInfo": {
     "elapsed": 438,
     "status": "ok",
     "timestamp": 1680498170826,
     "user": {
      "displayName": "Jitendra Rathod",
      "userId": "08588782662248261812"
     },
     "user_tz": -330
    },
    "id": "be81f2fa",
    "outputId": "b77a92c4-2b3c-491a-fa0c-5e9b37b771e2"
   },
   "outputs": [
    {
     "data": {
      "application/vnd.google.colaboratory.intrinsic+json": {
       "type": "string"
      },
      "text/plain": [
       "' Hello Everyone '"
      ]
     },
     "execution_count": 5,
     "metadata": {},
     "output_type": "execute_result"
    }
   ],
   "source": [
    "mystr2 = \" Hello Everyone \"\n",
    "mystr2"
   ]
  },
  {
   "cell_type": "code",
   "execution_count": null,
   "metadata": {
    "colab": {
     "base_uri": "https://localhost:8080/"
    },
    "executionInfo": {
     "elapsed": 476,
     "status": "ok",
     "timestamp": 1680498174901,
     "user": {
      "displayName": "Jitendra Rathod",
      "userId": "08588782662248261812"
     },
     "user_tz": -330
    },
    "id": "d409e01e",
    "outputId": "21b6aacb-beb7-4198-ca8f-4c62b8fc01b3"
   },
   "outputs": [
    {
     "data": {
      "text/plain": [
       "3"
      ]
     },
     "execution_count": 6,
     "metadata": {},
     "output_type": "execute_result"
    }
   ],
   "source": [
    "mystr2.count('e')"
   ]
  },
  {
   "cell_type": "code",
   "execution_count": null,
   "metadata": {
    "colab": {
     "base_uri": "https://localhost:8080/"
    },
    "executionInfo": {
     "elapsed": 382,
     "status": "ok",
     "timestamp": 1680498188253,
     "user": {
      "displayName": "Jitendra Rathod",
      "userId": "08588782662248261812"
     },
     "user_tz": -330
    },
    "id": "3855fdc1",
    "outputId": "972f07cb-bb29-4002-c1c7-daaa0bb578df"
   },
   "outputs": [
    {
     "data": {
      "text/plain": [
       "1"
      ]
     },
     "execution_count": 7,
     "metadata": {},
     "output_type": "execute_result"
    }
   ],
   "source": [
    "mystr2.count('E') ## count the number of occurence of given substring in given string"
   ]
  },
  {
   "cell_type": "code",
   "execution_count": null,
   "metadata": {
    "id": "6e52d5b9"
   },
   "outputs": [],
   "source": [
    "mystr2"
   ]
  },
  {
   "cell_type": "code",
   "execution_count": null,
   "metadata": {
    "colab": {
     "base_uri": "https://localhost:8080/",
     "height": 35
    },
    "executionInfo": {
     "elapsed": 457,
     "status": "ok",
     "timestamp": 1680498319401,
     "user": {
      "displayName": "Jitendra Rathod",
      "userId": "08588782662248261812"
     },
     "user_tz": -330
    },
    "id": "e7a3b771",
    "outputId": "6b78b1b7-b350-4ff7-8f89-90a656d4c05b"
   },
   "outputs": [
    {
     "data": {
      "application/vnd.google.colaboratory.intrinsic+json": {
       "type": "string"
      },
      "text/plain": [
       "'Hello Everyone'"
      ]
     },
     "execution_count": 8,
     "metadata": {},
     "output_type": "execute_result"
    }
   ],
   "source": [
    "mystr2.strip()"
   ]
  },
  {
   "cell_type": "code",
   "execution_count": null,
   "metadata": {
    "id": "0c5a67a2"
   },
   "outputs": [],
   "source": [
    "mystr2"
   ]
  },
  {
   "cell_type": "code",
   "execution_count": null,
   "metadata": {
    "id": "ed2b80db"
   },
   "outputs": [],
   "source": [
    "str1=mystr2.strip()"
   ]
  },
  {
   "cell_type": "code",
   "execution_count": null,
   "metadata": {
    "colab": {
     "base_uri": "https://localhost:8080/",
     "height": 35
    },
    "collapsed": true,
    "executionInfo": {
     "elapsed": 422,
     "status": "ok",
     "timestamp": 1680498408687,
     "user": {
      "displayName": "Jitendra Rathod",
      "userId": "08588782662248261812"
     },
     "user_tz": -330
    },
    "id": "822cbd37",
    "jupyter": {
     "outputs_hidden": true
    },
    "outputId": "70e2ff5b-3200-44cc-db1e-bf7f7fec3c95"
   },
   "outputs": [
    {
     "data": {
      "application/vnd.google.colaboratory.intrinsic+json": {
       "type": "string"
      },
      "text/plain": [
       "'Hello Everyone'"
      ]
     },
     "execution_count": 10,
     "metadata": {},
     "output_type": "execute_result"
    }
   ],
   "source": [
    "str1"
   ]
  },
  {
   "cell_type": "code",
   "execution_count": null,
   "metadata": {
    "colab": {
     "base_uri": "https://localhost:8080/",
     "height": 35
    },
    "executionInfo": {
     "elapsed": 6,
     "status": "ok",
     "timestamp": 1680498837860,
     "user": {
      "displayName": "Jitendra Rathod",
      "userId": "08588782662248261812"
     },
     "user_tz": -330
    },
    "id": "adfd0c11",
    "outputId": "5dbbfa70-ebb5-4ab0-9da6-ed338d5569f6",
    "scrolled": true
   },
   "outputs": [
    {
     "data": {
      "application/vnd.google.colaboratory.intrinsic+json": {
       "type": "string"
      },
      "text/plain": [
       "' apple'"
      ]
     },
     "execution_count": 14,
     "metadata": {},
     "output_type": "execute_result"
    }
   ],
   "source": [
    "my_str = \" apple \"\n",
    "\n",
    "my_str.rstrip() # Removes all whitespaces at the end of the string"
   ]
  },
  {
   "cell_type": "code",
   "execution_count": null,
   "metadata": {
    "colab": {
     "base_uri": "https://localhost:8080/",
     "height": 35
    },
    "executionInfo": {
     "elapsed": 8,
     "status": "ok",
     "timestamp": 1680498934836,
     "user": {
      "displayName": "Jitendra Rathod",
      "userId": "08588782662248261812"
     },
     "user_tz": -330
    },
    "id": "ddba005e",
    "outputId": "3690e8e8-047e-41d2-a6e8-a582294d04d8",
    "scrolled": true
   },
   "outputs": [
    {
     "data": {
      "application/vnd.google.colaboratory.intrinsic+json": {
       "type": "string"
      },
      "text/plain": [
       "'apple '"
      ]
     },
     "execution_count": 15,
     "metadata": {},
     "output_type": "execute_result"
    }
   ],
   "source": [
    "my_str.lstrip() # Removes all whitespaces at the begining of the string"
   ]
  },
  {
   "cell_type": "code",
   "execution_count": null,
   "metadata": {
    "id": "c747149b"
   },
   "outputs": [],
   "source": [
    "mystr2"
   ]
  },
  {
   "cell_type": "code",
   "execution_count": null,
   "metadata": {
    "colab": {
     "base_uri": "https://localhost:8080/",
     "height": 35
    },
    "executionInfo": {
     "elapsed": 7,
     "status": "ok",
     "timestamp": 1680499053322,
     "user": {
      "displayName": "Jitendra Rathod",
      "userId": "08588782662248261812"
     },
     "user_tz": -330
    },
    "id": "b7afef19",
    "outputId": "bc6ae18d-635f-4188-d8b4-dad4a0ca6f65"
   },
   "outputs": [
    {
     "data": {
      "application/vnd.google.colaboratory.intrinsic+json": {
       "type": "string"
      },
      "text/plain": [
       "'*********Hello Everyone***********All the Best**********'"
      ]
     },
     "execution_count": 16,
     "metadata": {},
     "output_type": "execute_result"
    }
   ],
   "source": [
    "mystr2 = \"*********Hello Everyone***********All the Best**********\"\n",
    "mystr2"
   ]
  },
  {
   "cell_type": "code",
   "execution_count": null,
   "metadata": {
    "colab": {
     "base_uri": "https://localhost:8080/",
     "height": 35
    },
    "executionInfo": {
     "elapsed": 8,
     "status": "ok",
     "timestamp": 1680499057924,
     "user": {
      "displayName": "Jitendra Rathod",
      "userId": "08588782662248261812"
     },
     "user_tz": -330
    },
    "id": "dbb00304",
    "outputId": "3535c1d6-c7d9-4389-8fea-ac736a228b76",
    "scrolled": true
   },
   "outputs": [
    {
     "data": {
      "application/vnd.google.colaboratory.intrinsic+json": {
       "type": "string"
      },
      "text/plain": [
       "'Hello Everyone***********All the Best'"
      ]
     },
     "execution_count": 17,
     "metadata": {},
     "output_type": "execute_result"
    }
   ],
   "source": [
    "mystr2.strip('*') # Removes all '*' characters from begining \n",
    "#& end of the string"
   ]
  },
  {
   "cell_type": "code",
   "execution_count": null,
   "metadata": {
    "id": "445c7f26"
   },
   "outputs": [],
   "source": []
  },
  {
   "cell_type": "code",
   "execution_count": null,
   "metadata": {
    "id": "af7c9b10"
   },
   "outputs": [],
   "source": [
    "mystr2='HELLO PYTHON'"
   ]
  },
  {
   "cell_type": "code",
   "execution_count": null,
   "metadata": {
    "colab": {
     "base_uri": "https://localhost:8080/",
     "height": 35
    },
    "collapsed": true,
    "executionInfo": {
     "elapsed": 860,
     "status": "ok",
     "timestamp": 1680499107719,
     "user": {
      "displayName": "Jitendra Rathod",
      "userId": "08588782662248261812"
     },
     "user_tz": -330
    },
    "id": "9a08cfda",
    "jupyter": {
     "outputs_hidden": true
    },
    "outputId": "c83404a5-727c-459e-f4fa-84ce23c5051f"
   },
   "outputs": [
    {
     "data": {
      "application/vnd.google.colaboratory.intrinsic+json": {
       "type": "string"
      },
      "text/plain": [
       "'hello python'"
      ]
     },
     "execution_count": 19,
     "metadata": {},
     "output_type": "execute_result"
    }
   ],
   "source": [
    "mystr2.lower()"
   ]
  },
  {
   "cell_type": "code",
   "execution_count": null,
   "metadata": {
    "id": "c2a468df"
   },
   "outputs": [],
   "source": [
    "mystr5='hello python'"
   ]
  },
  {
   "cell_type": "code",
   "execution_count": null,
   "metadata": {
    "colab": {
     "base_uri": "https://localhost:8080/",
     "height": 35
    },
    "executionInfo": {
     "elapsed": 451,
     "status": "ok",
     "timestamp": 1680499141485,
     "user": {
      "displayName": "Jitendra Rathod",
      "userId": "08588782662248261812"
     },
     "user_tz": -330
    },
    "id": "340e2449",
    "outputId": "ce743891-9252-4636-8aea-2c2444aca98a",
    "scrolled": true
   },
   "outputs": [
    {
     "data": {
      "application/vnd.google.colaboratory.intrinsic+json": {
       "type": "string"
      },
      "text/plain": [
       "'HELLO PYTHON'"
      ]
     },
     "execution_count": 21,
     "metadata": {},
     "output_type": "execute_result"
    }
   ],
   "source": [
    "mystr5.upper()"
   ]
  },
  {
   "cell_type": "code",
   "execution_count": null,
   "metadata": {
    "colab": {
     "base_uri": "https://localhost:8080/"
    },
    "collapsed": true,
    "executionInfo": {
     "elapsed": 416,
     "status": "ok",
     "timestamp": 1680499352024,
     "user": {
      "displayName": "Jitendra Rathod",
      "userId": "08588782662248261812"
     },
     "user_tz": -330
    },
    "id": "fad85656",
    "jupyter": {
     "outputs_hidden": true
    },
    "outputId": "932c85f3-16ab-4824-bb8f-7a17470ad76c"
   },
   "outputs": [
    {
     "data": {
      "text/plain": [
       "False"
      ]
     },
     "execution_count": 25,
     "metadata": {},
     "output_type": "execute_result"
    }
   ],
   "source": [
    "str5 = \"hello world\"\n",
    "\n",
    "mystr5.startswith(\"He\") \n",
    "# Return boolean value True if string starts with \"He\"\n"
   ]
  },
  {
   "cell_type": "code",
   "execution_count": null,
   "metadata": {
    "colab": {
     "base_uri": "https://localhost:8080/"
    },
    "executionInfo": {
     "elapsed": 4,
     "status": "ok",
     "timestamp": 1680499367893,
     "user": {
      "displayName": "Jitendra Rathod",
      "userId": "08588782662248261812"
     },
     "user_tz": -330
    },
    "id": "6305a0b1",
    "outputId": "3f912532-90f1-4819-c6f5-a47aba79a292"
   },
   "outputs": [
    {
     "data": {
      "text/plain": [
       "False"
      ]
     },
     "execution_count": 27,
     "metadata": {},
     "output_type": "execute_result"
    }
   ],
   "source": [
    "str5.endswith(\"on\") \n",
    "# Return boolean value True if string ends with \"on\""
   ]
  },
  {
   "cell_type": "code",
   "execution_count": null,
   "metadata": {
    "id": "f7d7c529"
   },
   "outputs": [],
   "source": [
    "mystr4 = \"one two three four one two two three five five six seven six seven one oneone ten eight ten nine eleven ten ten nine\""
   ]
  },
  {
   "cell_type": "code",
   "execution_count": null,
   "metadata": {
    "colab": {
     "base_uri": "https://localhost:8080/"
    },
    "executionInfo": {
     "elapsed": 391,
     "status": "ok",
     "timestamp": 1680499443238,
     "user": {
      "displayName": "Jitendra Rathod",
      "userId": "08588782662248261812"
     },
     "user_tz": -330
    },
    "id": "fcb30b96",
    "outputId": "292ce66b-fea6-4ef4-837b-3d48a4b3a57f"
   },
   "outputs": [
    {
     "data": {
      "text/plain": [
       "['one',\n",
       " 'two',\n",
       " 'three',\n",
       " 'four',\n",
       " 'one',\n",
       " 'two',\n",
       " 'two',\n",
       " 'three',\n",
       " 'five',\n",
       " 'five',\n",
       " 'six',\n",
       " 'seven',\n",
       " 'six',\n",
       " 'seven',\n",
       " 'one',\n",
       " 'oneone',\n",
       " 'ten',\n",
       " 'eight',\n",
       " 'ten',\n",
       " 'nine',\n",
       " 'eleven',\n",
       " 'ten',\n",
       " 'ten',\n",
       " 'nine']"
      ]
     },
     "execution_count": 30,
     "metadata": {},
     "output_type": "execute_result"
    }
   ],
   "source": [
    "mystr4.split()"
   ]
  },
  {
   "cell_type": "code",
   "execution_count": 6,
   "metadata": {
    "colab": {
     "base_uri": "https://localhost:8080/"
    },
    "executionInfo": {
     "elapsed": 2,
     "status": "ok",
     "timestamp": 1681711104788,
     "user": {
      "displayName": "Jitendra Rathod",
      "userId": "08588782662248261812"
     },
     "user_tz": -330
    },
    "id": "44834058",
    "outputId": "4508cac4-e013-4dc4-c99e-2ab9dc94cabb"
   },
   "outputs": [
    {
     "data": {
      "text/plain": [
       "['Saliya', 'Shaikh']"
      ]
     },
     "execution_count": 6,
     "metadata": {},
     "output_type": "execute_result"
    }
   ],
   "source": [
    "my_name = \"Saliya Shaikh\"\n",
    "\n",
    "my_name.split()"
   ]
  },
  {
   "cell_type": "code",
   "execution_count": null,
   "metadata": {
    "colab": {
     "base_uri": "https://localhost:8080/"
    },
    "executionInfo": {
     "elapsed": 414,
     "status": "ok",
     "timestamp": 1680499790306,
     "user": {
      "displayName": "Jitendra Rathod",
      "userId": "08588782662248261812"
     },
     "user_tz": -330
    },
    "id": "a8c2ae2d",
    "outputId": "19130e88-28e2-48de-bb98-e32fda7abefa"
   },
   "outputs": [
    {
     "name": "stdout",
     "output_type": "stream",
     "text": [
      "['Sal', 'yaSha', 'kh']\n"
     ]
    }
   ],
   "source": [
    "print(my_name.split('i'))"
   ]
  },
  {
   "cell_type": "code",
   "execution_count": null,
   "metadata": {
    "colab": {
     "base_uri": "https://localhost:8080/"
    },
    "executionInfo": {
     "elapsed": 396,
     "status": "ok",
     "timestamp": 1680499948910,
     "user": {
      "displayName": "Jitendra Rathod",
      "userId": "08588782662248261812"
     },
     "user_tz": -330
    },
    "id": "ff8f5f98",
    "outputId": "511f1c71-147a-491b-c8b3-db872fcc0a85"
   },
   "outputs": [
    {
     "name": "stdout",
     "output_type": "stream",
     "text": [
      "Cost of item1 , item2 and item3 are 40 , 77 and 55\n"
     ]
    }
   ],
   "source": [
    "# Combining string & numbers using format method\n",
    "item1 = 40\n",
    "item2 = 55\n",
    "item3 = 77\n",
    "\n",
    "print(\"Cost of item1 , item2 and item3 are {} , {} and {}\".format(item1,item3,item2))\n",
    "\n"
   ]
  },
  {
   "cell_type": "code",
   "execution_count": null,
   "metadata": {
    "id": "0362f463"
   },
   "outputs": [],
   "source": [
    "a=5\n",
    "b=3\n",
    "c=9\n",
    "print('The value of a is {} and the value of b is {} value of c is {}  '.format(b,c,a))"
   ]
  },
  {
   "cell_type": "markdown",
   "metadata": {
    "id": "N6OloXhe7su4"
   },
   "source": [
    "# Lists\n",
    "\n",
    "- lists are ordered sequences of objects\n",
    "  - they are mutable"
   ]
  },
  {
   "cell_type": "code",
   "execution_count": null,
   "metadata": {
    "id": "YZ4O3qgS98kE"
   },
   "outputs": [],
   "source": [
    "# define a list\n",
    "new_list = [3,7,20,'@','DataMites.', 'makes learning fun!']\n",
    "\n",
    "# view list \n",
    "print(new_list)"
   ]
  },
  {
   "cell_type": "markdown",
   "metadata": {
    "id": "D_xPwfpyH_p1"
   },
   "source": [
    "#### Let's build our own lists now\n",
    "\n",
    "### Excercise : 7 \n",
    "\n",
    "Create grocery list in form of a python script ,you can add items such as `banana`,`milk` etc !"
   ]
  },
  {
   "cell_type": "markdown",
   "metadata": {
    "id": "dsk--t9fN_Q0"
   },
   "source": [
    "##### Accessing List Elements\n",
    "\n",
    "- indexing in lists works just like strings \n",
    "- indexing starts from zero\n"
   ]
  },
  {
   "cell_type": "code",
   "execution_count": null,
   "metadata": {
    "colab": {
     "base_uri": "https://localhost:8080/"
    },
    "executionInfo": {
     "elapsed": 6,
     "status": "ok",
     "timestamp": 1680580835345,
     "user": {
      "displayName": "Jitendra Rathod",
      "userId": "08588782662248261812"
     },
     "user_tz": -330
    },
    "id": "8lG50DfXOCjK",
    "outputId": "6b7f1e63-aae0-4bec-ce57-2b4a3ae1aebc"
   },
   "outputs": [
    {
     "name": "stdout",
     "output_type": "stream",
     "text": [
      "3\n",
      "7\n",
      "20\n",
      "@\n",
      "makes learning fun!\n",
      "DataMites.\n",
      "@\n",
      "20\n"
     ]
    }
   ],
   "source": [
    "# define a list\n",
    "new_list = [3,7,20,'@','DataMites.', 'makes learning fun!']\n",
    "\n",
    "\n",
    "print(new_list[0]) # zeroth element\n",
    "print(new_list[1]) # first element\n",
    "print(new_list[2]) # second element\n",
    "print(new_list[3]) # third element\n",
    "\n",
    "print(new_list[-1]) # last element\n",
    "print(new_list[-2]) # last but one element\n",
    "print(new_list[-3]) # last but two element\n",
    "print(new_list[-4]) # last but three element\n",
    "\n"
   ]
  },
  {
   "cell_type": "markdown",
   "metadata": {
    "id": "zQ1V9cVLH_p2"
   },
   "source": [
    "#### Let's take out a element from our list \n",
    "\n",
    "### Excercise : 8 \n",
    "\n",
    "From the grocery we just created in the above section, using list slicing print out the `banana` element"
   ]
  },
  {
   "cell_type": "markdown",
   "metadata": {
    "id": "zJK6-NsOP0lr"
   },
   "source": [
    "##### Nested Lists\n",
    "\n",
    "- lists can be embedded inside lists\n",
    "  - multiple nesting is also supported"
   ]
  },
  {
   "cell_type": "code",
   "execution_count": null,
   "metadata": {
    "colab": {
     "base_uri": "https://localhost:8080/"
    },
    "executionInfo": {
     "elapsed": 378,
     "status": "ok",
     "timestamp": 1680581073084,
     "user": {
      "displayName": "Jitendra Rathod",
      "userId": "08588782662248261812"
     },
     "user_tz": -330
    },
    "id": "WGziiPigPzu8",
    "outputId": "8ad9f8d5-2c9c-480b-f8f4-80df4a3f7d67"
   },
   "outputs": [
    {
     "name": "stdout",
     "output_type": "stream",
     "text": [
      "[[1, 2, 3], ['a', 'b', 'c'], [True, False, 7]]\n"
     ]
    }
   ],
   "source": [
    "# define nested lists \n",
    "nested_list = [\n",
    "               [1,2,3],\n",
    "               ['a','b','c'],\n",
    "               [True,False,7],\n",
    "              ]\n",
    "\n",
    "# check nested list\n",
    "print(nested_list)"
   ]
  },
  {
   "cell_type": "markdown",
   "metadata": {
    "id": "WJ6Gd2B1H_p2"
   },
   "source": [
    "#### Let's build our own nested lists !\n",
    "\n",
    "### Excercise : 9 \n",
    "\n",
    "Make a nested list of various your favorite animals ,colours and songs and then print it "
   ]
  },
  {
   "cell_type": "markdown",
   "metadata": {
    "id": "P-BfjNpCOvzO"
   },
   "source": [
    "##### List Mutability Test"
   ]
  },
  {
   "cell_type": "code",
   "execution_count": null,
   "metadata": {
    "colab": {
     "base_uri": "https://localhost:8080/"
    },
    "executionInfo": {
     "elapsed": 412,
     "status": "ok",
     "timestamp": 1680581346123,
     "user": {
      "displayName": "Jitendra Rathod",
      "userId": "08588782662248261812"
     },
     "user_tz": -330
    },
    "id": "Jt8P12B2O--N",
    "outputId": "63ade3ce-4398-4fea-f326-21b267aa9d3f"
   },
   "outputs": [
    {
     "name": "stdout",
     "output_type": "stream",
     "text": [
      "[3, 7, 'one', '@', 'DataMites.', 'makes learning fun!']\n"
     ]
    }
   ],
   "source": [
    "# define list\n",
    "new_list = [3,7,20,'@','DataMites.', 'makes learning fun!']\n",
    "\n",
    "# try changing content in list\n",
    "new_list[2] = 'one' # accepts change\n",
    "\n",
    "# check list\n",
    "print(new_list)"
   ]
  },
  {
   "cell_type": "markdown",
   "metadata": {
    "id": "iM1Ac6pTQnIN"
   },
   "source": [
    "# Append to List\n",
    "\n",
    "- append can add *only one* element at the end of a list at a time"
   ]
  },
  {
   "cell_type": "code",
   "execution_count": null,
   "metadata": {
    "colab": {
     "base_uri": "https://localhost:8080/"
    },
    "executionInfo": {
     "elapsed": 1769,
     "status": "ok",
     "timestamp": 1680582039462,
     "user": {
      "displayName": "Jitendra Rathod",
      "userId": "08588782662248261812"
     },
     "user_tz": -330
    },
    "id": "HeqMVtcl_CcA",
    "outputId": "7cca26bc-9bf7-4cc7-dcd0-30f670ec7f05"
   },
   "outputs": [
    {
     "name": "stdout",
     "output_type": "stream",
     "text": [
      "[3, 7, 20, '@', 'DataMites.', 'makes learning fun!']\n",
      "[3, 7, 20, '@', 'DataMites.', 'makes learning fun!', 'wohoo!']\n"
     ]
    }
   ],
   "source": [
    "# define a list\n",
    "new_list = [3,7,20,'@','DataMites.', 'makes learning fun!']\n",
    "\n",
    "# print new list\n",
    "print(new_list)\n",
    "\n",
    "# append 'wohoo' to new_list\n",
    "new_list.append('wohoo!')\n",
    "\n",
    "# check apended value\n",
    "print(new_list)"
   ]
  },
  {
   "cell_type": "code",
   "execution_count": 7,
   "metadata": {
    "colab": {
     "base_uri": "https://localhost:8080/"
    },
    "executionInfo": {
     "elapsed": 542,
     "status": "ok",
     "timestamp": 1681711944829,
     "user": {
      "displayName": "Jitendra Rathod",
      "userId": "08588782662248261812"
     },
     "user_tz": -330
    },
    "id": "VdP8o8un13gy",
    "outputId": "869a0707-20f7-4107-a32e-5de537356d96"
   },
   "outputs": [
    {
     "name": "stdout",
     "output_type": "stream",
     "text": [
      "[3, 7, 20, '@', 'DataMites.', 'makes learning fun!']\n",
      "[3, 7, 20, '@', 'DataMites.', 'makes learning fun!', [1, 2, 3]]\n"
     ]
    }
   ],
   "source": [
    "new_list = [3,7,20,'@','DataMites.', 'makes learning fun!']\n",
    "\n",
    "# print new list\n",
    "print(new_list)\n",
    "\n",
    "# append 'wohoo' to new_list\n",
    "new_list.append([1,2,3])\n",
    "\n",
    "# check apended value\n",
    "print(new_list)"
   ]
  },
  {
   "cell_type": "markdown",
   "metadata": {
    "id": "biFKcYu4QuXd"
   },
   "source": [
    "##### Extend List\n",
    "\n",
    "- used to add multiple elements at the end of the list"
   ]
  },
  {
   "cell_type": "code",
   "execution_count": 8,
   "metadata": {
    "colab": {
     "base_uri": "https://localhost:8080/"
    },
    "executionInfo": {
     "elapsed": 2,
     "status": "ok",
     "timestamp": 1681712103432,
     "user": {
      "displayName": "Jitendra Rathod",
      "userId": "08588782662248261812"
     },
     "user_tz": -330
    },
    "id": "PQUkHCuW_Tm5",
    "outputId": "15f33713-91fa-495c-c7ea-499ceeb66caf"
   },
   "outputs": [
    {
     "name": "stdout",
     "output_type": "stream",
     "text": [
      "[3, 7, 20, '@', 'DataMites.', 'makes learning fun!']\n",
      "[3, 7, 20, '@', 'DataMites.', 'makes learning fun!', \"Let's\", 'do', 'this', '!']\n"
     ]
    }
   ],
   "source": [
    "# define a list\n",
    "new_list = [3,7,20,'@','DataMites.', 'makes learning fun!']\n",
    "\n",
    "# print new list\n",
    "print(new_list)\n",
    "\n",
    "# extend new_list with multiple elements in an array\n",
    "new_list.extend([\"Let's\", \"do\", \"this\",\"!\"])\n",
    "# NOTE: multiple elements have to be input in array\n",
    "\n",
    "print(new_list)\n"
   ]
  },
  {
   "cell_type": "markdown",
   "metadata": {
    "id": "v8dX3sZcQ7Zt"
   },
   "source": [
    "##### Insert to List\n",
    "\n",
    "- can add an element at a given position in the list\n",
    "- can add only one element at a time\n",
    "- two arguments: \n",
    "  - first argument specifies the position \n",
    "  - second argument specifies the element to be inserted"
   ]
  },
  {
   "cell_type": "code",
   "execution_count": null,
   "metadata": {
    "id": "WixdKFalQdTZ"
   },
   "outputs": [],
   "source": [
    "# define list\n",
    "new_list = [3,7,20,'@','DataMites.', 'makes learning fun!']\n",
    "\n",
    "# insert element 'Chocolate' at spot 3 in new_list\n",
    "new_list.insert(3,'Chocolate')\n",
    "\n",
    "# check insertion\n",
    "print(new_list)"
   ]
  },
  {
   "cell_type": "markdown",
   "metadata": {
    "id": "zENa22-MH_p3"
   },
   "source": [
    "#### Now that we know how to insert into a list ,\n",
    "\n",
    "### Excercise : 10\n",
    "\n",
    "In the list that you created in **Excercise : 5** append `almonds` into it !"
   ]
  },
  {
   "cell_type": "markdown",
   "metadata": {
    "id": "fUY3RWxwQ8C3"
   },
   "source": [
    "##### Remove from List\n",
    "\n",
    "- used to remove an element from the list\n",
    "  - in the case of multiple occurrences, only the first is removed"
   ]
  },
  {
   "cell_type": "code",
   "execution_count": 9,
   "metadata": {
    "colab": {
     "base_uri": "https://localhost:8080/"
    },
    "executionInfo": {
     "elapsed": 3,
     "status": "ok",
     "timestamp": 1681712333724,
     "user": {
      "displayName": "Jitendra Rathod",
      "userId": "08588782662248261812"
     },
     "user_tz": -330
    },
    "id": "xSmMhkgfQ6xP",
    "outputId": "34ecec31-3420-4d6a-fab4-825ac54aff63"
   },
   "outputs": [
    {
     "name": "stdout",
     "output_type": "stream",
     "text": [
      "[3, 7, '@', 'DataMites.', 'makes learning fun!']\n"
     ]
    }
   ],
   "source": [
    "# define list\n",
    "new_list = [3,7,20,'@','DataMites.', 'makes learning fun!']\n",
    "\n",
    "# remove 20 from new_list\n",
    "new_list.remove(20)\n",
    "\n",
    "# check removal\n",
    "print(new_list)"
   ]
  },
  {
   "cell_type": "markdown",
   "metadata": {
    "id": "0um7z34dH_p3"
   },
   "source": [
    "#### Maybe almonds was not a good idea ,\n",
    "\n",
    "### Excercise : 11 \n",
    "\n",
    "Perform a removal operation `almonds` from your list which you just added to \n",
    "\n"
   ]
  },
  {
   "cell_type": "markdown",
   "metadata": {
    "id": "t-T9cLYHRIpD"
   },
   "source": [
    "##### Pop from List\n",
    "\n",
    "- can remove an element from any position in the list\n",
    "  - removes index item\n",
    "- element is not specified like in `remove()` method, only the index position\n"
   ]
  },
  {
   "cell_type": "code",
   "execution_count": null,
   "metadata": {
    "id": "ud9hd_0URJcS"
   },
   "outputs": [],
   "source": [
    "# define list\n",
    "new_list = [3,7,20,'@','DataMites.', 'makes learning fun!']\n",
    "\n",
    "# pop spot 2 from list\n",
    "new_list.pop(2)\n",
    "\n",
    "# check list \n",
    "print(new_list)\n"
   ]
  },
  {
   "cell_type": "markdown",
   "metadata": {
    "id": "ukhlUePWH_p3"
   },
   "source": [
    "#### Let's also remove the latest element for our grocery list \n",
    "\n",
    "### Excercise : 12 \n",
    "\n",
    "From the list from which you just removed `almonds` perform a `.pop()` function on it "
   ]
  },
  {
   "cell_type": "markdown",
   "metadata": {
    "id": "zk1CAILxiE0Y"
   },
   "source": [
    "##### `remove()` vs. `pop()`\n",
    "\n",
    "|`remove()`|`pop()`|\n",
    "|---|---|\n",
    "|removes element by identification|removes by index|\n",
    "|`new_list.remove(element_to_remove)`|`new_list.pop(index_number_to_remove)`|"
   ]
  },
  {
   "cell_type": "markdown",
   "metadata": {
    "id": "u2DNJGYgRPhY"
   },
   "source": [
    "##### List Slicing\n",
    "\n",
    "- used to extract a sub-section of the list\n",
    "  - index access works like string indexing and slicing"
   ]
  },
  {
   "cell_type": "code",
   "execution_count": null,
   "metadata": {
    "colab": {
     "base_uri": "https://localhost:8080/"
    },
    "executionInfo": {
     "elapsed": 483,
     "status": "ok",
     "timestamp": 1680584469372,
     "user": {
      "displayName": "Jitendra Rathod",
      "userId": "08588782662248261812"
     },
     "user_tz": -330
    },
    "id": "vWH0nts9RSvc",
    "outputId": "48b13b86-725f-4976-de4f-787017a6a6de"
   },
   "outputs": [
    {
     "name": "stdout",
     "output_type": "stream",
     "text": [
      "[3, 7, 20, '@']\n",
      "[20, '@', 'DataMites.', 'makes learning fun!']\n",
      "[7, 20, '@', 'DataMites.']\n",
      "[3, 7, 20, '@', 'DataMites.', 'makes learning fun!']\n"
     ]
    }
   ],
   "source": [
    "# define list\n",
    "new_list = [3,7,20,'@','DataMites.', 'makes learning fun!']\n",
    "\n",
    "# extract combinations of new_list extracts\n",
    "print(new_list[:4])\n",
    "print(new_list[2:])\n",
    "print(new_list[1:5])\n",
    "print(new_list[:])"
   ]
  },
  {
   "cell_type": "markdown",
   "metadata": {
    "id": "2ZsAjb-aRTDx"
   },
   "source": [
    "##### Reverse a List\n",
    "\n",
    "- used to reverse the elements of a list\n",
    "\n",
    "- can be done in two ways\n",
    "  - modify the original list\n",
    "  - without modifying the original list"
   ]
  },
  {
   "cell_type": "code",
   "execution_count": 10,
   "metadata": {
    "colab": {
     "base_uri": "https://localhost:8080/"
    },
    "executionInfo": {
     "elapsed": 680,
     "status": "ok",
     "timestamp": 1681712557163,
     "user": {
      "displayName": "Jitendra Rathod",
      "userId": "08588782662248261812"
     },
     "user_tz": -330
    },
    "id": "ljRBmDWlRXcQ",
    "outputId": "10ab9f05-8f1d-4632-a4a2-46fb6ab09d84"
   },
   "outputs": [
    {
     "name": "stdout",
     "output_type": "stream",
     "text": [
      "['makes learning fun!', 'DataMites.', '@', 20, 7, 3]\n",
      "[3, 7, 20, '@', 'DataMites.', 'makes learning fun!']\n",
      "['makes learning fun!', 'DataMites.', '@', 20, 7, 3]\n"
     ]
    }
   ],
   "source": [
    "# define list\n",
    "new_list = [3,7,20,'@','DataMites.', 'makes learning fun!']\n",
    "\n",
    "# without modifying the original list\n",
    "print(new_list[::-1])\n",
    "print(new_list) # unmodified original list\n",
    "\n",
    "# modify the original list\n",
    "new_list.reverse() # modify original list\n",
    "print(new_list) "
   ]
  },
  {
   "cell_type": "markdown",
   "metadata": {
    "id": "hYPWSz97RWdn"
   },
   "source": [
    "##### Length of a List\n",
    "\n",
    "- returns the number of elements in the list"
   ]
  },
  {
   "cell_type": "code",
   "execution_count": null,
   "metadata": {
    "id": "Ej4FTnMlRd0o"
   },
   "outputs": [],
   "source": [
    "# define list\n",
    "new_list = [3,7,20,'@','DataMites.', 'makes learning fun!']\n",
    "\n",
    "# print length of new_list\n",
    "len(new_list)"
   ]
  },
  {
   "cell_type": "markdown",
   "metadata": {
    "id": "c83XRni0Rmq9"
   },
   "source": [
    "##### Min & Max Values of a List\n",
    "\n",
    "- min() returns the *minimum* value in the list\n",
    "- max() returns the *maximum* value in the list\n",
    "\n",
    "- NOTE: both methods accept only *homogeneous* lists \n",
    "  - i.e. list having elements of similar data type"
   ]
  },
  {
   "cell_type": "code",
   "execution_count": null,
   "metadata": {
    "colab": {
     "base_uri": "https://localhost:8080/"
    },
    "executionInfo": {
     "elapsed": 3,
     "status": "ok",
     "timestamp": 1680108711186,
     "user": {
      "displayName": "Jitendra Rathod",
      "userId": "08588782662248261812"
     },
     "user_tz": -330
    },
    "id": "39dvJCbrRl9d",
    "outputId": "9f5a0ec9-2486-45fc-d744-c36d4bbdf951"
   },
   "outputs": [
    {
     "name": "stdout",
     "output_type": "stream",
     "text": [
      "7\n",
      "99\n",
      "%$\n",
      "x\n"
     ]
    }
   ],
   "source": [
    "# define list\n",
    "new_list = [8,12,7,10,52,33,21,99]\n",
    "\n",
    "# check min and max of new_list\n",
    "print(min(new_list))\n",
    "print(max(new_list))\n",
    "\n",
    "# define list\n",
    "'''\n",
    "When you use the min() function on a list of strings,\n",
    "it will return the minimum element in the list based on lexicographical order\n",
    "(i.e., the order in which the strings would appear in a dictionary). \n",
    "In this case, '%' is the smallest character, so '%' will be the minimum element in the list.\n",
    "'''\n",
    "\n",
    "new_list = ['x','10','99','twenty','%$','--']\n",
    "\n",
    "\n",
    "# check min and max of new_list\n",
    "print(min(new_list))\n",
    "print(max(new_list))\n",
    "\n",
    "'''\n",
    "'x' is the largest character, so 'x' will be the maximum element in the list.\n",
    "'''"
   ]
  },
  {
   "cell_type": "markdown",
   "metadata": {
    "id": "FJDJa5YyRrAr"
   },
   "source": [
    "##### Count of an Element in a List\n",
    "\n",
    "- returns the number of occurrences of a given element in the list"
   ]
  },
  {
   "cell_type": "code",
   "execution_count": null,
   "metadata": {
    "colab": {
     "base_uri": "https://localhost:8080/"
    },
    "executionInfo": {
     "elapsed": 830,
     "status": "ok",
     "timestamp": 1680585262972,
     "user": {
      "displayName": "Jitendra Rathod",
      "userId": "08588782662248261812"
     },
     "user_tz": -330
    },
    "id": "TZi2U9kNRu_h",
    "outputId": "69613dae-f92b-42f1-81ee-cc7042823af5"
   },
   "outputs": [
    {
     "name": "stdout",
     "output_type": "stream",
     "text": [
      "3\n",
      "1\n"
     ]
    }
   ],
   "source": [
    "# define list\n",
    "new_list = [8,12,7,10,7,33,21,7]\n",
    "\n",
    "# count the number of occurences of 7\n",
    "print(new_list.count(7))\n",
    "\n",
    "# count the number of occurences of 10\n",
    "print(new_list.count(10))"
   ]
  },
  {
   "cell_type": "markdown",
   "metadata": {
    "id": "bWT4dvHxH_p4"
   },
   "source": [
    "#### How many items do we have in our grocery list \n",
    "\n",
    "### Excercise : 13 \n",
    "\n",
    "On the list on which we performed `pop` run the `len` function and make a note of how many items we have !\n",
    "\n"
   ]
  },
  {
   "cell_type": "markdown",
   "metadata": {
    "id": "ADav9xGNRvUN"
   },
   "source": [
    "##### Concatenate Lists\n",
    "\n",
    "- used to merge two lists and return a single list"
   ]
  },
  {
   "cell_type": "code",
   "execution_count": null,
   "metadata": {
    "colab": {
     "base_uri": "https://localhost:8080/"
    },
    "executionInfo": {
     "elapsed": 414,
     "status": "ok",
     "timestamp": 1680585498655,
     "user": {
      "displayName": "Jitendra Rathod",
      "userId": "08588782662248261812"
     },
     "user_tz": -330
    },
    "id": "0AUNcmgfRzb-",
    "outputId": "6245aef8-3b19-48c5-e42b-aaf5b9bfad37"
   },
   "outputs": [
    {
     "name": "stdout",
     "output_type": "stream",
     "text": [
      "['three', 'hundred']\n",
      "['words', 'in', 'a', 'paragraph', 2]\n",
      "['three', 'hundred', 'words', 'in', 'a', 'paragraph', 2]\n"
     ]
    }
   ],
   "source": [
    "# define two lists\n",
    "list_first = ['three','hundred']\n",
    "print(list_first)\n",
    "\n",
    "list_second = ['words','in','a','paragraph',2]\n",
    "print(list_second)\n",
    "\n",
    "# concatenate lists\n",
    "list_combined = list_first + list_second\n",
    "print(list_combined)\n"
   ]
  },
  {
   "cell_type": "markdown",
   "metadata": {
    "id": "UT0A5BXVRz42"
   },
   "source": [
    "##### Multiply List Content\n",
    "\n",
    "- allows duplicating the list n times\n",
    "- resultant list is the original list iterated n times"
   ]
  },
  {
   "cell_type": "code",
   "execution_count": null,
   "metadata": {
    "colab": {
     "base_uri": "https://localhost:8080/"
    },
    "executionInfo": {
     "elapsed": 436,
     "status": "ok",
     "timestamp": 1680110888242,
     "user": {
      "displayName": "Jitendra Rathod",
      "userId": "08588782662248261812"
     },
     "user_tz": -330
    },
    "id": "dhg26Lf_R6e0",
    "outputId": "b59df589-594f-452c-952e-9ec0b0e38fcf"
   },
   "outputs": [
    {
     "name": "stdout",
     "output_type": "stream",
     "text": [
      "[3, 7, 20, '@', 'DataMites.', 'makes learning fun!', 3, 7, 20, '@', 'DataMites.', 'makes learning fun!']\n",
      "[3, 7, 20, '@', 'DataMites.', 'makes learning fun!', 3, 7, 20, '@', 'DataMites.', 'makes learning fun!', 3, 7, 20, '@', 'DataMites.', 'makes learning fun!']\n"
     ]
    }
   ],
   "source": [
    "# define list\n",
    "new_list = [3,7,20,'@','DataMites.', 'makes learning fun!']\n",
    "\n",
    "# multiply list\n",
    "print(new_list*2)\n",
    "print(new_list*3)"
   ]
  },
  {
   "cell_type": "markdown",
   "metadata": {
    "id": "pX5vnJIYR61W"
   },
   "source": [
    "##### Location of the First Occurence\n",
    "\n",
    " - `index()` method returns the position of the first occurrence of the given element\n",
    "\n",
    "\n",
    " - optional parameters: \n",
    "  - the begin index and \n",
    "  - the end index\n",
    "\n",
    "- when optional arguments are given:\n",
    "  - the element is searched only in the sub-list bound by the begin and end indices\n",
    "\n",
    "- when not supplied,\n",
    "  - the element is searched in the whole list"
   ]
  },
  {
   "cell_type": "code",
   "execution_count": 12,
   "metadata": {
    "colab": {
     "base_uri": "https://localhost:8080/"
    },
    "executionInfo": {
     "elapsed": 3,
     "status": "ok",
     "timestamp": 1681712905201,
     "user": {
      "displayName": "Jitendra Rathod",
      "userId": "08588782662248261812"
     },
     "user_tz": -330
    },
    "id": "ilF2qzJaSA6-",
    "outputId": "f8e141aa-86fa-42a7-b299-929361560f04"
   },
   "outputs": [
    {
     "name": "stdout",
     "output_type": "stream",
     "text": [
      "4\n",
      "3\n"
     ]
    }
   ],
   "source": [
    "# define list\n",
    "new_list = [3,7,20,'@','DataMites.', 'makes learning fun!']\n",
    "\n",
    "# search index of 'DataMites.'\n",
    "print(new_list.index('DataMites.'))\n",
    "\n",
    "# search '@' with optional arguments\n",
    "print(new_list.index('@',1,4))\n"
   ]
  },
  {
   "cell_type": "markdown",
   "metadata": {
    "id": "nHdhrbk-SDRT"
   },
   "source": [
    "##### Sort a List in Place \n",
    "\n",
    "- sort method sorts the list in ascending order\n",
    "  - can only be performed on homogeneous lists, i.e. lists having elements of similar data type"
   ]
  },
  {
   "cell_type": "code",
   "execution_count": null,
   "metadata": {
    "colab": {
     "base_uri": "https://localhost:8080/"
    },
    "executionInfo": {
     "elapsed": 523,
     "status": "ok",
     "timestamp": 1680586092180,
     "user": {
      "displayName": "Jitendra Rathod",
      "userId": "08588782662248261812"
     },
     "user_tz": -330
    },
    "id": "_qBL9eZdSHCJ",
    "outputId": "2459464a-7539-4bfe-cf46-5851c376aa2b"
   },
   "outputs": [
    {
     "name": "stdout",
     "output_type": "stream",
     "text": [
      "[4, 2, 6, 5, 0, 1]\n",
      "[0, 1, 2, 4, 5, 6]\n"
     ]
    }
   ],
   "source": [
    "# define list\n",
    "new_list = [4, 2, 6, 5, 0, 1] \n",
    "\n",
    "# check unsorted list\n",
    "print(new_list)\n",
    "\n",
    "# sort list\n",
    "new_list.sort()\n",
    "\n",
    "# check sorted list\n",
    "print(new_list)"
   ]
  },
  {
   "cell_type": "markdown",
   "metadata": {
    "id": "nYni1ncPpHzz"
   },
   "source": [
    "##### Create copy of Sorted List \n",
    "\n",
    "- leave the original list unsorted \n",
    "  - but create a new list with sorted items"
   ]
  },
  {
   "cell_type": "code",
   "execution_count": null,
   "metadata": {
    "id": "ZNuTzitjpI9q"
   },
   "outputs": [],
   "source": [
    "# define list\n",
    "new_list = [4, 2, 6, 5, 0, 1] \n",
    "\n",
    "# print sorted list\n",
    "new_sorted_list = sorted(new_list)\n",
    "\n",
    "# check original list\n",
    "print(new_list)\n",
    "\n",
    "# check sorted list\n",
    "print(new_sorted_list)\n"
   ]
  },
  {
   "cell_type": "markdown",
   "metadata": {
    "id": "wSNbQSPFSHqf"
   },
   "source": [
    "##### Erase List Content"
   ]
  },
  {
   "cell_type": "code",
   "execution_count": null,
   "metadata": {
    "id": "L8GoGOPZSKst"
   },
   "outputs": [],
   "source": [
    "# define list\n",
    "new_list = [4, 2, 6, 5, 0, 1] \n",
    "\n",
    "# check unsorted list\n",
    "print(new_list)\n",
    "\n",
    "# clear list\n",
    "new_list.clear()\n",
    "\n",
    "# check cleared list\n",
    "print(new_list)"
   ]
  },
  {
   "cell_type": "markdown",
   "metadata": {
    "id": "DwzlGWDB7xPV"
   },
   "source": [
    "# Tuples\n",
    "\n",
    "- tuples are ordered sequences of objects\n",
    "  - they are immutable\n",
    "  - i.e. their content cannot be changed after creation"
   ]
  },
  {
   "cell_type": "markdown",
   "metadata": {
    "id": "bMK65s68JhFw"
   },
   "source": [
    "##### Define a Tuple\n",
    "\n"
   ]
  },
  {
   "cell_type": "code",
   "execution_count": null,
   "metadata": {
    "id": "-Q17E-wFMGGk"
   },
   "outputs": [],
   "source": [
    "# create a new tuple - without specifying brackets\n",
    "new_tuple_one = 1,2,3,4\n",
    "\n",
    "# print tuple\n",
    "print(new_tuple_one)\n",
    "\n",
    "#--------------------------------------------------------\n",
    "# create a new tuple - with brackets\n",
    "new_tuple_two = (5,6,\"python\",8)\n",
    "\n",
    "# print tuple\n",
    "print(new_tuple_two)\n",
    "\n",
    "#--------------------------------------------------------\n",
    "# create empty tuple\n",
    "empty_tuple = ()\n",
    "\n",
    "# check empty tuple\n",
    "print(empty_tuple)\n",
    "\n",
    "#--------------------------------------------------------\n",
    "# create tuple using Constructor\n",
    "new_tuple_three = tuple((\"apple\",\"banana\",\"cherry\"))\n",
    "\n",
    "# check empty tuple\n",
    "print(new_tuple_three)\n",
    "\n",
    "#--------------------------------------------------------\n",
    "# single element tuples \n",
    "new_tuple_wrong = (\"apple\") # wrong single element tuple\n",
    "print(type(new_tuple_wrong))  # outputs string\n",
    "print(new_tuple_wrong)\n",
    "\n",
    "new_tuple_right = (\"apple\",) # correct single element tuple\n",
    "print(type(new_tuple_right)) # outputs tuple\n",
    "print(new_tuple_right) \n"
   ]
  },
  {
   "cell_type": "markdown",
   "metadata": {
    "id": "50KfTP7HNOmn"
   },
   "source": [
    "##### Indexing in Tuples\n",
    "\n",
    "- indexing in tuples works just like strings "
   ]
  },
  {
   "cell_type": "code",
   "execution_count": null,
   "metadata": {
    "id": "fB9lCbuLM1YA"
   },
   "outputs": [],
   "source": [
    "# define a new tuple\n",
    "new_tuple = \"apple\",\"orange\",\"banana\",\"berry\",\"mango\"\n",
    "\n",
    "print(new_tuple[0]) # zeroth element\n",
    "print(new_tuple[1]) # first element\n",
    "print(new_tuple[2]) # second element\n",
    "print(new_tuple[3]) # third element\n",
    "print(new_tuple[4]) # fourth element\n",
    "\n",
    "print(new_tuple[-1]) #last element\n",
    "print(new_tuple[-2]) #last but one element\n",
    "print(new_tuple[-3]) #last but two element\n",
    "print(new_tuple[-4]) #last but three element\n",
    "\n",
    "print(new_tuple[5]) # throws error - no fifth element"
   ]
  },
  {
   "cell_type": "markdown",
   "metadata": {
    "id": "z5h8mVD0OzyY"
   },
   "source": [
    "##### Tuple Immutability Test"
   ]
  },
  {
   "cell_type": "code",
   "execution_count": null,
   "metadata": {
    "colab": {
     "base_uri": "https://localhost:8080/",
     "height": 200
    },
    "executionInfo": {
     "elapsed": 4,
     "status": "error",
     "timestamp": 1680666396888,
     "user": {
      "displayName": "Jitendra Rathod",
      "userId": "08588782662248261812"
     },
     "user_tz": -330
    },
    "id": "OaLGsYMAO_mD",
    "outputId": "868e6991-e717-46ba-9b38-bd813048a609"
   },
   "outputs": [
    {
     "ename": "TypeError",
     "evalue": "ignored",
     "output_type": "error",
     "traceback": [
      "\u001b[0;31m---------------------------------------------------------------------------\u001b[0m",
      "\u001b[0;31mTypeError\u001b[0m                                 Traceback (most recent call last)",
      "\u001b[0;32m<ipython-input-1-7ce2cda4711f>\u001b[0m in \u001b[0;36m<cell line: 5>\u001b[0;34m()\u001b[0m\n\u001b[1;32m      3\u001b[0m \u001b[0;34m\u001b[0m\u001b[0m\n\u001b[1;32m      4\u001b[0m \u001b[0;31m# try changing tuple content\u001b[0m\u001b[0;34m\u001b[0m\u001b[0;34m\u001b[0m\u001b[0m\n\u001b[0;32m----> 5\u001b[0;31m \u001b[0mnew_tuple\u001b[0m\u001b[0;34m[\u001b[0m\u001b[0;36m4\u001b[0m\u001b[0;34m]\u001b[0m \u001b[0;34m=\u001b[0m \u001b[0;34m'Spring'\u001b[0m \u001b[0;31m# throws error\u001b[0m\u001b[0;34m\u001b[0m\u001b[0;34m\u001b[0m\u001b[0m\n\u001b[0m",
      "\u001b[0;31mTypeError\u001b[0m: 'tuple' object does not support item assignment"
     ]
    }
   ],
   "source": [
    "# define tuple\n",
    "new_tuple = (1,7,'$', 'Summers', 'Winters' )\n",
    "\n",
    "# try changing tuple content\n",
    "new_tuple[4] = 'Spring' # throws error"
   ]
  },
  {
   "cell_type": "markdown",
   "metadata": {
    "id": "3X2-j5UVX-fg"
   },
   "source": [
    "# Concatenation of Tuples\n",
    "\n",
    "-  tuples are immutable, hence the data stored in a tuple cannot be edited \n",
    "- but it's definitely possible to merge two tuples to create a new tuple"
   ]
  },
  {
   "cell_type": "code",
   "execution_count": null,
   "metadata": {
    "colab": {
     "base_uri": "https://localhost:8080/"
    },
    "executionInfo": {
     "elapsed": 384,
     "status": "ok",
     "timestamp": 1680666552224,
     "user": {
      "displayName": "Jitendra Rathod",
      "userId": "08588782662248261812"
     },
     "user_tz": -330
    },
    "id": "rxsW_V1dX7zW",
    "outputId": "5ebb4bc2-c198-45b3-893b-ab75e4a4a52f"
   },
   "outputs": [
    {
     "name": "stdout",
     "output_type": "stream",
     "text": [
      "(9, 5, 6, 4, 2, 1)\n",
      "('a', 5, 7, 6, 3, 1)\n",
      "(9, 5, 6, 4, 2, 1, 'a', 5, 7, 6, 3, 1)\n"
     ]
    }
   ],
   "source": [
    "# define two new tuple\n",
    "new_tuple_one = 9,5,6,4,2,1\n",
    "new_tuple_two = 'a',5,7,6,3,1\n",
    "\n",
    "print(new_tuple_one)\n",
    "print(new_tuple_two)\n",
    "\n",
    "# add a new element\n",
    "merged_tuple = new_tuple_one + new_tuple_two\n",
    "\n",
    "# check merged tuple\n",
    "print(merged_tuple)"
   ]
  },
  {
   "cell_type": "markdown",
   "metadata": {
    "id": "8iEvjh9hZ0fn"
   },
   "source": [
    "### Multiplication (Duplication) of Tuples\n",
    "\n",
    "- duplicates the content of a tuple, the specified number of times"
   ]
  },
  {
   "cell_type": "code",
   "execution_count": null,
   "metadata": {
    "colab": {
     "base_uri": "https://localhost:8080/"
    },
    "executionInfo": {
     "elapsed": 412,
     "status": "ok",
     "timestamp": 1680666599538,
     "user": {
      "displayName": "Jitendra Rathod",
      "userId": "08588782662248261812"
     },
     "user_tz": -330
    },
    "id": "ty9eT1tpJhmo",
    "outputId": "49c4aedb-3d01-4e1c-c354-1ea04d5adb24"
   },
   "outputs": [
    {
     "name": "stdout",
     "output_type": "stream",
     "text": [
      "('a', 5, 7, 6, 3, 1)\n",
      "('a', 5, 7, 6, 3, 1, 'a', 5, 7, 6, 3, 1)\n",
      "('a', 5, 7, 6, 3, 1, 'a', 5, 7, 6, 3, 1, 'a', 5, 7, 6, 3, 1)\n"
     ]
    }
   ],
   "source": [
    "# define a tuple\n",
    "new_tuple = 'a',5,7,6,3,1\n",
    "\n",
    "print(new_tuple)\n",
    "\n",
    "# multiply and print result\n",
    "print(new_tuple*2)\n",
    "print(new_tuple*3)\n"
   ]
  },
  {
   "cell_type": "markdown",
   "metadata": {
    "id": "QIqKhP0KabCo"
   },
   "source": [
    "##### Length of a Tuple"
   ]
  },
  {
   "cell_type": "code",
   "execution_count": null,
   "metadata": {
    "colab": {
     "base_uri": "https://localhost:8080/"
    },
    "executionInfo": {
     "elapsed": 3,
     "status": "ok",
     "timestamp": 1680666698422,
     "user": {
      "displayName": "Jitendra Rathod",
      "userId": "08588782662248261812"
     },
     "user_tz": -330
    },
    "id": "goa_O7a3aXXz",
    "outputId": "eb9d702e-6d3c-4ef1-a831-c89b708ad994"
   },
   "outputs": [
    {
     "data": {
      "text/plain": [
       "6"
      ]
     },
     "execution_count": 4,
     "metadata": {},
     "output_type": "execute_result"
    }
   ],
   "source": [
    "# define a tuple\n",
    "new_tuple = 'a',5,7,6,3,1\n",
    "\n",
    "len(new_tuple)"
   ]
  },
  {
   "cell_type": "markdown",
   "metadata": {
    "id": "BrUqmXU1xP-y"
   },
   "source": [
    "##### Min & Max Values of a Tuple\n",
    "\n",
    "- min() returns the minimum value in the tuple\n",
    "- max() returns the maximum value in the tuple\n",
    "\n",
    "- both methods accept only homogeneous tuples \n",
    "  - i.e. tuples having elements of similar data type"
   ]
  },
  {
   "cell_type": "code",
   "execution_count": null,
   "metadata": {
    "id": "th4-eJWMxP-0"
   },
   "outputs": [],
   "source": [
    "# define tuple\n",
    "new_tuple = 8,12,7,10,52,33,21,99\n",
    "\n",
    "# check min and max of new_tuple\n",
    "print(min(new_tuple))\n",
    "print(max(new_tuple))\n",
    "\n",
    "# define list\n",
    "new_tuple = 'x','10','99','twenty','%$','--'\n",
    "\n",
    "# check min and max of new_list\n",
    "print(min(new_tuple))\n",
    "print(max(new_tuple))"
   ]
  },
  {
   "cell_type": "markdown",
   "metadata": {
    "id": "9VrT4pmea6Xd"
   },
   "source": [
    "##### Count of an Element in a Tuple"
   ]
  },
  {
   "cell_type": "code",
   "execution_count": null,
   "metadata": {
    "colab": {
     "base_uri": "https://localhost:8080/"
    },
    "executionInfo": {
     "elapsed": 396,
     "status": "ok",
     "timestamp": 1680666889833,
     "user": {
      "displayName": "Jitendra Rathod",
      "userId": "08588782662248261812"
     },
     "user_tz": -330
    },
    "id": "eNAfIi5ma9p7",
    "outputId": "ce864de8-c25e-4222-c3a5-f3cd044ff023"
   },
   "outputs": [
    {
     "name": "stdout",
     "output_type": "stream",
     "text": [
      "4\n"
     ]
    }
   ],
   "source": [
    "# define a tuple\n",
    "new_tuple = 5,3,6,3,1,3,2,3\n",
    "\n",
    "# count the number of 3s in the tuple\n",
    "print(new_tuple.count(3)) "
   ]
  },
  {
   "cell_type": "markdown",
   "metadata": {
    "id": "_gqiJWMEIeu2"
   },
   "source": [
    "##### Location of First Occurence\n",
    "\n"
   ]
  },
  {
   "cell_type": "code",
   "execution_count": null,
   "metadata": {
    "colab": {
     "base_uri": "https://localhost:8080/"
    },
    "executionInfo": {
     "elapsed": 412,
     "status": "ok",
     "timestamp": 1680666958459,
     "user": {
      "displayName": "Jitendra Rathod",
      "userId": "08588782662248261812"
     },
     "user_tz": -330
    },
    "id": "_LaKx68gIfLK",
    "outputId": "7795d762-23a6-496b-8957-cfcd6235c5ba"
   },
   "outputs": [
    {
     "name": "stdout",
     "output_type": "stream",
     "text": [
      "2\n"
     ]
    }
   ],
   "source": [
    "# define a tuple\n",
    "new_tuple = 5,6,3,1,3,2,3\n",
    "\n",
    "# find the index location of the first occurence of 3\n",
    "print(new_tuple.index(3)) "
   ]
  },
  {
   "cell_type": "markdown",
   "metadata": {
    "id": "hstXjV6OK4YN"
   },
   "source": [
    "##### Delete a Tuple\n",
    "\n",
    "- you cannot remove the elements in a tuple\n",
    "- but you can delete an entire tuple"
   ]
  },
  {
   "cell_type": "code",
   "execution_count": null,
   "metadata": {
    "colab": {
     "base_uri": "https://localhost:8080/",
     "height": 200
    },
    "executionInfo": {
     "elapsed": 4,
     "status": "error",
     "timestamp": 1680667051079,
     "user": {
      "displayName": "Jitendra Rathod",
      "userId": "08588782662248261812"
     },
     "user_tz": -330
    },
    "id": "xqQ7YFalK4Nx",
    "outputId": "4a154cc9-1c9d-4bc0-99cc-8e1e9b0c1d7d"
   },
   "outputs": [
    {
     "ename": "NameError",
     "evalue": "ignored",
     "output_type": "error",
     "traceback": [
      "\u001b[0;31m---------------------------------------------------------------------------\u001b[0m",
      "\u001b[0;31mNameError\u001b[0m                                 Traceback (most recent call last)",
      "\u001b[0;32m<ipython-input-8-a558178bdddc>\u001b[0m in \u001b[0;36m<cell line: 11>\u001b[0;34m()\u001b[0m\n\u001b[1;32m      9\u001b[0m \u001b[0;34m\u001b[0m\u001b[0m\n\u001b[1;32m     10\u001b[0m \u001b[0;31m# check deletion\u001b[0m\u001b[0;34m\u001b[0m\u001b[0;34m\u001b[0m\u001b[0m\n\u001b[0;32m---> 11\u001b[0;31m \u001b[0mprint\u001b[0m\u001b[0;34m(\u001b[0m\u001b[0mnew_tuple\u001b[0m\u001b[0;34m)\u001b[0m \u001b[0;31m# will throw an error becasue tuple doesnt exists\u001b[0m\u001b[0;34m\u001b[0m\u001b[0;34m\u001b[0m\u001b[0m\n\u001b[0m",
      "\u001b[0;31mNameError\u001b[0m: name 'new_tuple' is not defined"
     ]
    }
   ],
   "source": [
    "# define a tuple\n",
    "new_tuple = 5,3,6,3,1,3,2,3\n",
    "\n",
    "# check tuple\n",
    "print(new_tuple)\n",
    "\n",
    "# delete the tuple\n",
    "del(new_tuple)\n",
    "\n",
    "# check deletion\n",
    "print(new_tuple) # will throw an error becasue tuple doesnt exists"
   ]
  },
  {
   "cell_type": "code",
   "execution_count": null,
   "metadata": {
    "id": "GKgujqEgj8xS"
   },
   "outputs": [],
   "source": []
  }
 ],
 "metadata": {
  "colab": {
   "authorship_tag": "ABX9TyPH0TJzsgSme4QO/RoM5SXP",
   "provenance": []
  },
  "kernelspec": {
   "display_name": "Python 3 (ipykernel)",
   "language": "python",
   "name": "python3"
  },
  "language_info": {
   "codemirror_mode": {
    "name": "ipython",
    "version": 3
   },
   "file_extension": ".py",
   "mimetype": "text/x-python",
   "name": "python",
   "nbconvert_exporter": "python",
   "pygments_lexer": "ipython3",
   "version": "3.10.9"
  }
 },
 "nbformat": 4,
 "nbformat_minor": 4
}
