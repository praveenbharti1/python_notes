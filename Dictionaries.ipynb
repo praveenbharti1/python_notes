{
 "cells": [
  {
   "cell_type": "markdown",
   "metadata": {
    "id": "q0IXoYJMRznQ"
   },
   "source": [
    "# Dictionaries \n",
    "\n",
    "- a dictionary is a collection which is:\n",
    "  - unordered, \n",
    "  - changeable and \n",
    "  - indexed\n",
    "  \n",
    "- in Python dictionaries are written with curly brackets \n",
    "  - inside, they have *keys-value* pairs"
   ]
  },
  {
   "cell_type": "code",
   "execution_count": 1,
   "metadata": {
    "colab": {
     "base_uri": "https://localhost:8080/"
    },
    "executionInfo": {
     "elapsed": 8,
     "status": "ok",
     "timestamp": 1681279599243,
     "user": {
      "displayName": "Jitendra Rathod",
      "userId": "08588782662248261812"
     },
     "user_tz": -330
    },
    "id": "Pb1hoM5HRs3M",
    "outputId": "fe94d273-840e-48c1-d074-313cea00e1dc",
    "tags": []
   },
   "outputs": [
    {
     "name": "stdout",
     "output_type": "stream",
     "text": [
      "{'brand': 'Ford', 'model': 'Mustang', 'year': 1964}\n"
     ]
    }
   ],
   "source": [
    "# create dictionary \n",
    "car_info_dict = {\n",
    "  \"brand\": \"Ford\", # key-value pair #1\n",
    "  \"model\": \"Mustang\", # key-value pair #2\n",
    "  \"year\": 1964 # key-value pair #3\n",
    "}\n",
    "\n",
    "# print dictionary\n",
    "print(car_info_dict)"
   ]
  },
  {
   "cell_type": "code",
   "execution_count": 2,
   "metadata": {
    "colab": {
     "base_uri": "https://localhost:8080/"
    },
    "executionInfo": {
     "elapsed": 4,
     "status": "ok",
     "timestamp": 1681279599243,
     "user": {
      "displayName": "Jitendra Rathod",
      "userId": "08588782662248261812"
     },
     "user_tz": -330
    },
    "id": "g8-EOgMKXMae",
    "outputId": "65fac405-f48f-4503-eb92-3450b0cd519c",
    "tags": []
   },
   "outputs": [
    {
     "data": {
      "text/plain": [
       "dict"
      ]
     },
     "execution_count": 2,
     "metadata": {},
     "output_type": "execute_result"
    }
   ],
   "source": [
    "# check type\n",
    "type(car_info_dict)"
   ]
  },
  {
   "cell_type": "markdown",
   "metadata": {
    "id": "SoMiLQ5YaCPa"
   },
   "source": [
    "### \"`dict()`\" Constructor"
   ]
  },
  {
   "cell_type": "code",
   "execution_count": 3,
   "metadata": {
    "colab": {
     "base_uri": "https://localhost:8080/"
    },
    "executionInfo": {
     "elapsed": 1987,
     "status": "ok",
     "timestamp": 1681280262195,
     "user": {
      "displayName": "Jitendra Rathod",
      "userId": "08588782662248261812"
     },
     "user_tz": -330
    },
    "id": "hKNiyOo62_Vm",
    "outputId": "b16ce43b-3e02-4dad-c85b-e929cbc4c24d",
    "tags": []
   },
   "outputs": [
    {
     "name": "stdout",
     "output_type": "stream",
     "text": [
      "{'brand': 'Tesla', 'model': 'Model 3', 'year': '2017'}\n"
     ]
    }
   ],
   "source": [
    "# use a `dict()` constructor \n",
    "car_model_info = dict(brand=\"Tesla\", model=\"Model 3\", year=\"2017\")\n",
    "\n",
    "# print the dictionary \n",
    "print(car_model_info)"
   ]
  },
  {
   "cell_type": "markdown",
   "metadata": {
    "id": "lanHggysXYhf"
   },
   "source": [
    "### Accessing Values\n",
    "\n",
    "- access the *values* of a dictionary by referring to its *key* name inside square brackets:\n"
   ]
  },
  {
   "cell_type": "code",
   "execution_count": 4,
   "metadata": {
    "colab": {
     "base_uri": "https://localhost:8080/"
    },
    "executionInfo": {
     "elapsed": 885,
     "status": "ok",
     "timestamp": 1681280363220,
     "user": {
      "displayName": "Jitendra Rathod",
      "userId": "08588782662248261812"
     },
     "user_tz": -330
    },
    "id": "yecwE8tnaqnt",
    "outputId": "02cd6dc0-4830-4266-ce6c-32b8509174b6",
    "tags": []
   },
   "outputs": [
    {
     "name": "stdout",
     "output_type": "stream",
     "text": [
      "1964\n"
     ]
    }
   ],
   "source": [
    "# get the value of the \"model\" key\n",
    "model_value = car_info_dict[\"year\"]\n",
    "\n",
    "# print the value\n",
    "print(model_value)\n"
   ]
  },
  {
   "cell_type": "markdown",
   "metadata": {
    "id": "K-sz90kJf72X"
   },
   "source": [
    "##### \"`.get()`\" to get values \n"
   ]
  },
  {
   "cell_type": "code",
   "execution_count": 5,
   "metadata": {
    "id": "45TunwVDgWr6",
    "tags": []
   },
   "outputs": [
    {
     "name": "stdout",
     "output_type": "stream",
     "text": [
      "Mustang\n"
     ]
    }
   ],
   "source": [
    "# get the value of the \"model\" key using `.get()`\n",
    "model_value = car_info_dict.get(\"model\")\n",
    "\n",
    "# print the value\n",
    "print(model_value)\n"
   ]
  },
  {
   "cell_type": "markdown",
   "metadata": {
    "id": "EYMzXaGpY0qU"
   },
   "source": [
    "### Change Values"
   ]
  },
  {
   "cell_type": "code",
   "execution_count": 2,
   "metadata": {
    "colab": {
     "base_uri": "https://localhost:8080/"
    },
    "executionInfo": {
     "elapsed": 370,
     "status": "ok",
     "timestamp": 1681280601000,
     "user": {
      "displayName": "Jitendra Rathod",
      "userId": "08588782662248261812"
     },
     "user_tz": -330
    },
    "id": "R3xuI0r7g4zD",
    "outputId": "2df46bab-4189-4448-8ae0-b3e37c268d94"
   },
   "outputs": [
    {
     "name": "stdout",
     "output_type": "stream",
     "text": [
      "{'brand': 'Ford', 'model': 'Mustang', 'year': 1964}\n",
      "{'brand': 'Ford', 'model': 'Mustang', 'year': 2018}\n"
     ]
    }
   ],
   "source": [
    "# create dictionary \n",
    "car_info_dict = {\n",
    "  \"brand\": \"Ford\", # key-value pair #1\n",
    "  \"model\": \"Mustang\", # key-value pair #2\n",
    "  \"year\": 1964 # key-value pair #3\n",
    "}\n",
    "\n",
    "# check the dictionary \n",
    "print(car_info_dict)\n",
    "\n",
    "# change the value for year  \n",
    "car_info_dict[\"year\"] = 2018 \n",
    "\n",
    "# check the dictionary \n",
    "print(car_info_dict)\n"
   ]
  },
  {
   "cell_type": "markdown",
   "metadata": {
    "id": "HCEk9_tsY3rL"
   },
   "source": [
    "### Loop Through a Dictionary \n",
    "\n",
    "- loop through a dictionary by using a \"`for`\" loop\n"
   ]
  },
  {
   "cell_type": "markdown",
   "metadata": {
    "id": "roNFNgEHj2X5"
   },
   "source": [
    "##### Print all *key* names in the dictionary, one by one"
   ]
  },
  {
   "cell_type": "code",
   "execution_count": 3,
   "metadata": {
    "colab": {
     "base_uri": "https://localhost:8080/"
    },
    "executionInfo": {
     "elapsed": 1130,
     "status": "ok",
     "timestamp": 1681280754444,
     "user": {
      "displayName": "Jitendra Rathod",
      "userId": "08588782662248261812"
     },
     "user_tz": -330
    },
    "id": "njVtOqf2j6sT",
    "outputId": "d31c26e2-d3e3-469c-f965-9ce94f2fa4d2"
   },
   "outputs": [
    {
     "name": "stdout",
     "output_type": "stream",
     "text": [
      "brand\n",
      "model\n",
      "year\n"
     ]
    }
   ],
   "source": [
    "# print only the keys of the dictionary\n",
    "for entry in car_info_dict:\n",
    "    print(entry)"
   ]
  },
  {
   "cell_type": "markdown",
   "metadata": {
    "id": "yppHsrEAkZPN"
   },
   "source": [
    "##### Print all *values* in the dictionary, one by one"
   ]
  },
  {
   "cell_type": "code",
   "execution_count": 4,
   "metadata": {
    "colab": {
     "base_uri": "https://localhost:8080/"
    },
    "executionInfo": {
     "elapsed": 403,
     "status": "ok",
     "timestamp": 1681280941431,
     "user": {
      "displayName": "Jitendra Rathod",
      "userId": "08588782662248261812"
     },
     "user_tz": -330
    },
    "id": "NogB3nsqkdWd",
    "outputId": "cc451629-6a48-4600-e1d4-c37f0255a07f"
   },
   "outputs": [
    {
     "name": "stdout",
     "output_type": "stream",
     "text": [
      "Ford\n",
      "Mustang\n",
      "2018\n"
     ]
    }
   ],
   "source": [
    "# print only the values of the keys of the dictionary\n",
    "for entry in car_info_dict:\n",
    "    print(car_info_dict[entry])"
   ]
  },
  {
   "cell_type": "markdown",
   "metadata": {
    "id": "x5hmQDPNlKk9"
   },
   "source": [
    "##### Use the \"`.values()`\" method to return values of a dictionary"
   ]
  },
  {
   "cell_type": "code",
   "execution_count": 5,
   "metadata": {
    "colab": {
     "base_uri": "https://localhost:8080/"
    },
    "executionInfo": {
     "elapsed": 438,
     "status": "ok",
     "timestamp": 1681280935484,
     "user": {
      "displayName": "Jitendra Rathod",
      "userId": "08588782662248261812"
     },
     "user_tz": -330
    },
    "id": "3cR64lZjlVlo",
    "outputId": "f67cc950-c146-4eb5-d04b-6042df4e83ee"
   },
   "outputs": [
    {
     "name": "stdout",
     "output_type": "stream",
     "text": [
      "Ford\n",
      "Mustang\n",
      "2018\n"
     ]
    }
   ],
   "source": [
    "for entry in car_info_dict.values():\n",
    "    print(entry)"
   ]
  },
  {
   "cell_type": "markdown",
   "metadata": {
    "id": "ShBsVYKOl2oZ"
   },
   "source": [
    "##### Loop through both *keys* and *values*, by using the \"`.items()`\" method:"
   ]
  },
  {
   "cell_type": "code",
   "execution_count": 6,
   "metadata": {
    "colab": {
     "base_uri": "https://localhost:8080/"
    },
    "executionInfo": {
     "elapsed": 389,
     "status": "ok",
     "timestamp": 1681281029904,
     "user": {
      "displayName": "Jitendra Rathod",
      "userId": "08588782662248261812"
     },
     "user_tz": -330
    },
    "id": "ErizKq4ql-BC",
    "outputId": "fd6e8579-38da-4991-a674-604ff58b99c9"
   },
   "outputs": [
    {
     "name": "stdout",
     "output_type": "stream",
     "text": [
      "brand Ford\n",
      "model Mustang\n",
      "year 2018\n"
     ]
    }
   ],
   "source": [
    "for key,value in car_info_dict.items():\n",
    "    print(key,value)"
   ]
  },
  {
   "cell_type": "markdown",
   "metadata": {
    "id": "rrrczDsuZbcz"
   },
   "source": [
    "### Check if Key Exists \n",
    "\n",
    "- to determine if a specified key is present in a dictionary use the \"`in`\" keyword"
   ]
  },
  {
   "cell_type": "code",
   "execution_count": null,
   "metadata": {
    "colab": {
     "base_uri": "https://localhost:8080/"
    },
    "executionInfo": {
     "elapsed": 1022,
     "status": "ok",
     "timestamp": 1681281231648,
     "user": {
      "displayName": "Jitendra Rathod",
      "userId": "08588782662248261812"
     },
     "user_tz": -330
    },
    "id": "fpcuvxqwm2VS",
    "outputId": "7272288d-fe25-42cf-ed3e-91eb58b07744"
   },
   "outputs": [
    {
     "name": "stdout",
     "output_type": "stream",
     "text": [
      "Brand info is available.\n"
     ]
    }
   ],
   "source": [
    "# create dictionary \n",
    "car_info_dict = {\n",
    "  \"brand\": \"Ford\", # key-value pair #1\n",
    "  \"model\": \"Mustang\", # key-value pair #2\n",
    "  \"year\": 1964 # key-value pair #3\n",
    "}\n",
    "\n",
    "# check if brand key exists\n",
    "if \"brand\" in car_info_dict:\n",
    "  print(\"Brand info is available.\")\n"
   ]
  },
  {
   "cell_type": "markdown",
   "metadata": {
    "id": "2k6RWFKNZnDy"
   },
   "source": [
    "### Dictionary Length\n",
    "\n",
    "- to determine how many items (key-value pairs) a dictionary has, use the \"`len()`\" function"
   ]
  },
  {
   "cell_type": "code",
   "execution_count": null,
   "metadata": {
    "id": "9Jzj1HAUoH9n"
   },
   "outputs": [],
   "source": [
    "# create dictionary \n",
    "car_info_dict = {\n",
    "  \"brand\": \"Ford\", # key-value pair #1\n",
    "  \"model\": \"Mustang\", # key-value pair #2\n",
    "  \"year\": 1964 # key-value pair #3\n",
    "}\n",
    "\n",
    "# get length of the dictionary\n",
    "print(len(car_info_dict))"
   ]
  },
  {
   "cell_type": "markdown",
   "metadata": {
    "id": "U4tYXp4eZqjM"
   },
   "source": [
    "### Adding Items \n",
    "\n",
    "- adding an item to the dictionary is done by using a new index key and assigning a value to it"
   ]
  },
  {
   "cell_type": "code",
   "execution_count": null,
   "metadata": {
    "colab": {
     "base_uri": "https://localhost:8080/"
    },
    "executionInfo": {
     "elapsed": 501,
     "status": "ok",
     "timestamp": 1681281423132,
     "user": {
      "displayName": "Jitendra Rathod",
      "userId": "08588782662248261812"
     },
     "user_tz": -330
    },
    "id": "XbZy4WOCodDg",
    "outputId": "b4900ed0-ad3a-41bb-b8ea-5d6d37c9a572"
   },
   "outputs": [
    {
     "name": "stdout",
     "output_type": "stream",
     "text": [
      "{'brand': 'Ford', 'model': 'Mustang', 'year': 1964}\n",
      "{'brand': 'Ford', 'model': 'Mustang', 'year': 1964, 'color': 'green'}\n"
     ]
    }
   ],
   "source": [
    "# create dictionary \n",
    "car_info_dict = {\n",
    "  \"brand\": \"Ford\", # key-value pair #1\n",
    "  \"model\": \"Mustang\", # key-value pair #2\n",
    "  \"year\": 1964 # key-value pair #3\n",
    "}\n",
    "\n",
    "# check the dictionary\n",
    "print(car_info_dict)\n",
    "\n",
    "# add color entry into car_info_dict dictionary\n",
    "car_info_dict[\"color\"] = \"green\"\n",
    "\n",
    "# check the updated dictionary\n",
    "print(car_info_dict)"
   ]
  },
  {
   "cell_type": "markdown",
   "metadata": {
    "id": "EJWNOaTvZvQe"
   },
   "source": [
    "### Removing Items \n",
    "\n",
    "- there are several methods to remove items from a dictionary\n",
    " "
   ]
  },
  {
   "cell_type": "markdown",
   "metadata": {
    "id": "s7qjpgCk6JSc"
   },
   "source": [
    "  #####  \"`.pop()`\" method"
   ]
  },
  {
   "cell_type": "code",
   "execution_count": null,
   "metadata": {
    "colab": {
     "base_uri": "https://localhost:8080/"
    },
    "executionInfo": {
     "elapsed": 1398,
     "status": "ok",
     "timestamp": 1681281568277,
     "user": {
      "displayName": "Jitendra Rathod",
      "userId": "08588782662248261812"
     },
     "user_tz": -330
    },
    "id": "1yM296HB4KUW",
    "outputId": "bf3ff4f6-da10-4daf-9c1b-69dca5fb4cfd"
   },
   "outputs": [
    {
     "name": "stdout",
     "output_type": "stream",
     "text": [
      "{'brand': 'Tesla', 'model': 'Model 3', 'year': '2017'}\n",
      "{'brand': 'Tesla', 'year': '2017'}\n"
     ]
    }
   ],
   "source": [
    "# initialize dictionary \n",
    "car_model_info = {\n",
    "                  \"brand\":\"Tesla\",\n",
    "                  \"model\":\"Model 3\", \n",
    "                  \"year\":\"2017\"\n",
    "                  }\n",
    "\n",
    "# print car model dictionary\n",
    "print(car_model_info)\n",
    "\n",
    "# remove item with specified key name\n",
    "car_model_info.pop(\"model\")\n",
    "\n",
    "# print car model dictionary after pop\n",
    "print(car_model_info)"
   ]
  },
  {
   "cell_type": "markdown",
   "metadata": {
    "id": "HNPuHIDT9hTa"
   },
   "source": [
    "##### \"`.popitem()`\" method\n",
    "\n",
    "- removes the last inserted item \n",
    "  - in versions before Python 3.7, a random item is removed instead"
   ]
  },
  {
   "cell_type": "code",
   "execution_count": null,
   "metadata": {
    "colab": {
     "base_uri": "https://localhost:8080/"
    },
    "executionInfo": {
     "elapsed": 1045,
     "status": "ok",
     "timestamp": 1681281660704,
     "user": {
      "displayName": "Jitendra Rathod",
      "userId": "08588782662248261812"
     },
     "user_tz": -330
    },
    "id": "DjSQ-CZ042hA",
    "outputId": "8e62e5b7-5bf6-4163-f483-242c49550e22"
   },
   "outputs": [
    {
     "name": "stdout",
     "output_type": "stream",
     "text": [
      "{'brand': 'Tesla', 'model': 'Model 3', 'year': '2017'}\n",
      "{'brand': 'Tesla', 'model': 'Model 3'}\n"
     ]
    }
   ],
   "source": [
    "# initialize dictionary \n",
    "car_model_info = {\n",
    "                  \"brand\":\"Tesla\",\n",
    "                  \"model\":\"Model 3\", \n",
    "                  \"year\":\"2017\"\n",
    "                  }\n",
    "\n",
    "# print car model dictionary\n",
    "print(car_model_info)\n",
    "\n",
    "# remove dictionary last added entry with popitem()\n",
    "car_model_info.popitem()\n",
    "\n",
    "# print car model dictionary after removing last added item\n",
    "print(car_model_info)"
   ]
  },
  {
   "cell_type": "markdown",
   "metadata": {
    "id": "mnbAMpTW91RB"
   },
   "source": [
    "##### \"`del`\" method\n",
    "\n",
    "- removes the item with the specified key name"
   ]
  },
  {
   "cell_type": "code",
   "execution_count": null,
   "metadata": {
    "id": "A6nBfa5095mW"
   },
   "outputs": [],
   "source": [
    "# initialize dictionary \n",
    "car_model_info = {\n",
    "                  \"brand\":\"Tesla\",\n",
    "                  \"model\":\"Model 3\", \n",
    "                  \"year\":\"2017\"\n",
    "                  }\n",
    "\n",
    "# print car model dictionary\n",
    "print(car_model_info)\n",
    "\n",
    "# remove entry with specified key name using del command\n",
    "del car_model_info[\"model\"]\n",
    "\n",
    "# print car model dictionary after del command\n",
    "print(car_model_info)"
   ]
  },
  {
   "cell_type": "markdown",
   "metadata": {
    "id": "gNx_SKr_Z1u1"
   },
   "source": [
    "### Copy a Dictionary \n",
    "\n",
    "- you cannot copy a dictionary simply by typing `dict2 = dict1`, because:\n",
    "  - `dict2` will only be a reference to `dict1`\n",
    "  - this way, changes made in `dict1` will automatically also be made in `dict2`"
   ]
  },
  {
   "cell_type": "markdown",
   "metadata": {
    "id": "wCsvPyjk_08W"
   },
   "source": [
    "- there are ways to make copy of a dictionary"
   ]
  },
  {
   "cell_type": "markdown",
   "metadata": {
    "id": "-qskA5YM_54j"
   },
   "source": [
    "##### \"`.copy()`\" method:"
   ]
  },
  {
   "cell_type": "code",
   "execution_count": null,
   "metadata": {
    "id": "qYvro6LB4Jt2"
   },
   "outputs": [],
   "source": [
    "# initialize dictionary \n",
    "car_model_info = {\n",
    "                  \"brand\":\"Tesla\",\n",
    "                  \"model\":\"Model 3\", \n",
    "                  \"year\":\"2017\"\n",
    "                  }\n",
    "\n",
    "# print car model dictionary\n",
    "print(car_model_info)\n",
    "\n",
    "# copy car model info into a new dictionary using .copy()\n",
    "new_car_model_info = car_model_info.copy()\n",
    "\n",
    "# print new car model dictionary after copy\n",
    "print(new_car_model_info)"
   ]
  },
  {
   "cell_type": "markdown",
   "metadata": {
    "id": "Nu-JXqEaC7Dx"
   },
   "source": [
    "##### \"`dict()`\" constructor method:"
   ]
  },
  {
   "cell_type": "code",
   "execution_count": null,
   "metadata": {
    "id": "16gvTRFnDlvw"
   },
   "outputs": [],
   "source": [
    "# initialize dictionary \n",
    "car_model_info = {\n",
    "                  \"brand\":\"Tesla\",\n",
    "                  \"model\":\"Model 3\", \n",
    "                  \"year\":\"2017\"\n",
    "                  }\n",
    "\n",
    "# print car model dictionary\n",
    "print(car_model_info)\n",
    "\n",
    "# copy car model info into a new dictionary using dict()\n",
    "new_car_model_info = dict(car_model_info)\n",
    "\n",
    "# print new car model dictionary after copy\n",
    "print(new_car_model_info)"
   ]
  },
  {
   "cell_type": "markdown",
   "metadata": {
    "id": "WYxCypADZ5fa"
   },
   "source": [
    "### Nested Dictionaries\n",
    "\n",
    "- a dictionary can also contain many dictionaries, this is called nested dictionaries"
   ]
  },
  {
   "cell_type": "code",
   "execution_count": null,
   "metadata": {
    "id": "BOwtJ0ARpEcn"
   },
   "outputs": [],
   "source": [
    "# create a nested dictionary \n",
    "family = {\n",
    "  \"child1\" : {\n",
    "    \"name\" : \"Emil\",\n",
    "    \"year\" : 2004\n",
    "  },\n",
    "  \"child2\" : {\n",
    "    \"name\" : \"Tobias\",\n",
    "    \"year\" : 2007\n",
    "  },\n",
    "  \"child3\" : {\n",
    "    \"name\" : \"Linus\",\n",
    "    \"year\" : 2011\n",
    "  }\n",
    "}\n",
    "\n",
    "# print the family dictionary\n",
    "print(family)"
   ]
  },
  {
   "cell_type": "markdown",
   "metadata": {
    "id": "_nYVPj7txDOG"
   },
   "source": [
    "- another way is to create three dictionaries separately\n",
    "- then create one dictionary that will contain the other three dictionaries"
   ]
  },
  {
   "cell_type": "code",
   "execution_count": null,
   "metadata": {
    "id": "Hmq2E4f7xDnv"
   },
   "outputs": [],
   "source": [
    "# create three separate dictionaries \n",
    "child1 = {\n",
    "  \"name\" : \"Emil\",\n",
    "  \"year\" : 2004\n",
    "}\n",
    "child2 = {\n",
    "  \"name\" : \"Tobias\",\n",
    "  \"year\" : 2007\n",
    "}\n",
    "child3 = {\n",
    "  \"name\" : \"Linus\",\n",
    "  \"year\" : 2011\n",
    "}\n",
    "\n",
    "# create parent dicitonary \n",
    "family = {\n",
    "  \"child1\" : child1,\n",
    "  \"child2\" : child2,\n",
    "  \"child3\" : child3\n",
    "}\n",
    "\n",
    "# print the parent dicitonary \n",
    "print(family)"
   ]
  }
 ],
 "metadata": {
  "colab": {
   "provenance": []
  },
  "kernelspec": {
   "display_name": "Python 3 (ipykernel)",
   "language": "python",
   "name": "python3"
  },
  "language_info": {
   "codemirror_mode": {
    "name": "ipython",
    "version": 3
   },
   "file_extension": ".py",
   "mimetype": "text/x-python",
   "name": "python",
   "nbconvert_exporter": "python",
   "pygments_lexer": "ipython3",
   "version": "3.10.9"
  }
 },
 "nbformat": 4,
 "nbformat_minor": 4
}
