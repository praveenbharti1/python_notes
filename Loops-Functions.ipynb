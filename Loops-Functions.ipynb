{
 "cells": [
  {
   "cell_type": "markdown",
   "metadata": {
    "id": "88031484"
   },
   "source": [
    "# Indentation"
   ]
  },
  {
   "cell_type": "markdown",
   "metadata": {
    "id": "24395cc4"
   },
   "source": [
    "* Indentation refers to the spaces at the beginning of a \n",
    "code line. It is very important as Python uses indentation\n",
    "to indicate a block of code.If the indentation is not \n",
    "correct we will endup with IndentationError error."
   ]
  },
  {
   "cell_type": "code",
   "execution_count": null,
   "metadata": {
    "colab": {
     "base_uri": "https://localhost:8080/"
    },
    "executionInfo": {
     "elapsed": 453,
     "status": "ok",
     "timestamp": 1680667476516,
     "user": {
      "displayName": "Jitendra Rathod",
      "userId": "08588782662248261812"
     },
     "user_tz": -330
    },
    "id": "e56b8e0a",
    "outputId": "a2f4eb41-49ef-435c-c386-4998d0b39fff"
   },
   "outputs": [
    {
     "name": "stdout",
     "output_type": "stream",
     "text": [
      "This is indentation\n"
     ]
    }
   ],
   "source": [
    "# if indentation is skipped we will encounter \n",
    "#\"IndentationError: expected an indented block\n",
    "p=3\n",
    "if p==3:\n",
    "   print('This is indentation')\n",
    "    \n"
   ]
  },
  {
   "cell_type": "markdown",
   "metadata": {
    "id": "a130bd3a"
   },
   "source": [
    "# Docstrings"
   ]
  },
  {
   "cell_type": "markdown",
   "metadata": {
    "id": "39dde5a3"
   },
   "source": [
    "\n",
    "1)\tDocstrings provide a convenient way of associating documentation with functions, \n",
    "classes, methods or modules.\n",
    "\n",
    "2)\tThey appear right after the definition of a function, method, class, or module.\n"
   ]
  },
  {
   "cell_type": "code",
   "execution_count": null,
   "metadata": {
    "id": "be7d1c17"
   },
   "outputs": [],
   "source": [
    "def  square(num):\n",
    "    '''Square Function :- This function will return the square of a number'''\n",
    "    return num**2\n",
    "    "
   ]
  },
  {
   "cell_type": "code",
   "execution_count": null,
   "metadata": {
    "colab": {
     "base_uri": "https://localhost:8080/"
    },
    "executionInfo": {
     "elapsed": 3,
     "status": "ok",
     "timestamp": 1680667798708,
     "user": {
      "displayName": "Jitendra Rathod",
      "userId": "08588782662248261812"
     },
     "user_tz": -330
    },
    "id": "d11dddca",
    "outputId": "cfa40821-cc8c-4185-f037-47a112a7bd56"
   },
   "outputs": [
    {
     "name": "stdout",
     "output_type": "stream",
     "text": [
      "Square Function :- This function will return the square of a number\n"
     ]
    }
   ],
   "source": [
    "print(square.__doc__) # We can access the Docstring using doc method"
   ]
  },
  {
   "cell_type": "code",
   "execution_count": null,
   "metadata": {
    "colab": {
     "base_uri": "https://localhost:8080/"
    },
    "executionInfo": {
     "elapsed": 771,
     "status": "ok",
     "timestamp": 1680667816556,
     "user": {
      "displayName": "Jitendra Rathod",
      "userId": "08588782662248261812"
     },
     "user_tz": -330
    },
    "id": "9310d505",
    "outputId": "4ca50ea2-d8c0-46f3-f7b3-5fd21f8a1c22"
   },
   "outputs": [
    {
     "name": "stdout",
     "output_type": "stream",
     "text": [
      "Help on function square in module __main__:\n",
      "\n",
      "square(num)\n",
      "    Square Function :- This function will return the square of a number\n",
      "\n"
     ]
    }
   ],
   "source": [
    "help(square)"
   ]
  },
  {
   "cell_type": "markdown",
   "metadata": {
    "id": "x3B1PCalZW9z"
   },
   "source": [
    "# Type Conversions"
   ]
  },
  {
   "cell_type": "markdown",
   "metadata": {
    "id": "ZatErvRUZ1G6"
   },
   "source": [
    "##### `int` to `float`"
   ]
  },
  {
   "cell_type": "code",
   "execution_count": null,
   "metadata": {
    "colab": {
     "base_uri": "https://localhost:8080/"
    },
    "executionInfo": {
     "elapsed": 411,
     "status": "ok",
     "timestamp": 1680668177551,
     "user": {
      "displayName": "Jitendra Rathod",
      "userId": "08588782662248261812"
     },
     "user_tz": -330
    },
    "id": "-hxID8mRZa1D",
    "outputId": "c146b7a0-e287-4577-cf61-4c0f11ca393f"
   },
   "outputs": [
    {
     "name": "stdout",
     "output_type": "stream",
     "text": [
      "3\n",
      "<class 'int'>\n",
      "3.0\n",
      "<class 'float'>\n"
     ]
    }
   ],
   "source": [
    "## convert int to float \n",
    "x = 3 # int\n",
    "print(x)\n",
    "print(type(x))\n",
    "\n",
    "y = float(x)\n",
    "print(y)\n",
    "print(type(y))"
   ]
  },
  {
   "cell_type": "markdown",
   "metadata": {
    "id": "PeguSXXuZ7Is"
   },
   "source": [
    "##### `float` to `int`"
   ]
  },
  {
   "cell_type": "code",
   "execution_count": null,
   "metadata": {
    "colab": {
     "base_uri": "https://localhost:8080/"
    },
    "executionInfo": {
     "elapsed": 2,
     "status": "ok",
     "timestamp": 1680668180829,
     "user": {
      "displayName": "Jitendra Rathod",
      "userId": "08588782662248261812"
     },
     "user_tz": -330
    },
    "id": "hS-vKjWBZihP",
    "outputId": "97b0299c-15ff-41f6-8a05-a05775f5c28e"
   },
   "outputs": [
    {
     "name": "stdout",
     "output_type": "stream",
     "text": [
      "56.913\n",
      "<class 'float'>\n",
      "56\n",
      "<class 'int'>\n"
     ]
    }
   ],
   "source": [
    "## convert float to int\n",
    "y = 56.913 # float\n",
    "print(y)\n",
    "print(type(y))\n",
    "\n",
    "z = int(y) # converting y to int\n",
    "print(z)\n",
    "print(type(z))"
   ]
  },
  {
   "cell_type": "markdown",
   "metadata": {
    "id": "VFv7yjqVZ_aT"
   },
   "source": [
    "##### `string` to `int`"
   ]
  },
  {
   "cell_type": "code",
   "execution_count": null,
   "metadata": {
    "id": "NaF8lRSyquSd"
   },
   "outputs": [],
   "source": [
    "## convert string to int\n",
    "x = '50' # string\n",
    "print(x)\n",
    "print(type(x))\n",
    "\n",
    "y = int(x) # converting x to int\n",
    "print(y)\n",
    "print(type(y))"
   ]
  },
  {
   "cell_type": "markdown",
   "metadata": {
    "id": "6yVJVOsAaI1f"
   },
   "source": [
    "##### `int` to `string`"
   ]
  },
  {
   "cell_type": "code",
   "execution_count": null,
   "metadata": {
    "id": "3k5ySjKjYv1Q"
   },
   "outputs": [],
   "source": [
    "## convert int to string \n",
    "x = 2020\n",
    "print(x)\n",
    "print(type(x))\n",
    "\n",
    "y = str(x)\n",
    "print(y)\n",
    "print(type(y))"
   ]
  },
  {
   "cell_type": "markdown",
   "metadata": {
    "id": "jw4CI75-aDt5"
   },
   "source": [
    "##### `string` to `float`"
   ]
  },
  {
   "cell_type": "code",
   "execution_count": null,
   "metadata": {
    "colab": {
     "base_uri": "https://localhost:8080/"
    },
    "executionInfo": {
     "elapsed": 399,
     "status": "ok",
     "timestamp": 1680668602798,
     "user": {
      "displayName": "Jitendra Rathod",
      "userId": "08588782662248261812"
     },
     "user_tz": -330
    },
    "id": "1vBmh6i_sCJh",
    "outputId": "c716d6fb-3ba5-46b8-af0c-364795039f10"
   },
   "outputs": [
    {
     "name": "stdout",
     "output_type": "stream",
     "text": [
      "3.14\n",
      "<class 'str'>\n",
      "3.14\n",
      "<class 'float'>\n"
     ]
    }
   ],
   "source": [
    "## convert str to float\n",
    "x = '3.14'\n",
    "print(x)\n",
    "print(type(x))\n",
    "\n",
    "y = float(x) # converting x to float\n",
    "print(y)\n",
    "print(type(y))"
   ]
  },
  {
   "cell_type": "markdown",
   "metadata": {
    "id": "fkkrcJG4aN-Q"
   },
   "source": [
    "##### `float` to `string`"
   ]
  },
  {
   "cell_type": "code",
   "execution_count": null,
   "metadata": {
    "id": "0rsklWAys4gT"
   },
   "outputs": [],
   "source": [
    "## convert float to string \n",
    "x = 37.5\n",
    "print(x)\n",
    "print(type(x))\n",
    "\n",
    "y = str(x) # converting x to string\n",
    "print(y)\n",
    "print(type(y))"
   ]
  },
  {
   "cell_type": "markdown",
   "metadata": {
    "id": "OJyO-OXjaRg5"
   },
   "source": [
    "##### `list` to `tuple`"
   ]
  },
  {
   "cell_type": "code",
   "execution_count": null,
   "metadata": {
    "colab": {
     "base_uri": "https://localhost:8080/"
    },
    "executionInfo": {
     "elapsed": 3,
     "status": "ok",
     "timestamp": 1680668743953,
     "user": {
      "displayName": "Jitendra Rathod",
      "userId": "08588782662248261812"
     },
     "user_tz": -330
    },
    "id": "zeZM4tPZtFb5",
    "outputId": "2180f783-f617-42e3-9895-2eb13204a05b"
   },
   "outputs": [
    {
     "name": "stdout",
     "output_type": "stream",
     "text": [
      "[3, 7, 20, '@', 'DataMitess.', 'makes learning fun!']\n",
      "<class 'list'>\n",
      "(3, 7, 20, '@', 'DataMitess.', 'makes learning fun!')\n",
      "<class 'tuple'>\n"
     ]
    }
   ],
   "source": [
    "## convert list to tuple\n",
    "new_list = [3,7,20,'@','DataMitess.', 'makes learning fun!']\n",
    "print(new_list)\n",
    "print(type(new_list))\n",
    "\n",
    "new_tuple = tuple(new_list) # converting new_list to new_tuple\n",
    "print(new_tuple)\n",
    "print(type(new_tuple))"
   ]
  },
  {
   "cell_type": "markdown",
   "metadata": {
    "id": "0qinqxHYahaw"
   },
   "source": [
    "##### `tuple` to `list`"
   ]
  },
  {
   "cell_type": "code",
   "execution_count": null,
   "metadata": {
    "colab": {
     "base_uri": "https://localhost:8080/"
    },
    "executionInfo": {
     "elapsed": 466,
     "status": "ok",
     "timestamp": 1680668950474,
     "user": {
      "displayName": "Jitendra Rathod",
      "userId": "08588782662248261812"
     },
     "user_tz": -330
    },
    "id": "p4XjMnT1sSUl",
    "outputId": "d5f6e620-42b0-4dd5-e5f6-8656e375901c"
   },
   "outputs": [
    {
     "name": "stdout",
     "output_type": "stream",
     "text": [
      "(4, 1, 45, 92, 31, 60, 84)\n",
      "<class 'tuple'>\n",
      "[4, 1, 45, 92, 31, 60, 84]\n",
      "<class 'list'>\n"
     ]
    }
   ],
   "source": [
    "## convert tuple to list\n",
    "new_tuple = 4,1,45,92,31,60,84\n",
    "print(new_tuple)\n",
    "print(type(new_tuple))\n",
    "\n",
    "new_list = list(new_tuple) # converting new_tuple to new_list\n",
    "print(new_list)\n",
    "print(type(new_list))"
   ]
  },
  {
   "cell_type": "markdown",
   "metadata": {
    "id": "kpEVEtzwsWME"
   },
   "source": [
    "##### `list` to `set` \n"
   ]
  },
  {
   "cell_type": "code",
   "execution_count": null,
   "metadata": {
    "colab": {
     "base_uri": "https://localhost:8080/"
    },
    "executionInfo": {
     "elapsed": 418,
     "status": "ok",
     "timestamp": 1680669271836,
     "user": {
      "displayName": "Jitendra Rathod",
      "userId": "08588782662248261812"
     },
     "user_tz": -330
    },
    "id": "bk12o2-y_emw",
    "outputId": "3dc05929-f97b-4098-e2d9-58f963f80efe"
   },
   "outputs": [
    {
     "name": "stdout",
     "output_type": "stream",
     "text": [
      "['olivia', 'kaseem', 'caleb', 'olivia', 'owen', 'olivia']\n",
      "<class 'list'>\n",
      "{'caleb', 'olivia', 'owen', 'kaseem'}\n",
      "<class 'set'>\n"
     ]
    }
   ],
   "source": [
    "# define list\n",
    "new_list = [\"olivia\",\"kaseem\",\"caleb\",\"olivia\",\"owen\", \"olivia\"]\n",
    "print(new_list)\n",
    "print(type(new_list))\n",
    "\n",
    "# convert to set \n",
    "new_set = set(new_list) # extracts only the unique values\n",
    "print(new_set)\n",
    "print(type(new_set))"
   ]
  },
  {
   "cell_type": "markdown",
   "metadata": {
    "id": "8Ax0yFWTAGrQ"
   },
   "source": [
    "##### `set` to `list`"
   ]
  },
  {
   "cell_type": "code",
   "execution_count": null,
   "metadata": {
    "colab": {
     "base_uri": "https://localhost:8080/"
    },
    "executionInfo": {
     "elapsed": 719,
     "status": "ok",
     "timestamp": 1680669338398,
     "user": {
      "displayName": "Jitendra Rathod",
      "userId": "08588782662248261812"
     },
     "user_tz": -330
    },
    "id": "Eg_0vQ-oAGIL",
    "outputId": "86c8ca9a-269c-4bdb-c451-bddbdeac3d24"
   },
   "outputs": [
    {
     "name": "stdout",
     "output_type": "stream",
     "text": [
      "{'caleb', 'olivia', 'owen', 'kaseem'}\n",
      "<class 'set'>\n",
      "['caleb', 'olivia', 'owen', 'kaseem']\n",
      "<class 'list'>\n"
     ]
    }
   ],
   "source": [
    "#define a set \n",
    "new_set = {'kaseem', 'olivia', 'caleb', 'owen'}\n",
    "print(new_set)\n",
    "print(type(new_set))\n",
    "\n",
    "# convert this set to a list\n",
    "new_list = list(new_set) \n",
    "print(new_list) \n",
    "print(type(new_list))"
   ]
  },
  {
   "cell_type": "markdown",
   "metadata": {
    "id": "PsS8JImTKXv4"
   },
   "source": [
    "#### That was a lot of conversions !\n",
    "\n",
    "### Excercise : 1 \n",
    "\n",
    "Lets try to convert these variables into other datatypes : \n",
    "\n",
    "- num = 7 into `string`\n",
    "- discount = '3.77' into `float`\n",
    "- grocery = egg,milk,mango into `list`"
   ]
  },
  {
   "cell_type": "markdown",
   "metadata": {
    "id": "202310c5"
   },
   "source": [
    "## Auto Typecasting\n",
    "* The Python interpreter automatically converts one data type to another without any user involvement. "
   ]
  },
  {
   "cell_type": "code",
   "execution_count": null,
   "metadata": {
    "colab": {
     "base_uri": "https://localhost:8080/"
    },
    "executionInfo": {
     "elapsed": 652,
     "status": "ok",
     "timestamp": 1680109192043,
     "user": {
      "displayName": "Jitendra Rathod",
      "userId": "08588782662248261812"
     },
     "user_tz": -330
    },
    "id": "85f98668",
    "outputId": "aeae6b44-d2ec-4f0c-b523-cb0fc50ea414",
    "scrolled": true
   },
   "outputs": [
    {
     "data": {
      "text/plain": [
       "9.67"
      ]
     },
     "execution_count": 4,
     "metadata": {},
     "output_type": "execute_result"
    }
   ],
   "source": [
    "4 + 5.67 + False\n",
    "##( background processing of the code) due to the  \n",
    "##higher hierarchy of float datatype"
   ]
  },
  {
   "cell_type": "code",
   "execution_count": null,
   "metadata": {
    "colab": {
     "base_uri": "https://localhost:8080/"
    },
    "executionInfo": {
     "elapsed": 411,
     "status": "ok",
     "timestamp": 1680669601265,
     "user": {
      "displayName": "Jitendra Rathod",
      "userId": "08588782662248261812"
     },
     "user_tz": -330
    },
    "id": "5ae66f4a",
    "outputId": "d5a9e0dc-1cc6-424b-b253-2f294029fffe"
   },
   "outputs": [
    {
     "data": {
      "text/plain": [
       "10.6"
      ]
     },
     "execution_count": 14,
     "metadata": {},
     "output_type": "execute_result"
    }
   ],
   "source": [
    "4 + 5.6 + False + True"
   ]
  },
  {
   "cell_type": "code",
   "execution_count": null,
   "metadata": {
    "colab": {
     "base_uri": "https://localhost:8080/",
     "height": 165
    },
    "executionInfo": {
     "elapsed": 719,
     "status": "error",
     "timestamp": 1680669681243,
     "user": {
      "displayName": "Jitendra Rathod",
      "userId": "08588782662248261812"
     },
     "user_tz": -330
    },
    "id": "d2d1107a",
    "outputId": "9091fdfb-74ec-4822-d33a-8b9d5e517617"
   },
   "outputs": [
    {
     "ename": "TypeError",
     "evalue": "ignored",
     "output_type": "error",
     "traceback": [
      "\u001b[0;31m---------------------------------------------------------------------------\u001b[0m",
      "\u001b[0;31mTypeError\u001b[0m                                 Traceback (most recent call last)",
      "\u001b[0;32m<ipython-input-16-e0b9e20c228f>\u001b[0m in \u001b[0;36m<cell line: 1>\u001b[0;34m()\u001b[0m\n\u001b[0;32m----> 1\u001b[0;31m \u001b[0;36m4\u001b[0m\u001b[0;34m+\u001b[0m\u001b[0;36m3\u001b[0m\u001b[0;34m+\u001b[0m\u001b[0;34m'data'\u001b[0m\u001b[0;34m+\u001b[0m\u001b[0;36m6.7\u001b[0m\u001b[0;34m\u001b[0m\u001b[0;34m\u001b[0m\u001b[0m\n\u001b[0m",
      "\u001b[0;31mTypeError\u001b[0m: unsupported operand type(s) for +: 'int' and 'str'"
     ]
    }
   ],
   "source": [
    "4+3+'data'+6.7"
   ]
  },
  {
   "cell_type": "code",
   "execution_count": null,
   "metadata": {
    "colab": {
     "base_uri": "https://localhost:8080/"
    },
    "executionInfo": {
     "elapsed": 389,
     "status": "ok",
     "timestamp": 1680669688080,
     "user": {
      "displayName": "Jitendra Rathod",
      "userId": "08588782662248261812"
     },
     "user_tz": -330
    },
    "id": "d272b730",
    "outputId": "88e0ee6d-8e20-42f5-9eaa-cf753105070c",
    "scrolled": true
   },
   "outputs": [
    {
     "data": {
      "text/plain": [
       "4.6"
      ]
     },
     "execution_count": 17,
     "metadata": {},
     "output_type": "execute_result"
    }
   ],
   "source": [
    "True + 3.6 "
   ]
  },
  {
   "cell_type": "markdown",
   "metadata": {
    "id": "iXU3Wbujst7v"
   },
   "source": [
    "# Flow Control"
   ]
  },
  {
   "cell_type": "markdown",
   "metadata": {
    "id": "5SzZoEZLtZu4"
   },
   "source": [
    "### `if... elif... else...` \n",
    "\n",
    "- `if`, `elif` and `else` keywords are used to make decisions \n",
    "  - executes different blocks of code based on certain conditions\n",
    "\n",
    "- comparison operators and logical operators can be used to specify these conditions \n",
    "\n",
    "![If Conditional Flow Chart](https://i.imgur.com/NDtXKvsl.jpg \"If Conditional Flow Chart\")"
   ]
  },
  {
   "cell_type": "code",
   "execution_count": null,
   "metadata": {
    "colab": {
     "base_uri": "https://localhost:8080/"
    },
    "executionInfo": {
     "elapsed": 2,
     "status": "ok",
     "timestamp": 1680670187697,
     "user": {
      "displayName": "Jitendra Rathod",
      "userId": "08588782662248261812"
     },
     "user_tz": -330
    },
    "id": "ACF0D6cLBDml",
    "outputId": "f0a018db-928b-4c4d-ce1f-4b46c7bebde4"
   },
   "outputs": [
    {
     "name": "stdout",
     "output_type": "stream",
     "text": [
      "x and y are equal\n"
     ]
    }
   ],
   "source": [
    "# 'if' conditional  \n",
    "x = 5\n",
    "y = 5\n",
    "\n",
    "if x == y:\n",
    "    print('x and y are equal')"
   ]
  },
  {
   "cell_type": "code",
   "execution_count": null,
   "metadata": {
    "id": "63MLTftQoscX"
   },
   "outputs": [],
   "source": [
    "# 'if' conditional  \n",
    "x = 5\n",
    "y = 6\n",
    "\n",
    "if x == y:\n",
    "    print('x and y are equal')\n",
    "\n",
    "# no output because x and y are not equal"
   ]
  },
  {
   "cell_type": "code",
   "execution_count": null,
   "metadata": {
    "colab": {
     "base_uri": "https://localhost:8080/"
    },
    "executionInfo": {
     "elapsed": 381,
     "status": "ok",
     "timestamp": 1680670485792,
     "user": {
      "displayName": "Jitendra Rathod",
      "userId": "08588782662248261812"
     },
     "user_tz": -330
    },
    "id": "3vcpnnvLpAe-",
    "outputId": "4a890401-6e2f-4e38-e0eb-4dbd97fc5d48"
   },
   "outputs": [
    {
     "name": "stdout",
     "output_type": "stream",
     "text": [
      "x and y are not equal\n"
     ]
    }
   ],
   "source": [
    "# 'if... else...' conditional\n",
    "x = 5\n",
    "y = 6\n",
    "\n",
    "if x == y:\n",
    "    print('x and y are equal')\n",
    "else:\n",
    "    print('x and y are not equal')"
   ]
  },
  {
   "cell_type": "code",
   "execution_count": null,
   "metadata": {
    "colab": {
     "base_uri": "https://localhost:8080/"
    },
    "executionInfo": {
     "elapsed": 394,
     "status": "ok",
     "timestamp": 1680670619321,
     "user": {
      "displayName": "Jitendra Rathod",
      "userId": "08588782662248261812"
     },
     "user_tz": -330
    },
    "id": "S_JkSc9epIc-",
    "outputId": "33409eaa-2c53-428a-8ea4-87d5a256217d"
   },
   "outputs": [
    {
     "name": "stdout",
     "output_type": "stream",
     "text": [
      "y is smaller\n"
     ]
    }
   ],
   "source": [
    "# 'if... elif... else...' conditional\n",
    "x = 6\n",
    "y = 3\n",
    "\n",
    "if x == y:\n",
    "    print('x and y are equal')\n",
    "elif x < y:\n",
    "    print('x is smaller')\n",
    "else:\n",
    "    print('y is smaller')"
   ]
  },
  {
   "cell_type": "code",
   "execution_count": 2,
   "metadata": {
    "colab": {
     "base_uri": "https://localhost:8080/"
    },
    "executionInfo": {
     "elapsed": 501,
     "status": "ok",
     "timestamp": 1681793571879,
     "user": {
      "displayName": "Jitendra Rathod",
      "userId": "08588782662248261812"
     },
     "user_tz": -330
    },
    "id": "DdMr5KcNs-96",
    "outputId": "2e0b520b-6520-44db-ce06-35fa8cfb3905"
   },
   "outputs": [
    {
     "name": "stdout",
     "output_type": "stream",
     "text": [
      "None of above statements are True\n"
     ]
    }
   ],
   "source": [
    "x = 10\n",
    "y = 15\n",
    "\n",
    "if x == y and x >= y:\n",
    "    print('x and y are equal')\n",
    "\n",
    "else:\n",
    "    print('None of above statements are True')"
   ]
  },
  {
   "cell_type": "code",
   "execution_count": 5,
   "metadata": {
    "colab": {
     "base_uri": "https://localhost:8080/"
    },
    "executionInfo": {
     "elapsed": 4,
     "status": "ok",
     "timestamp": 1681793834797,
     "user": {
      "displayName": "Jitendra Rathod",
      "userId": "08588782662248261812"
     },
     "user_tz": -330
    },
    "id": "q5y4Iizwtxai",
    "outputId": "a9266533-4a38-494e-8d05-76c08498746d"
   },
   "outputs": [
    {
     "name": "stdout",
     "output_type": "stream",
     "text": [
      "x and y are equal\n"
     ]
    }
   ],
   "source": [
    "x = 10\n",
    "y = 10\n",
    "\n",
    "if x == y or x > y:\n",
    "    print('x and y are equal')\n",
    "\n",
    "else:\n",
    "    print('None of above statements are True')"
   ]
  },
  {
   "cell_type": "markdown",
   "metadata": {
    "id": "iJRN_o9TKXv5"
   },
   "source": [
    "#### So now _if_ you know what flow control can do for you , what _else_ are you waiting for !\n",
    "\n",
    "### Excercise : 2 \n",
    "\n",
    "Create program where the user can enter a number , and _if_ the number is even print `'This number is even!'` or _else_ print `'This number is odd'` and otherwise `'This is not a valid number'`"
   ]
  },
  {
   "cell_type": "markdown",
   "metadata": {
    "id": "AQVYVkZFOus6"
   },
   "source": [
    "### single line `if... else...` \n",
    "\n",
    "- use `if` and `else` in a single line as shown below"
   ]
  },
  {
   "cell_type": "code",
   "execution_count": null,
   "metadata": {
    "colab": {
     "base_uri": "https://localhost:8080/"
    },
    "executionInfo": {
     "elapsed": 1706,
     "status": "ok",
     "timestamp": 1680670892110,
     "user": {
      "displayName": "Jitendra Rathod",
      "userId": "08588782662248261812"
     },
     "user_tz": -330
    },
    "id": "l_Y_iBsgOugv",
    "outputId": "f89a5733-8415-4b6f-bdc9-166cb3fcb4b0"
   },
   "outputs": [
    {
     "name": "stdout",
     "output_type": "stream",
     "text": [
      "You can date.\n"
     ]
    }
   ],
   "source": [
    "is_single = True\n",
    "message = 'You can date.' if is_single else 'You cannot date.'\n",
    "print(message) "
   ]
  },
  {
   "cell_type": "code",
   "execution_count": 6,
   "metadata": {
    "colab": {
     "base_uri": "https://localhost:8080/"
    },
    "executionInfo": {
     "elapsed": 600,
     "status": "ok",
     "timestamp": 1681794058569,
     "user": {
      "displayName": "Jitendra Rathod",
      "userId": "08588782662248261812"
     },
     "user_tz": -330
    },
    "id": "PPi_jdZzu3yI",
    "outputId": "d046173b-5914-40ba-96b6-5e232173cb53"
   },
   "outputs": [
    {
     "name": "stdout",
     "output_type": "stream",
     "text": [
      "x is not equal to y\n"
     ]
    }
   ],
   "source": [
    "x = 5\n",
    "y = 10\n",
    "message = 'x is not equal to y' if x != y else 'x and y are equal'\n",
    "print(message) \n"
   ]
  },
  {
   "cell_type": "markdown",
   "metadata": {
    "id": "W44KVOKCtPnL"
   },
   "source": [
    "### \"`=`\" vs. \"`==`\"\n",
    "\n",
    "- `=` is an assigment operator\n",
    "  - is used to set values of variables \n",
    "\n",
    "- `==` is a comparison operator \n",
    "  - is used to compare the equality of two objects/variables\n",
    "\n",
    "- if `==` is used instead of `=` for comparison in `if` statement, for instance, then a syntanx error is thrown "
   ]
  },
  {
   "cell_type": "code",
   "execution_count": null,
   "metadata": {
    "colab": {
     "base_uri": "https://localhost:8080/"
    },
    "executionInfo": {
     "elapsed": 9421,
     "status": "ok",
     "timestamp": 1680672045901,
     "user": {
      "displayName": "Jitendra Rathod",
      "userId": "08588782662248261812"
     },
     "user_tz": -330
    },
    "id": "Y_J3YmXG-Jkv",
    "outputId": "c51b1f78-061a-47f1-d87e-7c8a5c42b344"
   },
   "outputs": [
    {
     "name": "stdout",
     "output_type": "stream",
     "text": [
      "Enter a number for x: 10\n",
      "Enter a number for y: 10\n",
      "x and y are equal\n",
      "therefore, x / y is 1.0\n",
      "thanks!\n"
     ]
    }
   ],
   "source": [
    "# get user input for variables 'x' and 'y'\n",
    "x = float(input(\"Enter a number for x: \")) # `=` is an assignment operator\n",
    "y = float(input(\"Enter a number for y: \")) # `=` is an assignment operator\n",
    "\n",
    "# compare values of x and y \n",
    "if x == y: # `==` is a comparison operator\n",
    "  print(\"x and y are equal\") # if e quality testest passed\n",
    "  if y != 0: \n",
    "    print(\"therefore, x / y is\", x/y) \n",
    "elif x < y: \n",
    "  print(\"x is smaller\") # if x is less than y\n",
    "else:\n",
    "  print(\"y is smaller\") # if y is less than x\n",
    "\n",
    "print(\"thanks!\")"
   ]
  },
  {
   "cell_type": "code",
   "execution_count": 8,
   "metadata": {
    "colab": {
     "base_uri": "https://localhost:8080/"
    },
    "executionInfo": {
     "elapsed": 5744,
     "status": "ok",
     "timestamp": 1681794545456,
     "user": {
      "displayName": "Jitendra Rathod",
      "userId": "08588782662248261812"
     },
     "user_tz": -330
    },
    "id": "J3kMCdKSwYf5",
    "outputId": "60491057-cdae-4fc4-aac0-aa78849175d7"
   },
   "outputs": [
    {
     "name": "stdout",
     "output_type": "stream",
     "text": [
      "Enter any number for a 10\n",
      "Enter any number for b 5\n",
      "15\n"
     ]
    }
   ],
   "source": [
    "a = int(input(\"Enter any number for a \"))\n",
    "\n",
    "b = int(input(\"Enter any number for b \"))\n",
    "\n",
    "c = a + b\n",
    "\n",
    "print(c)"
   ]
  },
  {
   "cell_type": "code",
   "execution_count": 13,
   "metadata": {
    "colab": {
     "base_uri": "https://localhost:8080/"
    },
    "executionInfo": {
     "elapsed": 33054,
     "status": "ok",
     "timestamp": 1681795013113,
     "user": {
      "displayName": "Jitendra Rathod",
      "userId": "08588782662248261812"
     },
     "user_tz": -330
    },
    "id": "EeP85nqRxN8I",
    "outputId": "2e5e2637-b2e8-4453-ba53-3dab629cdf9a"
   },
   "outputs": [
    {
     "name": "stdout",
     "output_type": "stream",
     "text": [
      "Enter any number for a \"abc\"\n",
      "Enter any number for b \"xyz\"\n",
      "abcxyz\n"
     ]
    }
   ],
   "source": [
    "a = eval(input(\"Enter any number for a \"))\n",
    "\n",
    "b = eval(input(\"Enter any number for b \"))\n",
    "\n",
    "c = a + b\n",
    "\n",
    "print(c)"
   ]
  },
  {
   "cell_type": "markdown",
   "metadata": {
    "id": "8tdDeXShtkNO"
   },
   "source": [
    "### \"`while`\" loops\n",
    "\n",
    "- the `while` loop executes a block of code as long as a condition is true\n",
    "\n",
    "![While Loop](https://i.imgur.com/XQaBsR3l.jpg \"While Loop Schematic\")"
   ]
  },
  {
   "cell_type": "code",
   "execution_count": null,
   "metadata": {
    "colab": {
     "base_uri": "https://localhost:8080/"
    },
    "executionInfo": {
     "elapsed": 4,
     "status": "ok",
     "timestamp": 1680753172503,
     "user": {
      "displayName": "Jitendra Rathod",
      "userId": "08588782662248261812"
     },
     "user_tz": -330
    },
    "id": "t4uBW-Hx_k8x",
    "outputId": "58ccf7ef-1755-4680-d785-f5f0f9de660c"
   },
   "outputs": [
    {
     "name": "stdout",
     "output_type": "stream",
     "text": [
      "0\n",
      "1\n",
      "2\n",
      "3\n",
      "4\n"
     ]
    }
   ],
   "source": [
    "# while loop example #1\n",
    "n = 0 \n",
    "while n < 5:\n",
    "  print(n)\n",
    "  n += 1"
   ]
  },
  {
   "cell_type": "markdown",
   "metadata": {
    "id": "6wBD55J_DkvK"
   },
   "source": [
    "##### \"`while`\" loop with \"`else`\" statement\n",
    "\n",
    "- `else` can be added at the end of a `while` loop\n",
    "- to run a piece of code when the `while` condition is no longer is true"
   ]
  },
  {
   "cell_type": "code",
   "execution_count": null,
   "metadata": {
    "colab": {
     "base_uri": "https://localhost:8080/"
    },
    "executionInfo": {
     "elapsed": 417,
     "status": "ok",
     "timestamp": 1680753972254,
     "user": {
      "displayName": "Jitendra Rathod",
      "userId": "08588782662248261812"
     },
     "user_tz": -330
    },
    "id": "9W3FqoNZBLAk",
    "outputId": "35f2d727-03ad-4af0-a9cd-638b93578d72"
   },
   "outputs": [
    {
     "name": "stdout",
     "output_type": "stream",
     "text": [
      "0\n",
      "1\n",
      "2\n",
      "3\n",
      "4\n",
      "n is not less than 5 anymore\n"
     ]
    }
   ],
   "source": [
    "# while loop example #2\n",
    "n = 0 \n",
    "while n < 5:\n",
    "  print(n)\n",
    "  n += 1\n",
    "else:\n",
    "  print('n is not less than 5 anymore')"
   ]
  },
  {
   "cell_type": "markdown",
   "metadata": {
    "id": "ZoY0KMYjKXv6"
   },
   "source": [
    "#### I hope you picked up this valuable concept _while_ you were learning the while loop !\n",
    "\n",
    "### Excercise : 3\n",
    "\n",
    "Display the numbers from 4 to 100 using the while loop "
   ]
  },
  {
   "cell_type": "markdown",
   "metadata": {
    "id": "q29hYRk9tpoE"
   },
   "source": [
    "### \"`for`\" loops\n",
    "\n",
    "- `for` keyword is used along with `in` membership query keyword to loop over strings, lists, tuple, and dictionaries\n",
    "\n",
    "![For Loop](https://i.imgur.com/gCVX3sPl.jpg \"For Loop SChematic\")"
   ]
  },
  {
   "cell_type": "markdown",
   "metadata": {
    "id": "kFRqGNDLEKus"
   },
   "source": [
    "##### `for... in range()`\n",
    "\n",
    "- `for` can be used with `in` and `range()` to generate numbers "
   ]
  },
  {
   "cell_type": "code",
   "execution_count": null,
   "metadata": {
    "colab": {
     "base_uri": "https://localhost:8080/"
    },
    "executionInfo": {
     "elapsed": 639,
     "status": "ok",
     "timestamp": 1680754771649,
     "user": {
      "displayName": "Jitendra Rathod",
      "userId": "08588782662248261812"
     },
     "user_tz": -330
    },
    "id": "tqKxCjBGETzR",
    "outputId": "b58e5d4d-feec-45d1-c5b4-aa177957ca9c"
   },
   "outputs": [
    {
     "name": "stdout",
     "output_type": "stream",
     "text": [
      "0\n",
      "1\n",
      "2\n",
      "3\n",
      "4\n"
     ]
    }
   ],
   "source": [
    "for n in range(5):\n",
    "    print(n)"
   ]
  },
  {
   "cell_type": "code",
   "execution_count": null,
   "metadata": {
    "colab": {
     "base_uri": "https://localhost:8080/"
    },
    "executionInfo": {
     "elapsed": 3,
     "status": "ok",
     "timestamp": 1680754774463,
     "user": {
      "displayName": "Jitendra Rathod",
      "userId": "08588782662248261812"
     },
     "user_tz": -330
    },
    "id": "jusgQ2ZHEdlV",
    "outputId": "149c05ca-ac28-41cb-aebc-99619d00fc84"
   },
   "outputs": [
    {
     "name": "stdout",
     "output_type": "stream",
     "text": [
      "2\n",
      "3\n",
      "4\n",
      "5\n"
     ]
    }
   ],
   "source": [
    "for n in range(2, 6):\n",
    "  print(n)"
   ]
  },
  {
   "cell_type": "code",
   "execution_count": null,
   "metadata": {
    "id": "BrPxr3ZHEgWP"
   },
   "outputs": [],
   "source": [
    "for x in range(2, 30, 3):\n",
    "  print(x)"
   ]
  },
  {
   "cell_type": "markdown",
   "metadata": {
    "id": "CtYKL1f2ObD6"
   },
   "source": [
    "##### \"`for`\" loops with strings\n",
    "\n",
    "- foor loops can use used to loop over strings"
   ]
  },
  {
   "cell_type": "code",
   "execution_count": null,
   "metadata": {
    "colab": {
     "base_uri": "https://localhost:8080/"
    },
    "executionInfo": {
     "elapsed": 394,
     "status": "ok",
     "timestamp": 1680754945670,
     "user": {
      "displayName": "Jitendra Rathod",
      "userId": "08588782662248261812"
     },
     "user_tz": -330
    },
    "id": "ibriyHIjObQy",
    "outputId": "f59ac8d8-4869-4420-a7fa-dc49b7f26b5f"
   },
   "outputs": [
    {
     "name": "stdout",
     "output_type": "stream",
     "text": [
      "D\n",
      "a\n",
      "t\n",
      "a\n",
      "M\n",
      "i\n",
      "t\n",
      "e\n",
      "s\n",
      ".\n"
     ]
    }
   ],
   "source": [
    "text = \"DataMites.\"\n",
    "for letter in text:\n",
    "  print(letter)"
   ]
  },
  {
   "cell_type": "markdown",
   "metadata": {
    "id": "uKW9iNjoO2Wd"
   },
   "source": [
    "##### \"`for`\" loop with lists, tuples, sets and dictionaries\n",
    "\n",
    "- \"`for`\" loop can be used with data types like lists, tuples, sets and dictionaries"
   ]
  },
  {
   "cell_type": "code",
   "execution_count": null,
   "metadata": {
    "colab": {
     "base_uri": "https://localhost:8080/"
    },
    "executionInfo": {
     "elapsed": 2,
     "status": "ok",
     "timestamp": 1680755124432,
     "user": {
      "displayName": "Jitendra Rathod",
      "userId": "08588782662248261812"
     },
     "user_tz": -330
    },
    "id": "iJxdZrrLO2Ka",
    "outputId": "36f4c755-0314-4780-aa48-de84185f3f7d"
   },
   "outputs": [
    {
     "name": "stdout",
     "output_type": "stream",
     "text": [
      "apple\n",
      "banana\n",
      "cherry\n"
     ]
    }
   ],
   "source": [
    "# define a list\n",
    "fruits_list = [\"apple\", \"banana\", \"cherry\"]\n",
    "\n",
    "# run a for loop to print the elements of the list\n",
    "for fruit in fruits_list:\n",
    "  print(fruit)"
   ]
  },
  {
   "cell_type": "code",
   "execution_count": null,
   "metadata": {
    "colab": {
     "base_uri": "https://localhost:8080/"
    },
    "executionInfo": {
     "elapsed": 402,
     "status": "ok",
     "timestamp": 1680755213844,
     "user": {
      "displayName": "Jitendra Rathod",
      "userId": "08588782662248261812"
     },
     "user_tz": -330
    },
    "id": "4vS1iQjwPjRv",
    "outputId": "da1a3e3c-a8cc-4bf2-8897-bb87a975a17d"
   },
   "outputs": [
    {
     "name": "stdout",
     "output_type": "stream",
     "text": [
      "dog\n",
      "cat\n",
      "elephant\n",
      "otter\n"
     ]
    }
   ],
   "source": [
    "# define a tuple\n",
    "animals_list = \"dog\",\"cat\",\"elephant\",\"otter\"\n",
    "\n",
    "# run a for loop to print the elements of the tuple\n",
    "for animal in animals_list:\n",
    "  print(animal)"
   ]
  },
  {
   "cell_type": "code",
   "execution_count": null,
   "metadata": {
    "colab": {
     "base_uri": "https://localhost:8080/"
    },
    "executionInfo": {
     "elapsed": 677,
     "status": "ok",
     "timestamp": 1680755242985,
     "user": {
      "displayName": "Jitendra Rathod",
      "userId": "08588782662248261812"
     },
     "user_tz": -330
    },
    "id": "wGYeT6h7QcCq",
    "outputId": "0d4bbe38-6a7a-40a8-e152-f8030f990d7e"
   },
   "outputs": [
    {
     "name": "stdout",
     "output_type": "stream",
     "text": [
      "caleb\n",
      "kaseem\n",
      "oliva\n"
     ]
    }
   ],
   "source": [
    "# define a set \n",
    "names = {'oliva','caleb','kaseem'}\n",
    "\n",
    "# loop over the set with for \n",
    "for name in names:\n",
    "  print(name)"
   ]
  },
  {
   "cell_type": "code",
   "execution_count": 15,
   "metadata": {
    "colab": {
     "base_uri": "https://localhost:8080/"
    },
    "executionInfo": {
     "elapsed": 3,
     "status": "ok",
     "timestamp": 1681795740617,
     "user": {
      "displayName": "Jitendra Rathod",
      "userId": "08588782662248261812"
     },
     "user_tz": -330
    },
    "id": "nLjJxuNOQrXe",
    "outputId": "f8267a65-d3b4-481c-b1ea-ac4e054d517e"
   },
   "outputs": [
    {
     "name": "stdout",
     "output_type": "stream",
     "text": [
      "a\n",
      "b\n",
      "c\n",
      "6\n"
     ]
    }
   ],
   "source": [
    "# define a dicitonary\n",
    "translations = {'a':1, 'b':2, 'c':3}\n",
    "\n",
    "# loop over the dicitonary with for\n",
    "\n",
    "# keys:\n",
    "for entry in translations:\n",
    "  print(entry)\n",
    "\n",
    "# values:\n",
    "n = 0\n",
    "for entry in translations.values():\n",
    "  n += entry\n",
    "print(n)"
   ]
  },
  {
   "cell_type": "markdown",
   "metadata": {
    "id": "uy94kRDTKXv7"
   },
   "source": [
    "#### This is what for loop can do _for_ you !\n",
    "\n",
    "### Excercise : 4\n",
    "\n",
    "Print the following pattern \n",
    "\n",
    "1 12 123 1234 12345"
   ]
  },
  {
   "cell_type": "markdown",
   "metadata": {
    "id": "9m6FpLb8RnGX"
   },
   "source": [
    "##### `list` comprehension \n",
    "\n",
    "- for loops can be written in a single line in python\n",
    "  - using list comprehension\n"
   ]
  },
  {
   "cell_type": "code",
   "execution_count": null,
   "metadata": {
    "colab": {
     "base_uri": "https://localhost:8080/"
    },
    "executionInfo": {
     "elapsed": 3,
     "status": "ok",
     "timestamp": 1680756387369,
     "user": {
      "displayName": "Jitendra Rathod",
      "userId": "08588782662248261812"
     },
     "user_tz": -330
    },
    "id": "ILiLe7ERRmU6",
    "outputId": "44a89658-e178-407c-82d1-58036d6c025e"
   },
   "outputs": [
    {
     "name": "stdout",
     "output_type": "stream",
     "text": [
      "[0, 1, 4, 9, 16, 25, 36, 49, 64, 81]\n"
     ]
    }
   ],
   "source": [
    "# create a new list of powers of 0 to 9\n",
    "powers = [num**2 for num in range(10)] # a for loop defined with list comprehension\n",
    "print(powers)"
   ]
  },
  {
   "cell_type": "markdown",
   "metadata": {
    "id": "0mwQaulMSRAG"
   },
   "source": [
    "##### `generator` object\n",
    "\n",
    "- is not explicitly executed at creation \n",
    "\n",
    "- the formula (expression) for creating values is stored inside the generator\n",
    "\n",
    "- the values are accessed with the `next` function"
   ]
  },
  {
   "cell_type": "code",
   "execution_count": null,
   "metadata": {
    "colab": {
     "base_uri": "https://localhost:8080/"
    },
    "executionInfo": {
     "elapsed": 3,
     "status": "ok",
     "timestamp": 1680756679518,
     "user": {
      "displayName": "Jitendra Rathod",
      "userId": "08588782662248261812"
     },
     "user_tz": -330
    },
    "id": "8hIMHVXSSErL",
    "outputId": "dec5b414-1259-4972-ec98-00d3d9f80822"
   },
   "outputs": [
    {
     "name": "stdout",
     "output_type": "stream",
     "text": [
      "<generator object <genexpr> at 0x7f01806e9eb0>\n"
     ]
    }
   ],
   "source": [
    "# create a generator object with powers of 0 to 9\n",
    "powers = (num**2 for num in range(10))\n",
    "print(powers)\n",
    "\n",
    "# next(powers) # call the first value in the generator "
   ]
  },
  {
   "cell_type": "code",
   "execution_count": null,
   "metadata": {
    "colab": {
     "base_uri": "https://localhost:8080/",
     "height": 169
    },
    "executionInfo": {
     "elapsed": 442,
     "status": "error",
     "timestamp": 1680756796126,
     "user": {
      "displayName": "Jitendra Rathod",
      "userId": "08588782662248261812"
     },
     "user_tz": -330
    },
    "id": "qnmbalcxSnlg",
    "outputId": "bafea3af-dcc3-45f6-b612-323111240111"
   },
   "outputs": [
    {
     "ename": "StopIteration",
     "evalue": "ignored",
     "output_type": "error",
     "traceback": [
      "\u001b[0;31m---------------------------------------------------------------------------\u001b[0m",
      "\u001b[0;31mStopIteration\u001b[0m                             Traceback (most recent call last)",
      "\u001b[0;32m<ipython-input-23-bee1217bcf8b>\u001b[0m in \u001b[0;36m<cell line: 1>\u001b[0;34m()\u001b[0m\n\u001b[0;32m----> 1\u001b[0;31m \u001b[0mnext\u001b[0m\u001b[0;34m(\u001b[0m\u001b[0mpowers\u001b[0m\u001b[0;34m)\u001b[0m \u001b[0;31m# call the next value in the generator\u001b[0m\u001b[0;34m\u001b[0m\u001b[0;34m\u001b[0m\u001b[0m\n\u001b[0m",
      "\u001b[0;31mStopIteration\u001b[0m: "
     ]
    }
   ],
   "source": [
    "next(powers) # call the next value in the generator "
   ]
  },
  {
   "cell_type": "code",
   "execution_count": null,
   "metadata": {
    "id": "lMxebwsDSpTI"
   },
   "outputs": [],
   "source": [
    "next(powers) # call the next value in the generator "
   ]
  },
  {
   "cell_type": "code",
   "execution_count": null,
   "metadata": {
    "id": "9DXbzvPzS41l"
   },
   "outputs": [],
   "source": [
    "next(powers) # call the next value in the generator "
   ]
  },
  {
   "cell_type": "markdown",
   "metadata": {
    "id": "2baKje6FVdVS"
   },
   "source": [
    "##### nested \"`for`\" loops\n",
    "\n",
    "- `for` loops can be nested to achieve looping over multiple lists\n"
   ]
  },
  {
   "cell_type": "code",
   "execution_count": null,
   "metadata": {
    "colab": {
     "base_uri": "https://localhost:8080/"
    },
    "executionInfo": {
     "elapsed": 384,
     "status": "ok",
     "timestamp": 1680757059147,
     "user": {
      "displayName": "Jitendra Rathod",
      "userId": "08588782662248261812"
     },
     "user_tz": -330
    },
    "id": "Av9CAHh8VcwE",
    "outputId": "954ab2be-5103-43a6-c6eb-b6c7650fe731"
   },
   "outputs": [
    {
     "name": "stdout",
     "output_type": "stream",
     "text": [
      "juicy apple\n",
      "big apple\n",
      "tasty apple\n",
      "juicy banana\n",
      "big banana\n",
      "tasty banana\n",
      "juicy cherry\n",
      "big cherry\n",
      "tasty cherry\n"
     ]
    }
   ],
   "source": [
    "adjectives = [\"juicy\", \"big\", \"tasty\"] # list 1\n",
    "fruits = [\"apple\", \"banana\", \"cherry\"] # list 2\n",
    "\n",
    "for fruit in fruits: # looping over list 2 - outer loop\n",
    "  for adjective in adjectives: # looping over list 1 - inner loop\n",
    "    print(adjective, fruit)"
   ]
  },
  {
   "cell_type": "markdown",
   "metadata": {
    "id": "qPH81fzh_0cX"
   },
   "source": [
    "### \"`break`\" statement\n",
    "\n",
    "- stops a while loop even if the while condition is true\n"
   ]
  },
  {
   "cell_type": "code",
   "execution_count": null,
   "metadata": {
    "colab": {
     "base_uri": "https://localhost:8080/"
    },
    "executionInfo": {
     "elapsed": 400,
     "status": "ok",
     "timestamp": 1680757274103,
     "user": {
      "displayName": "Jitendra Rathod",
      "userId": "08588782662248261812"
     },
     "user_tz": -330
    },
    "id": "RAfC-c3n_xVx",
    "outputId": "910cf3e9-8a71-468e-c9cb-068f582c455c"
   },
   "outputs": [
    {
     "name": "stdout",
     "output_type": "stream",
     "text": [
      "0\n",
      "1\n",
      "2\n",
      "3\n"
     ]
    }
   ],
   "source": [
    "n = 0\n",
    "while n < 6:\n",
    "  print(n)\n",
    "  if n == 3:\n",
    "    break # break loop when it is equal to 3\n",
    "  n += 1"
   ]
  },
  {
   "cell_type": "markdown",
   "metadata": {
    "id": "GHtxqNVPVOUx"
   },
   "source": [
    "- stops a for loop before it has looped through all the items"
   ]
  },
  {
   "cell_type": "code",
   "execution_count": null,
   "metadata": {
    "colab": {
     "base_uri": "https://localhost:8080/"
    },
    "executionInfo": {
     "elapsed": 399,
     "status": "ok",
     "timestamp": 1680757483332,
     "user": {
      "displayName": "Jitendra Rathod",
      "userId": "08588782662248261812"
     },
     "user_tz": -330
    },
    "id": "-D1M08mNU-6z",
    "outputId": "c4289798-49cf-4542-8c9e-e2a98cae162d"
   },
   "outputs": [
    {
     "name": "stdout",
     "output_type": "stream",
     "text": [
      "apple\n",
      "banana\n"
     ]
    }
   ],
   "source": [
    "fruits = [\"apple\", \"banana\", \"cherry\"]\n",
    "for fruit in fruits:\n",
    "  print(fruit)\n",
    "  if fruit == \"banana\":\n",
    "    break # break loop after after printing banana"
   ]
  },
  {
   "cell_type": "markdown",
   "metadata": {
    "id": "RsBo1ZLtAO2a"
   },
   "source": [
    "### \"`continue`\" statement\n",
    "\n",
    "- the continue statement stops the current iteration, and continues with the next"
   ]
  },
  {
   "cell_type": "code",
   "execution_count": null,
   "metadata": {
    "colab": {
     "base_uri": "https://localhost:8080/"
    },
    "executionInfo": {
     "elapsed": 2,
     "status": "ok",
     "timestamp": 1680757610609,
     "user": {
      "displayName": "Jitendra Rathod",
      "userId": "08588782662248261812"
     },
     "user_tz": -330
    },
    "id": "j64PM3KRAPml",
    "outputId": "5ccda6bf-a255-4508-d600-1fa619f357f8"
   },
   "outputs": [
    {
     "name": "stdout",
     "output_type": "stream",
     "text": [
      "1\n",
      "2\n",
      "4\n",
      "5\n",
      "6\n"
     ]
    }
   ],
   "source": [
    "n = 0\n",
    "while n < 6:\n",
    "  n += 1\n",
    "  if n == 3: # skip 3\n",
    "    continue\n",
    "  print(n)\n",
    "  "
   ]
  },
  {
   "cell_type": "code",
   "execution_count": null,
   "metadata": {
    "colab": {
     "base_uri": "https://localhost:8080/"
    },
    "executionInfo": {
     "elapsed": 419,
     "status": "ok",
     "timestamp": 1680757664231,
     "user": {
      "displayName": "Jitendra Rathod",
      "userId": "08588782662248261812"
     },
     "user_tz": -330
    },
    "id": "ZA8sjN3Qbw1y",
    "outputId": "5b687d52-eacf-4365-fb7a-be0191602690"
   },
   "outputs": [
    {
     "name": "stdout",
     "output_type": "stream",
     "text": [
      "apple\n",
      "cherry\n"
     ]
    }
   ],
   "source": [
    "fruits = [\"apple\", \"banana\", \"cherry\"]\n",
    "for x in fruits:\n",
    "  if x == \"banana\":\n",
    "    continue # skip banana\n",
    "  print(x)"
   ]
  },
  {
   "cell_type": "markdown",
   "metadata": {
    "id": "Mi5oZxNVsz6Y"
   },
   "source": [
    "### Indentation\n",
    "\n",
    "- matters in Python\n",
    "- blocks of code are denoted by indentation \n",
    "- `if...`,`while` and `for` code examples above shows how indentation works\n",
    "  - the codes below `if`, `elif` and `else` are indented \n",
    "  - the code below `while` is indented \n",
    "  - the code below `for` is indented\n",
    "- nested indentations:\n",
    "  - when `while`,`for` and `if` statements are nested within each other, the code has to be further indented \n",
    "\n",
    "![indentation scheme](https://i.imgur.com/QmTWEcRl.jpg \"Code Block Indentation\")"
   ]
  },
  {
   "cell_type": "markdown",
   "metadata": {
    "id": "EXYSLIYRvCCk"
   },
   "source": [
    "### \"`for`\" vs. \"`while`\" loops\n",
    "\n",
    "- choosing the right loop type makes your code more legible and can also help prevent bugs\n",
    "\n",
    "- everything that can be written with a `for` loop can be written with a `while` loop, but `while` loops can solve some problems that `for` loops don't address easily\n",
    "\n",
    "- you should usually write `for` loops when possible; use `for` loops when \n",
    "  - you know the number of iterations you need to do - e.g., 500 trials, \n",
    "  - one operation per character in a string, or \n",
    "  - an action on every element in a list\n",
    "\n",
    "- if you can describe the problem you're trying to solve in terms of each or every element in an iterable\n",
    "object, aim for a `for` loop. \n",
    "\n",
    "- benefits of a `for` loop:\n",
    "  - using a `for` loop when possible will decrease the risk of writing an infinite loop \n",
    "  - will generally prevent you from running into errors with incrementing counter variables"
   ]
  },
  {
   "cell_type": "markdown",
   "metadata": {
    "id": "jNrWXaPCgf4_"
   },
   "source": [
    "### Exception Handling\n",
    "\n",
    "- exception handling block framework \n",
    "\n",
    "  ```\n",
    "  try:\n",
    "    ...\n",
    "  except:\n",
    "    ...\n",
    "  finally:\n",
    "    ...\n",
    "  ```\n",
    "\n",
    "- `try` block:\n",
    "  - lets you test a block of code for errors\n",
    "- `except` block:\n",
    "  - lets you set the response to an error \n",
    "- `finally` block:\n",
    "  - execute code regardless of the outcome of the try-except block\n",
    "\n"
   ]
  },
  {
   "cell_type": "markdown",
   "metadata": {
    "id": "cBpkH5k4hqLm"
   },
   "source": [
    "##### Exceptiion Handling Examples"
   ]
  },
  {
   "cell_type": "code",
   "execution_count": null,
   "metadata": {
    "id": "jv3J2Lwugfol"
   },
   "outputs": [],
   "source": [
    "# setup an error handling block \n",
    "try:\n",
    "  print(x_val) # without defining x_val before, we try to print the value of x_val\n",
    "except:\n",
    "  print('An exception occured')\n",
    "\n",
    "# here, since the try block code throws an error because of x_val not being defined, the except block is executed\n",
    "# lets try this without a try block\n",
    "print(x_val) # this raises a NameError"
   ]
  },
  {
   "cell_type": "code",
   "execution_count": null,
   "metadata": {
    "id": "dqcZl6y9ioKI"
   },
   "outputs": [],
   "source": [
    "# multiple exceptions handling\n",
    "try:\n",
    "  print(x_val)\n",
    "except NameError: # exception handling #1\n",
    "  print(\"x_val is not defined\")\n",
    "except: # exception handling #2\n",
    "  print(\"Something else went wrong\")"
   ]
  },
  {
   "cell_type": "code",
   "execution_count": null,
   "metadata": {
    "id": "osn70Xvtm0XY"
   },
   "outputs": [],
   "source": [
    "# `finally` block example #1\n",
    "try:\n",
    "  print(x)\n",
    "except: # this executes if the try block has an error\n",
    "  print(\"Something went wrong\")\n",
    "finally: # this is executed whether an error is raised or not\n",
    "  print(\"The 'try except' is finished!\")\n"
   ]
  },
  {
   "cell_type": "code",
   "execution_count": 17,
   "metadata": {
    "colab": {
     "base_uri": "https://localhost:8080/"
    },
    "executionInfo": {
     "elapsed": 390,
     "status": "ok",
     "timestamp": 1681797565702,
     "user": {
      "displayName": "Jitendra Rathod",
      "userId": "08588782662248261812"
     },
     "user_tz": -330
    },
    "id": "E7bRg4HGkULZ",
    "outputId": "43682be2-2e5c-4e06-a540-23947d4a1058"
   },
   "outputs": [
    {
     "name": "stdout",
     "output_type": "stream",
     "text": [
      "Something went wrong\n",
      "value of x is 15\n",
      "The 'try except' is finished!\n"
     ]
    }
   ],
   "source": [
    "# `finally` block example #1\n",
    "try:\n",
    "  print(x_new)\n",
    "except: # this executes if the try block has an error\n",
    "  print(\"Something went wrong\")\n",
    "finally: # this is executed whether an error is raised or not\n",
    "  x = 5\n",
    "  x += 10\n",
    "  print(\"value of x is\", x)\n",
    "  print(\"The 'try except' is finished!\")\n"
   ]
  },
  {
   "cell_type": "markdown",
   "metadata": {
    "id": "mnJN5r3PnwYY"
   },
   "source": [
    "##### `finally` block example #2\n",
    "\n",
    "```python\n",
    "try: # define try block\n",
    "  f = open(\"file.txt\") # open a file that exists, but with no write permission\n",
    "  f.write(\"text to write\") # try to write to file\n",
    "except: # respond to error \n",
    "  print(\"Something went wrong when writing to file\")\n",
    "finally: # run this code regardless of the outcome of the try-error outcome\n",
    "  f.close()\n",
    "```"
   ]
  },
  {
   "cell_type": "code",
   "execution_count": null,
   "metadata": {
    "id": "--lXGzP3mYgQ"
   },
   "outputs": [],
   "source": [
    "try: # define try block\n",
    "  f = open(r\"C:\\Users\\jeet\\Desktop\\file.txt\") # open a file that exists, but with no write permission\n",
    "  f.write(\"text to write\") # try to write to file\n",
    "except: # respond to error \n",
    "  print(\"Something went wrong when writing to file\")\n",
    "finally: # run this code regardless of the outcome of the try-error outcome\n",
    "  f.close()"
   ]
  },
  {
   "cell_type": "markdown",
   "metadata": {
    "id": "1GcSUYjEoXB9"
   },
   "source": [
    "##### `raise()` keyword\n",
    "\n",
    "- you can geenrate a custom error if an exception occurs \n",
    "  - this is done with the `raise()` keyword"
   ]
  },
  {
   "cell_type": "code",
   "execution_count": null,
   "metadata": {
    "id": "Rlc7yas4onXS"
   },
   "outputs": [],
   "source": [
    "## raise exception example #1\n",
    "x = -1\n",
    "\n",
    "if x < 0:\n",
    "  raise Exception(\"Sorry, number below zero!\")"
   ]
  },
  {
   "cell_type": "code",
   "execution_count": 20,
   "metadata": {
    "colab": {
     "base_uri": "https://localhost:8080/",
     "height": 226
    },
    "executionInfo": {
     "elapsed": 10684,
     "status": "error",
     "timestamp": 1681798247434,
     "user": {
      "displayName": "Jitendra Rathod",
      "userId": "08588782662248261812"
     },
     "user_tz": -330
    },
    "id": "S0gNhIN_vVYo",
    "outputId": "26cdf7c0-410d-4e98-ca1c-9c3fadef18b3"
   },
   "outputs": [
    {
     "name": "stdout",
     "output_type": "stream",
     "text": [
      "please enter your password \"abc\"\n"
     ]
    },
    {
     "ename": "Exception",
     "evalue": "ignored",
     "output_type": "error",
     "traceback": [
      "\u001b[0;31m---------------------------------------------------------------------------\u001b[0m",
      "\u001b[0;31mException\u001b[0m                                 Traceback (most recent call last)",
      "\u001b[0;32m<ipython-input-20-f675d97965ff>\u001b[0m in \u001b[0;36m<cell line: 3>\u001b[0;34m()\u001b[0m\n\u001b[1;32m      5\u001b[0m \u001b[0;34m\u001b[0m\u001b[0m\n\u001b[1;32m      6\u001b[0m \u001b[0;32melse\u001b[0m\u001b[0;34m:\u001b[0m\u001b[0;34m\u001b[0m\u001b[0;34m\u001b[0m\u001b[0m\n\u001b[0;32m----> 7\u001b[0;31m   \u001b[0;32mraise\u001b[0m \u001b[0mException\u001b[0m\u001b[0;34m(\u001b[0m\u001b[0;34m\"password needs to be a number only\"\u001b[0m\u001b[0;34m)\u001b[0m\u001b[0;34m\u001b[0m\u001b[0;34m\u001b[0m\u001b[0m\n\u001b[0m",
      "\u001b[0;31mException\u001b[0m: password needs to be a number only"
     ]
    }
   ],
   "source": [
    "password = eval(input(\"please enter your password \"))\n",
    "\n",
    "if password.isdigit():\n",
    "  print(\"password created\")\n",
    "\n",
    "else:\n",
    "  raise Exception(\"password needs to be a number only\")\n"
   ]
  },
  {
   "cell_type": "code",
   "execution_count": 23,
   "metadata": {
    "colab": {
     "base_uri": "https://localhost:8080/",
     "height": 207
    },
    "executionInfo": {
     "elapsed": 388,
     "status": "error",
     "timestamp": 1681798466187,
     "user": {
      "displayName": "Jitendra Rathod",
      "userId": "08588782662248261812"
     },
     "user_tz": -330
    },
    "id": "-GQ4kq-no5zd",
    "outputId": "36dc94f4-77e9-46b3-fbed-825bba3efb05"
   },
   "outputs": [
    {
     "ename": "TypeError",
     "evalue": "ignored",
     "output_type": "error",
     "traceback": [
      "\u001b[0;31m---------------------------------------------------------------------------\u001b[0m",
      "\u001b[0;31mTypeError\u001b[0m                                 Traceback (most recent call last)",
      "\u001b[0;32m<ipython-input-23-64b86dec0554>\u001b[0m in \u001b[0;36m<cell line: 5>\u001b[0;34m()\u001b[0m\n\u001b[1;32m      4\u001b[0m \u001b[0;34m\u001b[0m\u001b[0m\n\u001b[1;32m      5\u001b[0m \u001b[0;32mif\u001b[0m \u001b[0;32mnot\u001b[0m \u001b[0mtype\u001b[0m\u001b[0;34m(\u001b[0m\u001b[0mx\u001b[0m\u001b[0;34m)\u001b[0m \u001b[0;32mis\u001b[0m \u001b[0mint\u001b[0m\u001b[0;34m:\u001b[0m\u001b[0;34m\u001b[0m\u001b[0;34m\u001b[0m\u001b[0m\n\u001b[0;32m----> 6\u001b[0;31m   \u001b[0;32mraise\u001b[0m \u001b[0mTypeError\u001b[0m\u001b[0;34m(\u001b[0m\u001b[0;34m\"Only integers are allowed!\"\u001b[0m\u001b[0;34m)\u001b[0m\u001b[0;34m\u001b[0m\u001b[0;34m\u001b[0m\u001b[0m\n\u001b[0m",
      "\u001b[0;31mTypeError\u001b[0m: Only integers are allowed!"
     ]
    }
   ],
   "source": [
    "## raise exception example #2\n",
    "# you can choose the specific type of Exception to raise\n",
    "x = \"hello\"\n",
    "\n",
    "if not type(x) is int:\n",
    "  raise TypeError(\"Only integers are allowed!\")"
   ]
  },
  {
   "cell_type": "markdown",
   "metadata": {
    "id": "eh_qgGvrKXv_"
   },
   "source": [
    "#### Let's make a custom error !\n",
    "\n",
    "### Excercise : 5\n",
    "\n",
    "Write a program that takes in the users name, and if the user provides a numerical datatype, `raise` an exception asking the user to `Type in your name properly !`"
   ]
  },
  {
   "cell_type": "markdown",
   "metadata": {
    "id": "LYbj1sz_w7-2"
   },
   "source": [
    "# Functions\n",
    "\n",
    "- functions are reusable pieces of code\n",
    "- they *only run when called* \n",
    "- they may take input `arguments`\n",
    "- they may `return` processed values\n",
    "\n",
    "- `def` keyword is used at the begeinning of a function to start defining a function\n",
    "- `return` keyword is used to send some value back after processing\n",
    "\n",
    "![Function Anatomy](https://i.imgur.com/5qSLCBil.jpg \"Function Anatomy\")"
   ]
  },
  {
   "cell_type": "code",
   "execution_count": null,
   "metadata": {
    "colab": {
     "base_uri": "https://localhost:8080/"
    },
    "executionInfo": {
     "elapsed": 4,
     "status": "ok",
     "timestamp": 1681189994198,
     "user": {
      "displayName": "Jitendra Rathod",
      "userId": "08588782662248261812"
     },
     "user_tz": -330
    },
    "id": "1n0OCxdbhLBc",
    "outputId": "944be5ed-b9d6-471e-dc79-fbccbdf93d48"
   },
   "outputs": [
    {
     "name": "stdout",
     "output_type": "stream",
     "text": [
      "False\n",
      "True\n"
     ]
    }
   ],
   "source": [
    "# define a function to test for even numbers \n",
    "  # takes one integer number as an argument\n",
    "  # and returns true if even and false if not \n",
    "\n",
    "def is_even(num):\n",
    "  return num % 2 == 0\n",
    "\n",
    "# test evenness of 55 by calling the function is_even()\n",
    "print(is_even(55)) # call function and print output\n",
    "\n",
    "# test evenness of 100 by calling the function is_even()\n",
    "print(is_even(100)) # call function and print output"
   ]
  },
  {
   "cell_type": "code",
   "execution_count": null,
   "metadata": {
    "id": "VFkMJ0_n9b2N"
   },
   "outputs": [],
   "source": [
    " # define function to calculate area of a circle\n",
    "# input argument is radius \n",
    "\n",
    "def area_circle(radius):\n",
    "  ''' # start doc string \n",
    "  input: radius of circle \n",
    "  return value: computed value of area\n",
    "  '''\n",
    "  area = (22.0/7.0)*radius**2\n",
    "  return area\n",
    "\n",
    "print(area_circle(5))"
   ]
  },
  {
   "cell_type": "markdown",
   "metadata": {
    "id": "Bai7RbnpKXv_"
   },
   "source": [
    "#### Let's make a useful function \n",
    "\n",
    "### Excercise : 6 \n",
    "\n",
    "Create a function that calculates the simple interest of a property purchase !\n",
    "\n",
    "Extra pointer : If simple interest was easy , make a compound interest calculator as well !"
   ]
  },
  {
   "cell_type": "markdown",
   "metadata": {
    "id": "AL-RPRAgdKhx"
   },
   "source": [
    "# Scope\n",
    "\n",
    "- a variable is only available from inside the region it is created \n",
    "  - this is called *scope*\n"
   ]
  },
  {
   "cell_type": "code",
   "execution_count": null,
   "metadata": {
    "colab": {
     "base_uri": "https://localhost:8080/",
     "height": 219
    },
    "executionInfo": {
     "elapsed": 502,
     "status": "error",
     "timestamp": 1681191023697,
     "user": {
      "displayName": "Jitendra Rathod",
      "userId": "08588782662248261812"
     },
     "user_tz": -330
    },
    "id": "EWcAIJjVdguc",
    "outputId": "67ad5076-064b-45db-f411-e1750b849246"
   },
   "outputs": [
    {
     "name": "stdout",
     "output_type": "stream",
     "text": [
      "300\n"
     ]
    },
    {
     "ename": "NameError",
     "evalue": "ignored",
     "output_type": "error",
     "traceback": [
      "\u001b[0;31m---------------------------------------------------------------------------\u001b[0m",
      "\u001b[0;31mNameError\u001b[0m                                 Traceback (most recent call last)",
      "\u001b[0;32m<ipython-input-2-bd9a361035ec>\u001b[0m in \u001b[0;36m<cell line: 6>\u001b[0;34m()\u001b[0m\n\u001b[1;32m      4\u001b[0m \u001b[0;34m\u001b[0m\u001b[0m\n\u001b[1;32m      5\u001b[0m \u001b[0mmyfunc\u001b[0m\u001b[0;34m(\u001b[0m\u001b[0;34m)\u001b[0m \u001b[0;31m# call the function myfunc()\u001b[0m\u001b[0;34m\u001b[0m\u001b[0;34m\u001b[0m\u001b[0m\n\u001b[0;32m----> 6\u001b[0;31m \u001b[0mprint\u001b[0m\u001b[0;34m(\u001b[0m\u001b[0minside_variable\u001b[0m\u001b[0;34m)\u001b[0m \u001b[0;31m# throws error\u001b[0m\u001b[0;34m\u001b[0m\u001b[0;34m\u001b[0m\u001b[0m\n\u001b[0m",
      "\u001b[0;31mNameError\u001b[0m: name 'inside_variable' is not defined"
     ]
    }
   ],
   "source": [
    "def myfunc():\n",
    "  inside_variable = 300 # inside_variable is available only inside myfunc() and not accessible outside\n",
    "  print(inside_variable)\n",
    "\n",
    "myfunc() # call the function myfunc()\n",
    "print(inside_variable) # throws error"
   ]
  },
  {
   "cell_type": "markdown",
   "metadata": {
    "id": "VeQ4MM4ieJEi"
   },
   "source": [
    "- however, the local variable can be accessed from a function within the function"
   ]
  },
  {
   "cell_type": "code",
   "execution_count": null,
   "metadata": {
    "colab": {
     "base_uri": "https://localhost:8080/",
     "height": 219
    },
    "executionInfo": {
     "elapsed": 407,
     "status": "error",
     "timestamp": 1681191197670,
     "user": {
      "displayName": "Jitendra Rathod",
      "userId": "08588782662248261812"
     },
     "user_tz": -330
    },
    "id": "_hgLmGa6eNNF",
    "outputId": "9adc3abe-8397-42bb-ad2b-3545517e359a"
   },
   "outputs": [
    {
     "name": "stdout",
     "output_type": "stream",
     "text": [
      "300\n"
     ]
    },
    {
     "ename": "NameError",
     "evalue": "ignored",
     "output_type": "error",
     "traceback": [
      "\u001b[0;31m---------------------------------------------------------------------------\u001b[0m",
      "\u001b[0;31mNameError\u001b[0m                                 Traceback (most recent call last)",
      "\u001b[0;32m<ipython-input-3-227c8963d15e>\u001b[0m in \u001b[0;36m<cell line: 12>\u001b[0;34m()\u001b[0m\n\u001b[1;32m     10\u001b[0m \u001b[0mmyfunc\u001b[0m\u001b[0;34m(\u001b[0m\u001b[0;34m)\u001b[0m \u001b[0;31m# call the function myfunc()\u001b[0m\u001b[0;34m\u001b[0m\u001b[0;34m\u001b[0m\u001b[0m\n\u001b[1;32m     11\u001b[0m \u001b[0;34m\u001b[0m\u001b[0m\n\u001b[0;32m---> 12\u001b[0;31m \u001b[0mprint\u001b[0m\u001b[0;34m(\u001b[0m\u001b[0minside_variable\u001b[0m\u001b[0;34m)\u001b[0m \u001b[0;31m# but this still throws error\u001b[0m\u001b[0;34m\u001b[0m\u001b[0;34m\u001b[0m\u001b[0m\n\u001b[0m",
      "\u001b[0;31mNameError\u001b[0m: name 'inside_variable' is not defined"
     ]
    }
   ],
   "source": [
    "def myfunc():\n",
    "\n",
    "  inside_variable = 300\n",
    "\n",
    "  def myinnerfunc(): # this is the inner function\n",
    "    print(inside_variable) # this line accesses the inside_variable value\n",
    "\n",
    "  myinnerfunc() # call the function myinnerfunc()\n",
    "\n",
    "myfunc() # call the function myfunc()\n",
    "\n",
    "print(inside_variable) # but this still throws error"
   ]
  },
  {
   "cell_type": "markdown",
   "metadata": {
    "id": "B6KYAxrgdeZf"
   },
   "source": [
    "### Global Scope\n",
    "\n",
    "- a variable created in the main body of the Python code is a global variable and belongs to the global scope.\n",
    "\n",
    "- global variables are available from within any scope, global and local"
   ]
  },
  {
   "cell_type": "code",
   "execution_count": null,
   "metadata": {
    "colab": {
     "base_uri": "https://localhost:8080/"
    },
    "executionInfo": {
     "elapsed": 719,
     "status": "ok",
     "timestamp": 1681191636874,
     "user": {
      "displayName": "Jitendra Rathod",
      "userId": "08588782662248261812"
     },
     "user_tz": -330
    },
    "id": "-s2siRPuexxO",
    "outputId": "2de8a048-c331-4739-a9f4-06eb414cca68"
   },
   "outputs": [
    {
     "name": "stdout",
     "output_type": "stream",
     "text": [
      "300\n",
      "300\n"
     ]
    }
   ],
   "source": [
    "outer_variable = 300\n",
    "\n",
    "def myfunc():\n",
    "  print(outer_variable)\n",
    "\n",
    "myfunc()\n",
    "\n",
    "print(outer_variable)"
   ]
  },
  {
   "cell_type": "markdown",
   "metadata": {
    "id": "1MWoX34tfAq3"
   },
   "source": [
    "##### \"`global`\" keyword\n",
    "\n",
    "- if you need to create a global variable, but are stuck in the local scope, you can use the `global` keyword.\n",
    "\n",
    "- the `global` keyword makes the variable global."
   ]
  },
  {
   "cell_type": "code",
   "execution_count": null,
   "metadata": {
    "id": "REZFHDtZfMid"
   },
   "outputs": [],
   "source": [
    "def myfunc():\n",
    "  global global_variable\n",
    "  global_variable = 300\n",
    "  print(global_variable)\n",
    "\n",
    "myfunc()\n",
    "\n",
    "print(global_variable)"
   ]
  },
  {
   "cell_type": "markdown",
   "metadata": {
    "id": "2qXJ0rV3Tv7I"
   },
   "source": [
    "# Lambda \n",
    "\n",
    "- is a small anonymous function\n",
    "- can take any number of arguments, but can only have one expression\n",
    "\n",
    "- syntax: `lambda arguments : expression`"
   ]
  },
  {
   "cell_type": "code",
   "execution_count": null,
   "metadata": {
    "id": "dXu441qITwy_"
   },
   "outputs": [],
   "source": [
    "# lambda function example #1:\n",
    "\n",
    "plus_ten = lambda x : x + 10\n",
    "print(plus_ten(5))\n"
   ]
  },
  {
   "cell_type": "code",
   "execution_count": 28,
   "metadata": {
    "executionInfo": {
     "elapsed": 1,
     "status": "ok",
     "timestamp": 1681799609267,
     "user": {
      "displayName": "Jitendra Rathod",
      "userId": "08588782662248261812"
     },
     "user_tz": -330
    },
    "id": "6u5zY0ImDqOB"
   },
   "outputs": [],
   "source": [
    "def calculator(a,b):\n",
    "\n",
    "  c = a + b\n",
    "  square = lambda c: c**2\n",
    "\n",
    "  print(square(c))"
   ]
  },
  {
   "cell_type": "code",
   "execution_count": 29,
   "metadata": {
    "colab": {
     "base_uri": "https://localhost:8080/"
    },
    "executionInfo": {
     "elapsed": 2,
     "status": "ok",
     "timestamp": 1681799614115,
     "user": {
      "displayName": "Jitendra Rathod",
      "userId": "08588782662248261812"
     },
     "user_tz": -330
    },
    "id": "llSip39yEBpE",
    "outputId": "618e8886-ee32-4465-9284-eb81856f9c51"
   },
   "outputs": [
    {
     "name": "stdout",
     "output_type": "stream",
     "text": [
      "225\n"
     ]
    }
   ],
   "source": [
    "calculator(10,5)"
   ]
  },
  {
   "cell_type": "code",
   "execution_count": 38,
   "metadata": {
    "colab": {
     "base_uri": "https://localhost:8080/"
    },
    "executionInfo": {
     "elapsed": 437,
     "status": "ok",
     "timestamp": 1681800955276,
     "user": {
      "displayName": "Jitendra Rathod",
      "userId": "08588782662248261812"
     },
     "user_tz": -330
    },
    "id": "w06x-XrbFFM9",
    "outputId": "c519bffd-f892-4d3a-efa5-35d4547efeea"
   },
   "outputs": [
    {
     "name": "stdout",
     "output_type": "stream",
     "text": [
      "[0, 2, 4, 6, 8, 10, 12, 14, 16, 18]\n"
     ]
    }
   ],
   "source": [
    "\n",
    "\n",
    "even_numbers = list(filter(lambda x: x % 2 == 0, range(20)))\n",
    "print(even_numbers)\n"
   ]
  },
  {
   "cell_type": "code",
   "execution_count": null,
   "metadata": {
    "id": "PLp3vkAwK9Cl"
   },
   "outputs": [],
   "source": []
  },
  {
   "cell_type": "code",
   "execution_count": null,
   "metadata": {
    "id": "1IIPzYWWUt5u"
   },
   "outputs": [],
   "source": [
    "# lambda function example #2:\n",
    "\n",
    "multiply = lambda a, b : a * b\n",
    "print(multiply(5, 6))"
   ]
  },
  {
   "cell_type": "code",
   "execution_count": null,
   "metadata": {
    "id": "Jl0TRNIQWEyG"
   },
   "outputs": [],
   "source": [
    "# lambda function example #3:\n",
    "\n",
    "triple_sum = lambda a, b, c : a + b + c\n",
    "print(triple_sum(5, 6, 3))"
   ]
  },
  {
   "cell_type": "markdown",
   "metadata": {
    "id": "d80b83eb"
   },
   "source": [
    "# Packages & Modules"
   ]
  },
  {
   "cell_type": "raw",
   "metadata": {
    "id": "c425cde2"
   },
   "source": [
    "Packages are software which holds certain functionalities to work on.In python we have many builtin packages which we will be\n",
    "using.\n",
    "\n",
    "Packages contains moduled and submodules.\n",
    "\n",
    "Each and every module and submodule can be used independently by using certain keywords."
   ]
  },
  {
   "cell_type": "raw",
   "metadata": {
    "id": "6d7a5b1f"
   },
   "source": [
    "So lets assume we want to build a software where we need 4 functionalities like A,B,C,D.So you cannot go directly and we the build the software,you need to break down this into logical smaller parts.So lets say A and C are have similar types of functionality  and B and D takes similar type of functionality so we will group them under same module."
   ]
  },
  {
   "cell_type": "raw",
   "metadata": {
    "id": "ec1b894e"
   },
   "source": [
    "Modules and submodules provide very efficient way of writing code.If you want to make changes in A,you need to disturb any modules,you can go ahead and make the chnages.\n",
    "\n",
    "Modules also provide code resuibilty.If we wnat to develope new software which uses only A and D,they can be used."
   ]
  },
  {
   "cell_type": "markdown",
   "metadata": {
    "id": "54b39d5a"
   },
   "source": [
    "# Datetime package"
   ]
  },
  {
   "cell_type": "raw",
   "metadata": {
    "id": "ddda0c5e"
   },
   "source": [
    "In Python, date and time are not a data type of their own, but a module named datetime can be imported to work with the date as well as time. Python Datetime module comes built into Python, so there is no need to install it externally. "
   ]
  },
  {
   "cell_type": "raw",
   "metadata": {
    "id": "f7df10eb"
   },
   "source": [
    "1)date – An idealized naive date, assuming the current Gregorian calendar always was, and always will be, in effect. Its attributes are year, month and day.\n",
    "\n",
    "\n",
    "2)time – An idealized time, independ|ent of any particular day, assuming that every day has exactly 24*60*60 seconds. Its attributes are hour, minute, second, microsecond\n",
    "\n",
    "3)datetime – Its a combination of date and time along with the attributes year, month, day, hour, minute, second, microsecond\n",
    "\n",
    "4)timedelta – A duration expressing the difference between two date, time, or datetime instances to microsecond resolution."
   ]
  },
  {
   "cell_type": "code",
   "execution_count": null,
   "metadata": {
    "id": "f8794c88"
   },
   "outputs": [],
   "source": [
    "from datetime import date"
   ]
  },
  {
   "cell_type": "code",
   "execution_count": null,
   "metadata": {
    "id": "3df143a1"
   },
   "outputs": [],
   "source": [
    "my_date = date(1996, 9, 11) ## Simple date creation"
   ]
  },
  {
   "cell_type": "code",
   "execution_count": null,
   "metadata": {
    "colab": {
     "base_uri": "https://localhost:8080/"
    },
    "executionInfo": {
     "elapsed": 2,
     "status": "ok",
     "timestamp": 1681193922731,
     "user": {
      "displayName": "Jitendra Rathod",
      "userId": "08588782662248261812"
     },
     "user_tz": -330
    },
    "id": "4e13a47f",
    "outputId": "4da2d0e3-075b-4fa4-d027-8ca11a8ce23a"
   },
   "outputs": [
    {
     "data": {
      "text/plain": [
       "datetime.date(1996, 9, 11)"
      ]
     },
     "execution_count": 7,
     "metadata": {},
     "output_type": "execute_result"
    }
   ],
   "source": [
    "my_date"
   ]
  },
  {
   "cell_type": "code",
   "execution_count": null,
   "metadata": {
    "colab": {
     "base_uri": "https://localhost:8080/"
    },
    "executionInfo": {
     "elapsed": 385,
     "status": "ok",
     "timestamp": 1681194002553,
     "user": {
      "displayName": "Jitendra Rathod",
      "userId": "08588782662248261812"
     },
     "user_tz": -330
    },
    "id": "55e602b4",
    "outputId": "c0308a7e-b497-4daa-f685-37adc8be9d6b"
   },
   "outputs": [
    {
     "name": "stdout",
     "output_type": "stream",
     "text": [
      "Today's date is 2023-04-11\n"
     ]
    }
   ],
   "source": [
    "# Getting today's date\n",
    "today1 = date.today()\n",
    " \n",
    "print(\"Today's date is\", today1)"
   ]
  },
  {
   "cell_type": "code",
   "execution_count": null,
   "metadata": {
    "colab": {
     "base_uri": "https://localhost:8080/"
    },
    "executionInfo": {
     "elapsed": 647,
     "status": "ok",
     "timestamp": 1681194035997,
     "user": {
      "displayName": "Jitendra Rathod",
      "userId": "08588782662248261812"
     },
     "user_tz": -330
    },
    "id": "009053e1",
    "outputId": "b0d7d52a-cc7e-424e-ebce-f9014e5ca53f"
   },
   "outputs": [
    {
     "data": {
      "text/plain": [
       "2"
      ]
     },
     "execution_count": 9,
     "metadata": {},
     "output_type": "execute_result"
    }
   ],
   "source": [
    "today1.isoweekday()"
   ]
  },
  {
   "cell_type": "code",
   "execution_count": null,
   "metadata": {
    "colab": {
     "base_uri": "https://localhost:8080/"
    },
    "executionInfo": {
     "elapsed": 2,
     "status": "ok",
     "timestamp": 1681194113710,
     "user": {
      "displayName": "Jitendra Rathod",
      "userId": "08588782662248261812"
     },
     "user_tz": -330
    },
    "id": "f591dae6",
    "outputId": "e54607f7-b37d-438f-9f6f-ca181369ca79"
   },
   "outputs": [
    {
     "name": "stdout",
     "output_type": "stream",
     "text": [
      "Current year: 2023\n",
      "Current month: 4\n",
      "Current day: 11\n"
     ]
    }
   ],
   "source": [
    "# Get Today’s Year, Month, and Date\n",
    "\n",
    "print(\"Current year:\", today1.year)\n",
    "print(\"Current month:\", today1.month)\n",
    "print(\"Current day:\", today1.day)"
   ]
  },
  {
   "cell_type": "code",
   "execution_count": null,
   "metadata": {
    "id": "a3579d96"
   },
   "outputs": [],
   "source": [
    "# Get date from datetime sub module\n",
    "from datetime import datetime  as dt\n"
   ]
  },
  {
   "cell_type": "code",
   "execution_count": null,
   "metadata": {
    "colab": {
     "base_uri": "https://localhost:8080/"
    },
    "executionInfo": {
     "elapsed": 2,
     "status": "ok",
     "timestamp": 1681194504763,
     "user": {
      "displayName": "Jitendra Rathod",
      "userId": "08588782662248261812"
     },
     "user_tz": -330
    },
    "id": "4a8b9c91",
    "outputId": "da53ea12-d287-4fe4-85a5-cdbf1dbc1879"
   },
   "outputs": [
    {
     "name": "stdout",
     "output_type": "stream",
     "text": [
      "2023-04-11 06:28:24.404944\n"
     ]
    }
   ],
   "source": [
    "date1=dt.now()\n",
    "'''\n",
    "The result from the .datetime.now() method contains the year, month, day, hour, minute, second,\n",
    "and microsecond (expressed as YYYY-MM-DD hh:mm:ss.ffffff).\n",
    "'''\n",
    "print(date1)"
   ]
  },
  {
   "cell_type": "code",
   "execution_count": null,
   "metadata": {
    "colab": {
     "base_uri": "https://localhost:8080/"
    },
    "executionInfo": {
     "elapsed": 813,
     "status": "ok",
     "timestamp": 1681194552294,
     "user": {
      "displayName": "Jitendra Rathod",
      "userId": "08588782662248261812"
     },
     "user_tz": -330
    },
    "id": "339fcf95",
    "outputId": "6a45dda4-4d46-4742-e9f8-ad456fb745f1"
   },
   "outputs": [
    {
     "data": {
      "text/plain": [
       "datetime.date(2023, 4, 11)"
      ]
     },
     "execution_count": 14,
     "metadata": {},
     "output_type": "execute_result"
    }
   ],
   "source": [
    "dt.date(date1)"
   ]
  },
  {
   "cell_type": "code",
   "execution_count": null,
   "metadata": {
    "colab": {
     "base_uri": "https://localhost:8080/"
    },
    "executionInfo": {
     "elapsed": 420,
     "status": "ok",
     "timestamp": 1681194580029,
     "user": {
      "displayName": "Jitendra Rathod",
      "userId": "08588782662248261812"
     },
     "user_tz": -330
    },
    "id": "a8cd79e2",
    "outputId": "df0b4a2e-f061-48cd-b7ba-6793fa30d8e1"
   },
   "outputs": [
    {
     "data": {
      "text/plain": [
       "11"
      ]
     },
     "execution_count": 15,
     "metadata": {},
     "output_type": "execute_result"
    }
   ],
   "source": [
    "date1.day"
   ]
  },
  {
   "cell_type": "code",
   "execution_count": null,
   "metadata": {
    "colab": {
     "base_uri": "https://localhost:8080/"
    },
    "executionInfo": {
     "elapsed": 1036,
     "status": "ok",
     "timestamp": 1681194586583,
     "user": {
      "displayName": "Jitendra Rathod",
      "userId": "08588782662248261812"
     },
     "user_tz": -330
    },
    "id": "e38c3730",
    "outputId": "8096c758-c34f-42b3-f068-cd22a5239a26"
   },
   "outputs": [
    {
     "data": {
      "text/plain": [
       "6"
      ]
     },
     "execution_count": 16,
     "metadata": {},
     "output_type": "execute_result"
    }
   ],
   "source": [
    "date1.hour"
   ]
  },
  {
   "cell_type": "code",
   "execution_count": null,
   "metadata": {
    "colab": {
     "base_uri": "https://localhost:8080/"
    },
    "executionInfo": {
     "elapsed": 861,
     "status": "ok",
     "timestamp": 1681194594745,
     "user": {
      "displayName": "Jitendra Rathod",
      "userId": "08588782662248261812"
     },
     "user_tz": -330
    },
    "id": "900a7abe",
    "outputId": "613f1a38-e46a-411f-b619-62fecac17a4d"
   },
   "outputs": [
    {
     "data": {
      "text/plain": [
       "2"
      ]
     },
     "execution_count": 17,
     "metadata": {},
     "output_type": "execute_result"
    }
   ],
   "source": [
    "date1.isoweekday()"
   ]
  },
  {
   "cell_type": "code",
   "execution_count": null,
   "metadata": {
    "colab": {
     "base_uri": "https://localhost:8080/"
    },
    "executionInfo": {
     "elapsed": 2,
     "status": "ok",
     "timestamp": 1681194600124,
     "user": {
      "displayName": "Jitendra Rathod",
      "userId": "08588782662248261812"
     },
     "user_tz": -330
    },
    "id": "cc387dd6",
    "outputId": "e647e707-a627-4237-e51c-fbd72055aa8a"
   },
   "outputs": [
    {
     "data": {
      "text/plain": [
       "4"
      ]
     },
     "execution_count": 18,
     "metadata": {},
     "output_type": "execute_result"
    }
   ],
   "source": [
    "date1.month"
   ]
  },
  {
   "cell_type": "code",
   "execution_count": null,
   "metadata": {
    "id": "87a933e1"
   },
   "outputs": [],
   "source": [
    "# Time submodule\n",
    "\n",
    "from datetime import time"
   ]
  },
  {
   "cell_type": "code",
   "execution_count": null,
   "metadata": {
    "colab": {
     "base_uri": "https://localhost:8080/"
    },
    "executionInfo": {
     "elapsed": 2,
     "status": "ok",
     "timestamp": 1681194737678,
     "user": {
      "displayName": "Jitendra Rathod",
      "userId": "08588782662248261812"
     },
     "user_tz": -330
    },
    "id": "dbf47ed8",
    "outputId": "3c0558c9-9fdf-4847-d6d3-36069ade99af"
   },
   "outputs": [
    {
     "name": "stdout",
     "output_type": "stream",
     "text": [
      "Entered time 12:45:59\n"
     ]
    }
   ],
   "source": [
    "my_time = time(12,45,59)\n",
    " \n",
    "print(\"Entered time\", my_time)"
   ]
  },
  {
   "cell_type": "code",
   "execution_count": null,
   "metadata": {
    "colab": {
     "base_uri": "https://localhost:8080/"
    },
    "executionInfo": {
     "elapsed": 7,
     "status": "ok",
     "timestamp": 1681195080184,
     "user": {
      "displayName": "Jitendra Rathod",
      "userId": "08588782662248261812"
     },
     "user_tz": -330
    },
    "id": "dfcb1bdd",
    "outputId": "3bc05ba9-5f66-4109-e0bf-091f632697c6"
   },
   "outputs": [
    {
     "data": {
      "text/plain": [
       "datetime.date(2025, 4, 10)"
      ]
     },
     "execution_count": 32,
     "metadata": {},
     "output_type": "execute_result"
    }
   ],
   "source": [
    "# Timedelta function demonstration\n",
    " \n",
    "from datetime import date, timedelta\n",
    "\n",
    "current_date = date.today()\n",
    "\n",
    "# Calculating future dates\n",
    "# for 730 days\n",
    "future_date_after_2yrs = current_date + timedelta(days=730)\n",
    "future_date_after_2yrs"
   ]
  },
  {
   "cell_type": "code",
   "execution_count": null,
   "metadata": {
    "colab": {
     "base_uri": "https://localhost:8080/"
    },
    "executionInfo": {
     "elapsed": 6,
     "status": "ok",
     "timestamp": 1681282790713,
     "user": {
      "displayName": "Jitendra Rathod",
      "userId": "08588782662248261812"
     },
     "user_tz": -330
    },
    "id": "10a5a45b",
    "outputId": "a8fdd236-7fb8-4d2f-e7df-4c897598c602"
   },
   "outputs": [
    {
     "data": {
      "text/plain": [
       "6"
      ]
     },
     "execution_count": 7,
     "metadata": {},
     "output_type": "execute_result"
    }
   ],
   "source": [
    "## Task:-Calculate your age after 5000 days.\n",
    "##The output should be in years\n",
    "from datetime import date, timedelta\n",
    "birth_date = date(1995,6,22)\n",
    "\n",
    "future_year = birth_date + timedelta(days=730)\n",
    "\n",
    "future_year.month"
   ]
  },
  {
   "cell_type": "markdown",
   "metadata": {
    "id": "VmMqu95Xg0-H"
   },
   "source": [
    "#Advance usefull Functions"
   ]
  },
  {
   "cell_type": "markdown",
   "metadata": {
    "id": "b49795bf"
   },
   "source": [
    "## Filter Function\n",
    "\n"
   ]
  },
  {
   "cell_type": "raw",
   "metadata": {
    "id": "6e9d5c6f"
   },
   "source": [
    "The filter() method filters the given sequence with the help of a function that tests each element in the sequence to be true or not."
   ]
  },
  {
   "cell_type": "code",
   "execution_count": null,
   "metadata": {
    "colab": {
     "base_uri": "https://localhost:8080/"
    },
    "executionInfo": {
     "elapsed": 913,
     "status": "ok",
     "timestamp": 1681195717521,
     "user": {
      "displayName": "Jitendra Rathod",
      "userId": "08588782662248261812"
     },
     "user_tz": -330
    },
    "id": "f1bcfa0d",
    "outputId": "33d48e16-667b-4dfc-b48b-99465e1a58c6"
   },
   "outputs": [
    {
     "name": "stdout",
     "output_type": "stream",
     "text": [
      "The filtered letters are:\n",
      "e\n",
      "e\n"
     ]
    }
   ],
   "source": [
    "# function that filters vowels\n",
    "def fun(variable):\n",
    "    letters = ['a', 'e', 'i', 'o', 'u']\n",
    "    if (variable in letters):\n",
    "        return True\n",
    "    else:\n",
    "        return False\n",
    "  \n",
    "  \n",
    "# sequence\n",
    "sequence = ['g', 'e', 'e', 'j', 'k', 's', 'p', 'r']\n",
    "  \n",
    "# using filter function\n",
    "filtered = filter(fun, sequence)\n",
    "  \n",
    "print('The filtered letters are:')\n",
    "for s in filtered:\n",
    "    print(s)"
   ]
  },
  {
   "cell_type": "code",
   "execution_count": null,
   "metadata": {
    "colab": {
     "base_uri": "https://localhost:8080/"
    },
    "executionInfo": {
     "elapsed": 6,
     "status": "ok",
     "timestamp": 1681275603472,
     "user": {
      "displayName": "Jitendra Rathod",
      "userId": "08588782662248261812"
     },
     "user_tz": -330
    },
    "id": "08c7354c",
    "outputId": "7178b521-94d2-495a-ba51-e963f843f400"
   },
   "outputs": [
    {
     "name": "stdout",
     "output_type": "stream",
     "text": [
      "[1, 3, 5, 13]\n",
      "[0, 2, 8]\n"
     ]
    }
   ],
   "source": [
    "# a list contains both even and odd numbers. \n",
    "seq = [0, 1, 2, 3, 5, 8, 13]\n",
    "  \n",
    "# result contains odd numbers of the list\n",
    "result = filter(lambda x: x % 2 != 0, seq)\n",
    "print(list(result))\n",
    "  \n",
    "# result contains even numbers of the list\n",
    "result = filter(lambda x: x % 2 == 0, seq)\n",
    "print(list(result))"
   ]
  },
  {
   "cell_type": "markdown",
   "metadata": {
    "id": "4eb23853"
   },
   "source": [
    "## Map Function"
   ]
  },
  {
   "cell_type": "raw",
   "metadata": {
    "id": "3c233d8d"
   },
   "source": [
    "map() function returns a map object(which is an iterator) of the results \n",
    "after applying the given function to each item of a given \n",
    "iterable (list, tuple etc.)\n",
    "\n"
   ]
  },
  {
   "cell_type": "code",
   "execution_count": null,
   "metadata": {
    "colab": {
     "base_uri": "https://localhost:8080/"
    },
    "executionInfo": {
     "elapsed": 5,
     "status": "ok",
     "timestamp": 1681276221639,
     "user": {
      "displayName": "Jitendra Rathod",
      "userId": "08588782662248261812"
     },
     "user_tz": -330
    },
    "id": "6f118feb",
    "outputId": "0999b67a-b81b-47fe-8082-8bfac8efbffd"
   },
   "outputs": [
    {
     "name": "stdout",
     "output_type": "stream",
     "text": [
      "[2, 4, 6, 8]\n"
     ]
    }
   ],
   "source": [
    "# Return double of n\n",
    "def addition(n):\n",
    "    return n + n\n",
    "  \n",
    "# We double all numbers using map()\n",
    "numbers = (1, 2, 3, 4)\n",
    "result = map(addition, numbers)\n",
    "print(list(result))"
   ]
  },
  {
   "cell_type": "code",
   "execution_count": null,
   "metadata": {
    "id": "9b787705"
   },
   "outputs": [],
   "source": [
    "# Double all numbers using map and lambda\n",
    "numbers = (1, 2, 3, 4)\n",
    "result = map(lambda x: x + x, numbers)\n",
    "print(list(result))"
   ]
  },
  {
   "cell_type": "code",
   "execution_count": null,
   "metadata": {
    "id": "5eb98f56"
   },
   "outputs": [],
   "source": [
    "print(list(result))"
   ]
  },
  {
   "cell_type": "code",
   "execution_count": null,
   "metadata": {
    "colab": {
     "base_uri": "https://localhost:8080/"
    },
    "executionInfo": {
     "elapsed": 7,
     "status": "ok",
     "timestamp": 1681276426242,
     "user": {
      "displayName": "Jitendra Rathod",
      "userId": "08588782662248261812"
     },
     "user_tz": -330
    },
    "id": "bd187431",
    "outputId": "671b5ebe-a4d4-4e00-82e5-3d163517a54f"
   },
   "outputs": [
    {
     "name": "stdout",
     "output_type": "stream",
     "text": [
      "[5, 7, 9]\n"
     ]
    }
   ],
   "source": [
    "# Add two lists using map and lambda\n",
    "  \n",
    "numbers1 = [1, 2, 3]\n",
    "numbers2 = [4, 5, 6]\n",
    "  \n",
    "result = map(lambda x, y: x + y, numbers1, numbers2)\n",
    "print(list(result))"
   ]
  },
  {
   "cell_type": "code",
   "execution_count": null,
   "metadata": {
    "colab": {
     "base_uri": "https://localhost:8080/"
    },
    "executionInfo": {
     "elapsed": 490,
     "status": "ok",
     "timestamp": 1681276716520,
     "user": {
      "displayName": "Jitendra Rathod",
      "userId": "08588782662248261812"
     },
     "user_tz": -330
    },
    "id": "92d8a52a",
    "outputId": "3fb80f78-e818-4191-af80-f9f16ffd5c05"
   },
   "outputs": [
    {
     "name": "stdout",
     "output_type": "stream",
     "text": [
      "[['s', 'a', 't'], ['b', 'a', 't'], ['c', 'a', 't'], ['m', 'a', 't']]\n"
     ]
    }
   ],
   "source": [
    "# List of strings\n",
    "l = ['sat', 'bat', 'cat', 'mat']\n",
    "  \n",
    "# map() can listify the list of strings individually\n",
    "test = list(map(list, l))\n",
    "print(test)"
   ]
  },
  {
   "cell_type": "markdown",
   "metadata": {
    "id": "74baea00"
   },
   "source": [
    "## Reduce Function"
   ]
  },
  {
   "cell_type": "raw",
   "metadata": {
    "id": "c01df593"
   },
   "source": [
    "The reduce(fun,seq) function is used to apply a particular function passed in\n",
    "its argument to all of the list elements mentioned in the sequence passed \n",
    "along.This function is defined in “functools” module."
   ]
  },
  {
   "cell_type": "code",
   "execution_count": null,
   "metadata": {
    "colab": {
     "base_uri": "https://localhost:8080/"
    },
    "executionInfo": {
     "elapsed": 583,
     "status": "ok",
     "timestamp": 1681277047785,
     "user": {
      "displayName": "Jitendra Rathod",
      "userId": "08588782662248261812"
     },
     "user_tz": -330
    },
    "id": "467efe2d",
    "outputId": "bcba32e9-fffc-4183-a6d5-2084620334c2"
   },
   "outputs": [
    {
     "name": "stdout",
     "output_type": "stream",
     "text": [
      "The sum of the list elements is : 17\n"
     ]
    }
   ],
   "source": [
    "# importing functools for reduce()\n",
    "import functools\n",
    " \n",
    "# initializing list\n",
    "lis = [1, 3, 5, 6, 2]\n",
    " \n",
    "# using reduce to compute sum of list\n",
    "print(\"The sum of the list elements is : \", end=\"\")\n",
    "print(functools.reduce(lambda a, b: a+b, lis))\n",
    " \n"
   ]
  },
  {
   "cell_type": "code",
   "execution_count": null,
   "metadata": {
    "colab": {
     "base_uri": "https://localhost:8080/"
    },
    "executionInfo": {
     "elapsed": 414,
     "status": "ok",
     "timestamp": 1681277591478,
     "user": {
      "displayName": "Jitendra Rathod",
      "userId": "08588782662248261812"
     },
     "user_tz": -330
    },
    "id": "af273d1f",
    "outputId": "40732934-ef69-4305-dd72-82a0e4a2f9d1"
   },
   "outputs": [
    {
     "name": "stdout",
     "output_type": "stream",
     "text": [
      "The maximum element of the list is : 6\n"
     ]
    }
   ],
   "source": [
    "# using reduce to compute maximum element from list\n",
    "print(\"The maximum element of the list is : \", end=\"\")\n",
    "print(functools.reduce(lambda a, b: a if a > b else b, lis))"
   ]
  },
  {
   "cell_type": "markdown",
   "metadata": {
    "id": "93722144"
   },
   "source": [
    "## All / Any Method\n",
    "\n",
    "\n",
    "\n"
   ]
  },
  {
   "cell_type": "raw",
   "metadata": {
    "id": "a4f5e776"
   },
   "source": [
    "The all() method returns:\n",
    "\n",
    "True - If all elements in a list are true\n",
    "False - If any element in a list is false\n",
    "\n",
    "The any() function returns True if any element in the list is True. \n",
    "If not, any() returns False."
   ]
  },
  {
   "cell_type": "code",
   "execution_count": null,
   "metadata": {
    "id": "a8410967"
   },
   "outputs": [],
   "source": [
    "L1  =  [1,2,3,0,6]"
   ]
  },
  {
   "cell_type": "code",
   "execution_count": null,
   "metadata": {
    "id": "0c7a9c78"
   },
   "outputs": [],
   "source": [
    "L3=[1,2,3,4,0]"
   ]
  },
  {
   "cell_type": "code",
   "execution_count": null,
   "metadata": {
    "colab": {
     "base_uri": "https://localhost:8080/"
    },
    "executionInfo": {
     "elapsed": 8,
     "status": "ok",
     "timestamp": 1681278460672,
     "user": {
      "displayName": "Jitendra Rathod",
      "userId": "08588782662248261812"
     },
     "user_tz": -330
    },
    "id": "90b5d4e5",
    "outputId": "512544d9-dcb6-4c55-c75f-5921388fe0b1"
   },
   "outputs": [
    {
     "data": {
      "text/plain": [
       "False"
      ]
     },
     "execution_count": 8,
     "metadata": {},
     "output_type": "execute_result"
    }
   ],
   "source": [
    "all(L3) # Will Return false as one value is false (Value 0)"
   ]
  },
  {
   "cell_type": "code",
   "execution_count": null,
   "metadata": {
    "colab": {
     "base_uri": "https://localhost:8080/"
    },
    "executionInfo": {
     "elapsed": 5,
     "status": "ok",
     "timestamp": 1681278519654,
     "user": {
      "displayName": "Jitendra Rathod",
      "userId": "08588782662248261812"
     },
     "user_tz": -330
    },
    "id": "481ab806",
    "outputId": "325cebba-95c8-412b-842b-31ba0c984628"
   },
   "outputs": [
    {
     "data": {
      "text/plain": [
       "True"
      ]
     },
     "execution_count": 13,
     "metadata": {},
     "output_type": "execute_result"
    }
   ],
   "source": [
    "any(L1)\t# Will Return True as we have items in the list with \n",
    "#True value"
   ]
  },
  {
   "cell_type": "code",
   "execution_count": null,
   "metadata": {
    "colab": {
     "base_uri": "https://localhost:8080/"
    },
    "executionInfo": {
     "elapsed": 3,
     "status": "ok",
     "timestamp": 1681278778766,
     "user": {
      "displayName": "Jitendra Rathod",
      "userId": "08588782662248261812"
     },
     "user_tz": -330
    },
    "id": "3096aad9",
    "outputId": "505339f6-ee92-4c94-9012-3949a2df5505"
   },
   "outputs": [
    {
     "name": "stdout",
     "output_type": "stream",
     "text": [
      "[0] <class 'list'>\n"
     ]
    }
   ],
   "source": [
    "L2  =  [0]\n",
    "\n",
    "\n",
    "print(L2,type(L2))"
   ]
  },
  {
   "cell_type": "code",
   "execution_count": null,
   "metadata": {
    "colab": {
     "base_uri": "https://localhost:8080/"
    },
    "executionInfo": {
     "elapsed": 470,
     "status": "ok",
     "timestamp": 1681278787744,
     "user": {
      "displayName": "Jitendra Rathod",
      "userId": "08588782662248261812"
     },
     "user_tz": -330
    },
    "id": "b87169d4",
    "outputId": "0ba00f5e-66a9-406c-e45c-9738ac746bfc"
   },
   "outputs": [
    {
     "data": {
      "text/plain": [
       "False"
      ]
     },
     "execution_count": 22,
     "metadata": {},
     "output_type": "execute_result"
    }
   ],
   "source": [
    "all(L2) # Returns false as one value is false"
   ]
  },
  {
   "cell_type": "code",
   "execution_count": null,
   "metadata": {
    "colab": {
     "base_uri": "https://localhost:8080/"
    },
    "executionInfo": {
     "elapsed": 911,
     "status": "ok",
     "timestamp": 1681278814061,
     "user": {
      "displayName": "Jitendra Rathod",
      "userId": "08588782662248261812"
     },
     "user_tz": -330
    },
    "id": "973c0c73",
    "outputId": "f8b15f3f-6e86-44f0-a4cc-a299319903e6"
   },
   "outputs": [
    {
     "data": {
      "text/plain": [
       "False"
      ]
     },
     "execution_count": 23,
     "metadata": {},
     "output_type": "execute_result"
    }
   ],
   "source": [
    "any(L2)"
   ]
  }
 ],
 "metadata": {
  "colab": {
   "authorship_tag": "ABX9TyOdzH8TEFVQon2oDch8BGfF",
   "provenance": []
  },
  "kernelspec": {
   "display_name": "Python 3 (ipykernel)",
   "language": "python",
   "name": "python3"
  },
  "language_info": {
   "codemirror_mode": {
    "name": "ipython",
    "version": 3
   },
   "file_extension": ".py",
   "mimetype": "text/x-python",
   "name": "python",
   "nbconvert_exporter": "python",
   "pygments_lexer": "ipython3",
   "version": "3.10.9"
  }
 },
 "nbformat": 4,
 "nbformat_minor": 4
}
